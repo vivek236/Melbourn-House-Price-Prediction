{
 "cells": [
  {
   "cell_type": "code",
   "execution_count": 1,
   "id": "a07f0cc7",
   "metadata": {
    "execution": {
     "iopub.execute_input": "2023-03-16T13:33:11.430063Z",
     "iopub.status.busy": "2023-03-16T13:33:11.429056Z",
     "iopub.status.idle": "2023-03-16T13:33:12.656517Z",
     "shell.execute_reply": "2023-03-16T13:33:12.655544Z"
    },
    "papermill": {
     "duration": 1.267266,
     "end_time": "2023-03-16T13:33:12.659480",
     "exception": false,
     "start_time": "2023-03-16T13:33:11.392214",
     "status": "completed"
    },
    "tags": []
   },
   "outputs": [],
   "source": [
    "import pandas as pd\n",
    "import numpy as np\n",
    "import matplotlib.pyplot as plt\n",
    "import seaborn as sns\n",
    "import warnings \n",
    "warnings.filterwarnings(\"ignore\")"
   ]
  },
  {
   "cell_type": "code",
   "execution_count": 2,
   "id": "017b10a3",
   "metadata": {
    "execution": {
     "iopub.execute_input": "2023-03-16T13:33:12.721499Z",
     "iopub.status.busy": "2023-03-16T13:33:12.721027Z",
     "iopub.status.idle": "2023-03-16T13:33:13.541156Z",
     "shell.execute_reply": "2023-03-16T13:33:13.539612Z"
    },
    "papermill": {
     "duration": 0.854853,
     "end_time": "2023-03-16T13:33:13.544417",
     "exception": false,
     "start_time": "2023-03-16T13:33:12.689564",
     "status": "completed"
    },
    "tags": []
   },
   "outputs": [],
   "source": [
    "df1 = pd.read_csv(\"/kaggle/input/melbourn/Melbourne_housing_FULL.csv\")\n",
    "df2 = pd.read_csv(\"/kaggle/input/melbourn/MELBOURNE_HOUSE_PRICES_LESS.csv\")"
   ]
  },
  {
   "cell_type": "code",
   "execution_count": 3,
   "id": "10595e31",
   "metadata": {
    "execution": {
     "iopub.execute_input": "2023-03-16T13:33:13.608884Z",
     "iopub.status.busy": "2023-03-16T13:33:13.608433Z",
     "iopub.status.idle": "2023-03-16T13:33:13.659331Z",
     "shell.execute_reply": "2023-03-16T13:33:13.658044Z"
    },
    "papermill": {
     "duration": 0.085489,
     "end_time": "2023-03-16T13:33:13.662459",
     "exception": false,
     "start_time": "2023-03-16T13:33:13.576970",
     "status": "completed"
    },
    "tags": []
   },
   "outputs": [
    {
     "data": {
      "text/html": [
       "<div>\n",
       "<style scoped>\n",
       "    .dataframe tbody tr th:only-of-type {\n",
       "        vertical-align: middle;\n",
       "    }\n",
       "\n",
       "    .dataframe tbody tr th {\n",
       "        vertical-align: top;\n",
       "    }\n",
       "\n",
       "    .dataframe thead th {\n",
       "        text-align: right;\n",
       "    }\n",
       "</style>\n",
       "<table border=\"1\" class=\"dataframe\">\n",
       "  <thead>\n",
       "    <tr style=\"text-align: right;\">\n",
       "      <th></th>\n",
       "      <th>Suburb</th>\n",
       "      <th>Address</th>\n",
       "      <th>Rooms</th>\n",
       "      <th>Type</th>\n",
       "      <th>Price</th>\n",
       "      <th>Method</th>\n",
       "      <th>SellerG</th>\n",
       "      <th>Date</th>\n",
       "      <th>Distance</th>\n",
       "      <th>Postcode</th>\n",
       "      <th>...</th>\n",
       "      <th>Bathroom</th>\n",
       "      <th>Car</th>\n",
       "      <th>Landsize</th>\n",
       "      <th>BuildingArea</th>\n",
       "      <th>YearBuilt</th>\n",
       "      <th>CouncilArea</th>\n",
       "      <th>Lattitude</th>\n",
       "      <th>Longtitude</th>\n",
       "      <th>Regionname</th>\n",
       "      <th>Propertycount</th>\n",
       "    </tr>\n",
       "  </thead>\n",
       "  <tbody>\n",
       "    <tr>\n",
       "      <th>0</th>\n",
       "      <td>Abbotsford</td>\n",
       "      <td>68 Studley St</td>\n",
       "      <td>2</td>\n",
       "      <td>h</td>\n",
       "      <td>NaN</td>\n",
       "      <td>SS</td>\n",
       "      <td>Jellis</td>\n",
       "      <td>3/09/2016</td>\n",
       "      <td>2.5</td>\n",
       "      <td>3067.0</td>\n",
       "      <td>...</td>\n",
       "      <td>1.0</td>\n",
       "      <td>1.0</td>\n",
       "      <td>126.0</td>\n",
       "      <td>NaN</td>\n",
       "      <td>NaN</td>\n",
       "      <td>Yarra City Council</td>\n",
       "      <td>-37.8014</td>\n",
       "      <td>144.9958</td>\n",
       "      <td>Northern Metropolitan</td>\n",
       "      <td>4019.0</td>\n",
       "    </tr>\n",
       "    <tr>\n",
       "      <th>1</th>\n",
       "      <td>Abbotsford</td>\n",
       "      <td>85 Turner St</td>\n",
       "      <td>2</td>\n",
       "      <td>h</td>\n",
       "      <td>1480000.0</td>\n",
       "      <td>S</td>\n",
       "      <td>Biggin</td>\n",
       "      <td>3/12/2016</td>\n",
       "      <td>2.5</td>\n",
       "      <td>3067.0</td>\n",
       "      <td>...</td>\n",
       "      <td>1.0</td>\n",
       "      <td>1.0</td>\n",
       "      <td>202.0</td>\n",
       "      <td>NaN</td>\n",
       "      <td>NaN</td>\n",
       "      <td>Yarra City Council</td>\n",
       "      <td>-37.7996</td>\n",
       "      <td>144.9984</td>\n",
       "      <td>Northern Metropolitan</td>\n",
       "      <td>4019.0</td>\n",
       "    </tr>\n",
       "    <tr>\n",
       "      <th>2</th>\n",
       "      <td>Abbotsford</td>\n",
       "      <td>25 Bloomburg St</td>\n",
       "      <td>2</td>\n",
       "      <td>h</td>\n",
       "      <td>1035000.0</td>\n",
       "      <td>S</td>\n",
       "      <td>Biggin</td>\n",
       "      <td>4/02/2016</td>\n",
       "      <td>2.5</td>\n",
       "      <td>3067.0</td>\n",
       "      <td>...</td>\n",
       "      <td>1.0</td>\n",
       "      <td>0.0</td>\n",
       "      <td>156.0</td>\n",
       "      <td>79.0</td>\n",
       "      <td>1900.0</td>\n",
       "      <td>Yarra City Council</td>\n",
       "      <td>-37.8079</td>\n",
       "      <td>144.9934</td>\n",
       "      <td>Northern Metropolitan</td>\n",
       "      <td>4019.0</td>\n",
       "    </tr>\n",
       "    <tr>\n",
       "      <th>3</th>\n",
       "      <td>Abbotsford</td>\n",
       "      <td>18/659 Victoria St</td>\n",
       "      <td>3</td>\n",
       "      <td>u</td>\n",
       "      <td>NaN</td>\n",
       "      <td>VB</td>\n",
       "      <td>Rounds</td>\n",
       "      <td>4/02/2016</td>\n",
       "      <td>2.5</td>\n",
       "      <td>3067.0</td>\n",
       "      <td>...</td>\n",
       "      <td>2.0</td>\n",
       "      <td>1.0</td>\n",
       "      <td>0.0</td>\n",
       "      <td>NaN</td>\n",
       "      <td>NaN</td>\n",
       "      <td>Yarra City Council</td>\n",
       "      <td>-37.8114</td>\n",
       "      <td>145.0116</td>\n",
       "      <td>Northern Metropolitan</td>\n",
       "      <td>4019.0</td>\n",
       "    </tr>\n",
       "    <tr>\n",
       "      <th>4</th>\n",
       "      <td>Abbotsford</td>\n",
       "      <td>5 Charles St</td>\n",
       "      <td>3</td>\n",
       "      <td>h</td>\n",
       "      <td>1465000.0</td>\n",
       "      <td>SP</td>\n",
       "      <td>Biggin</td>\n",
       "      <td>4/03/2017</td>\n",
       "      <td>2.5</td>\n",
       "      <td>3067.0</td>\n",
       "      <td>...</td>\n",
       "      <td>2.0</td>\n",
       "      <td>0.0</td>\n",
       "      <td>134.0</td>\n",
       "      <td>150.0</td>\n",
       "      <td>1900.0</td>\n",
       "      <td>Yarra City Council</td>\n",
       "      <td>-37.8093</td>\n",
       "      <td>144.9944</td>\n",
       "      <td>Northern Metropolitan</td>\n",
       "      <td>4019.0</td>\n",
       "    </tr>\n",
       "  </tbody>\n",
       "</table>\n",
       "<p>5 rows × 21 columns</p>\n",
       "</div>"
      ],
      "text/plain": [
       "       Suburb             Address  Rooms Type      Price Method SellerG  \\\n",
       "0  Abbotsford       68 Studley St      2    h        NaN     SS  Jellis   \n",
       "1  Abbotsford        85 Turner St      2    h  1480000.0      S  Biggin   \n",
       "2  Abbotsford     25 Bloomburg St      2    h  1035000.0      S  Biggin   \n",
       "3  Abbotsford  18/659 Victoria St      3    u        NaN     VB  Rounds   \n",
       "4  Abbotsford        5 Charles St      3    h  1465000.0     SP  Biggin   \n",
       "\n",
       "        Date  Distance  Postcode  ...  Bathroom  Car  Landsize  BuildingArea  \\\n",
       "0  3/09/2016       2.5    3067.0  ...       1.0  1.0     126.0           NaN   \n",
       "1  3/12/2016       2.5    3067.0  ...       1.0  1.0     202.0           NaN   \n",
       "2  4/02/2016       2.5    3067.0  ...       1.0  0.0     156.0          79.0   \n",
       "3  4/02/2016       2.5    3067.0  ...       2.0  1.0       0.0           NaN   \n",
       "4  4/03/2017       2.5    3067.0  ...       2.0  0.0     134.0         150.0   \n",
       "\n",
       "   YearBuilt         CouncilArea Lattitude  Longtitude             Regionname  \\\n",
       "0        NaN  Yarra City Council  -37.8014    144.9958  Northern Metropolitan   \n",
       "1        NaN  Yarra City Council  -37.7996    144.9984  Northern Metropolitan   \n",
       "2     1900.0  Yarra City Council  -37.8079    144.9934  Northern Metropolitan   \n",
       "3        NaN  Yarra City Council  -37.8114    145.0116  Northern Metropolitan   \n",
       "4     1900.0  Yarra City Council  -37.8093    144.9944  Northern Metropolitan   \n",
       "\n",
       "  Propertycount  \n",
       "0        4019.0  \n",
       "1        4019.0  \n",
       "2        4019.0  \n",
       "3        4019.0  \n",
       "4        4019.0  \n",
       "\n",
       "[5 rows x 21 columns]"
      ]
     },
     "execution_count": 3,
     "metadata": {},
     "output_type": "execute_result"
    }
   ],
   "source": [
    "df1.head()"
   ]
  },
  {
   "cell_type": "code",
   "execution_count": 4,
   "id": "58d91222",
   "metadata": {
    "execution": {
     "iopub.execute_input": "2023-03-16T13:33:13.725923Z",
     "iopub.status.busy": "2023-03-16T13:33:13.724950Z",
     "iopub.status.idle": "2023-03-16T13:33:13.731509Z",
     "shell.execute_reply": "2023-03-16T13:33:13.730684Z"
    },
    "papermill": {
     "duration": 0.040459,
     "end_time": "2023-03-16T13:33:13.733583",
     "exception": false,
     "start_time": "2023-03-16T13:33:13.693124",
     "status": "completed"
    },
    "tags": []
   },
   "outputs": [
    {
     "data": {
      "text/plain": [
       "(34857, 21)"
      ]
     },
     "execution_count": 4,
     "metadata": {},
     "output_type": "execute_result"
    }
   ],
   "source": [
    "df1.shape"
   ]
  },
  {
   "cell_type": "code",
   "execution_count": 5,
   "id": "dc604235",
   "metadata": {
    "execution": {
     "iopub.execute_input": "2023-03-16T13:33:13.797124Z",
     "iopub.status.busy": "2023-03-16T13:33:13.796318Z",
     "iopub.status.idle": "2023-03-16T13:33:13.815034Z",
     "shell.execute_reply": "2023-03-16T13:33:13.813737Z"
    },
    "papermill": {
     "duration": 0.053327,
     "end_time": "2023-03-16T13:33:13.817736",
     "exception": false,
     "start_time": "2023-03-16T13:33:13.764409",
     "status": "completed"
    },
    "tags": []
   },
   "outputs": [
    {
     "data": {
      "text/html": [
       "<div>\n",
       "<style scoped>\n",
       "    .dataframe tbody tr th:only-of-type {\n",
       "        vertical-align: middle;\n",
       "    }\n",
       "\n",
       "    .dataframe tbody tr th {\n",
       "        vertical-align: top;\n",
       "    }\n",
       "\n",
       "    .dataframe thead th {\n",
       "        text-align: right;\n",
       "    }\n",
       "</style>\n",
       "<table border=\"1\" class=\"dataframe\">\n",
       "  <thead>\n",
       "    <tr style=\"text-align: right;\">\n",
       "      <th></th>\n",
       "      <th>Suburb</th>\n",
       "      <th>Address</th>\n",
       "      <th>Rooms</th>\n",
       "      <th>Type</th>\n",
       "      <th>Price</th>\n",
       "      <th>Method</th>\n",
       "      <th>SellerG</th>\n",
       "      <th>Date</th>\n",
       "      <th>Postcode</th>\n",
       "      <th>Regionname</th>\n",
       "      <th>Propertycount</th>\n",
       "      <th>Distance</th>\n",
       "      <th>CouncilArea</th>\n",
       "    </tr>\n",
       "  </thead>\n",
       "  <tbody>\n",
       "    <tr>\n",
       "      <th>0</th>\n",
       "      <td>Abbotsford</td>\n",
       "      <td>49 Lithgow St</td>\n",
       "      <td>3</td>\n",
       "      <td>h</td>\n",
       "      <td>1490000.0</td>\n",
       "      <td>S</td>\n",
       "      <td>Jellis</td>\n",
       "      <td>1/04/2017</td>\n",
       "      <td>3067</td>\n",
       "      <td>Northern Metropolitan</td>\n",
       "      <td>4019</td>\n",
       "      <td>3.0</td>\n",
       "      <td>Yarra City Council</td>\n",
       "    </tr>\n",
       "    <tr>\n",
       "      <th>1</th>\n",
       "      <td>Abbotsford</td>\n",
       "      <td>59A Turner St</td>\n",
       "      <td>3</td>\n",
       "      <td>h</td>\n",
       "      <td>1220000.0</td>\n",
       "      <td>S</td>\n",
       "      <td>Marshall</td>\n",
       "      <td>1/04/2017</td>\n",
       "      <td>3067</td>\n",
       "      <td>Northern Metropolitan</td>\n",
       "      <td>4019</td>\n",
       "      <td>3.0</td>\n",
       "      <td>Yarra City Council</td>\n",
       "    </tr>\n",
       "    <tr>\n",
       "      <th>2</th>\n",
       "      <td>Abbotsford</td>\n",
       "      <td>119B Yarra St</td>\n",
       "      <td>3</td>\n",
       "      <td>h</td>\n",
       "      <td>1420000.0</td>\n",
       "      <td>S</td>\n",
       "      <td>Nelson</td>\n",
       "      <td>1/04/2017</td>\n",
       "      <td>3067</td>\n",
       "      <td>Northern Metropolitan</td>\n",
       "      <td>4019</td>\n",
       "      <td>3.0</td>\n",
       "      <td>Yarra City Council</td>\n",
       "    </tr>\n",
       "    <tr>\n",
       "      <th>3</th>\n",
       "      <td>Aberfeldie</td>\n",
       "      <td>68 Vida St</td>\n",
       "      <td>3</td>\n",
       "      <td>h</td>\n",
       "      <td>1515000.0</td>\n",
       "      <td>S</td>\n",
       "      <td>Barry</td>\n",
       "      <td>1/04/2017</td>\n",
       "      <td>3040</td>\n",
       "      <td>Western Metropolitan</td>\n",
       "      <td>1543</td>\n",
       "      <td>7.5</td>\n",
       "      <td>Moonee Valley City Council</td>\n",
       "    </tr>\n",
       "    <tr>\n",
       "      <th>4</th>\n",
       "      <td>Airport West</td>\n",
       "      <td>92 Clydesdale Rd</td>\n",
       "      <td>2</td>\n",
       "      <td>h</td>\n",
       "      <td>670000.0</td>\n",
       "      <td>S</td>\n",
       "      <td>Nelson</td>\n",
       "      <td>1/04/2017</td>\n",
       "      <td>3042</td>\n",
       "      <td>Western Metropolitan</td>\n",
       "      <td>3464</td>\n",
       "      <td>10.4</td>\n",
       "      <td>Moonee Valley City Council</td>\n",
       "    </tr>\n",
       "  </tbody>\n",
       "</table>\n",
       "</div>"
      ],
      "text/plain": [
       "         Suburb           Address  Rooms Type      Price Method   SellerG  \\\n",
       "0    Abbotsford     49 Lithgow St      3    h  1490000.0      S    Jellis   \n",
       "1    Abbotsford     59A Turner St      3    h  1220000.0      S  Marshall   \n",
       "2    Abbotsford     119B Yarra St      3    h  1420000.0      S    Nelson   \n",
       "3    Aberfeldie        68 Vida St      3    h  1515000.0      S     Barry   \n",
       "4  Airport West  92 Clydesdale Rd      2    h   670000.0      S    Nelson   \n",
       "\n",
       "        Date  Postcode             Regionname  Propertycount  Distance  \\\n",
       "0  1/04/2017      3067  Northern Metropolitan           4019       3.0   \n",
       "1  1/04/2017      3067  Northern Metropolitan           4019       3.0   \n",
       "2  1/04/2017      3067  Northern Metropolitan           4019       3.0   \n",
       "3  1/04/2017      3040   Western Metropolitan           1543       7.5   \n",
       "4  1/04/2017      3042   Western Metropolitan           3464      10.4   \n",
       "\n",
       "                  CouncilArea  \n",
       "0          Yarra City Council  \n",
       "1          Yarra City Council  \n",
       "2          Yarra City Council  \n",
       "3  Moonee Valley City Council  \n",
       "4  Moonee Valley City Council  "
      ]
     },
     "execution_count": 5,
     "metadata": {},
     "output_type": "execute_result"
    }
   ],
   "source": [
    "df2.head()"
   ]
  },
  {
   "cell_type": "code",
   "execution_count": 6,
   "id": "e240e14e",
   "metadata": {
    "execution": {
     "iopub.execute_input": "2023-03-16T13:33:13.881235Z",
     "iopub.status.busy": "2023-03-16T13:33:13.880752Z",
     "iopub.status.idle": "2023-03-16T13:33:13.888232Z",
     "shell.execute_reply": "2023-03-16T13:33:13.887068Z"
    },
    "papermill": {
     "duration": 0.042133,
     "end_time": "2023-03-16T13:33:13.890562",
     "exception": false,
     "start_time": "2023-03-16T13:33:13.848429",
     "status": "completed"
    },
    "tags": []
   },
   "outputs": [
    {
     "data": {
      "text/plain": [
       "(63023, 13)"
      ]
     },
     "execution_count": 6,
     "metadata": {},
     "output_type": "execute_result"
    }
   ],
   "source": [
    "df2.shape"
   ]
  },
  {
   "cell_type": "code",
   "execution_count": 7,
   "id": "3ddda3c1",
   "metadata": {
    "execution": {
     "iopub.execute_input": "2023-03-16T13:33:13.954044Z",
     "iopub.status.busy": "2023-03-16T13:33:13.953592Z",
     "iopub.status.idle": "2023-03-16T13:33:14.211048Z",
     "shell.execute_reply": "2023-03-16T13:33:14.209691Z"
    },
    "papermill": {
     "duration": 0.292515,
     "end_time": "2023-03-16T13:33:14.213982",
     "exception": false,
     "start_time": "2023-03-16T13:33:13.921467",
     "status": "completed"
    },
    "tags": []
   },
   "outputs": [],
   "source": [
    "df = df1.merge(df2,how = 'outer')"
   ]
  },
  {
   "cell_type": "code",
   "execution_count": 8,
   "id": "dd21a865",
   "metadata": {
    "execution": {
     "iopub.execute_input": "2023-03-16T13:33:14.277454Z",
     "iopub.status.busy": "2023-03-16T13:33:14.276988Z",
     "iopub.status.idle": "2023-03-16T13:33:14.328667Z",
     "shell.execute_reply": "2023-03-16T13:33:14.327415Z"
    },
    "papermill": {
     "duration": 0.086556,
     "end_time": "2023-03-16T13:33:14.331145",
     "exception": false,
     "start_time": "2023-03-16T13:33:14.244589",
     "status": "completed"
    },
    "tags": []
   },
   "outputs": [
    {
     "data": {
      "text/html": [
       "<div>\n",
       "<style scoped>\n",
       "    .dataframe tbody tr th:only-of-type {\n",
       "        vertical-align: middle;\n",
       "    }\n",
       "\n",
       "    .dataframe tbody tr th {\n",
       "        vertical-align: top;\n",
       "    }\n",
       "\n",
       "    .dataframe thead th {\n",
       "        text-align: right;\n",
       "    }\n",
       "</style>\n",
       "<table border=\"1\" class=\"dataframe\">\n",
       "  <thead>\n",
       "    <tr style=\"text-align: right;\">\n",
       "      <th></th>\n",
       "      <th>Suburb</th>\n",
       "      <th>Address</th>\n",
       "      <th>Rooms</th>\n",
       "      <th>Type</th>\n",
       "      <th>Price</th>\n",
       "      <th>Method</th>\n",
       "      <th>SellerG</th>\n",
       "      <th>Date</th>\n",
       "      <th>Distance</th>\n",
       "      <th>Postcode</th>\n",
       "      <th>...</th>\n",
       "      <th>Bathroom</th>\n",
       "      <th>Car</th>\n",
       "      <th>Landsize</th>\n",
       "      <th>BuildingArea</th>\n",
       "      <th>YearBuilt</th>\n",
       "      <th>CouncilArea</th>\n",
       "      <th>Lattitude</th>\n",
       "      <th>Longtitude</th>\n",
       "      <th>Regionname</th>\n",
       "      <th>Propertycount</th>\n",
       "    </tr>\n",
       "  </thead>\n",
       "  <tbody>\n",
       "    <tr>\n",
       "      <th>66035</th>\n",
       "      <td>Pascoe Vale</td>\n",
       "      <td>6 Kitchener Rd</td>\n",
       "      <td>3</td>\n",
       "      <td>t</td>\n",
       "      <td>826000.0</td>\n",
       "      <td>S</td>\n",
       "      <td>Nelson</td>\n",
       "      <td>23/12/2017</td>\n",
       "      <td>8.5</td>\n",
       "      <td>3044.0</td>\n",
       "      <td>...</td>\n",
       "      <td>NaN</td>\n",
       "      <td>NaN</td>\n",
       "      <td>NaN</td>\n",
       "      <td>NaN</td>\n",
       "      <td>NaN</td>\n",
       "      <td>Moreland City Council</td>\n",
       "      <td>NaN</td>\n",
       "      <td>NaN</td>\n",
       "      <td>Northern Metropolitan</td>\n",
       "      <td>7485.0</td>\n",
       "    </tr>\n",
       "    <tr>\n",
       "      <th>76137</th>\n",
       "      <td>Bentleigh</td>\n",
       "      <td>12A Hutchinson St</td>\n",
       "      <td>3</td>\n",
       "      <td>t</td>\n",
       "      <td>1185000.0</td>\n",
       "      <td>S</td>\n",
       "      <td>Jellis</td>\n",
       "      <td>30/12/2017</td>\n",
       "      <td>11.4</td>\n",
       "      <td>3204.0</td>\n",
       "      <td>...</td>\n",
       "      <td>NaN</td>\n",
       "      <td>NaN</td>\n",
       "      <td>NaN</td>\n",
       "      <td>NaN</td>\n",
       "      <td>NaN</td>\n",
       "      <td>Glen Eira City Council</td>\n",
       "      <td>NaN</td>\n",
       "      <td>NaN</td>\n",
       "      <td>Southern Metropolitan</td>\n",
       "      <td>6795.0</td>\n",
       "    </tr>\n",
       "    <tr>\n",
       "      <th>35875</th>\n",
       "      <td>Prahran</td>\n",
       "      <td>11/297 Dandenong Rd</td>\n",
       "      <td>2</td>\n",
       "      <td>u</td>\n",
       "      <td>512500.0</td>\n",
       "      <td>S</td>\n",
       "      <td>Marshall</td>\n",
       "      <td>1/09/2018</td>\n",
       "      <td>4.6</td>\n",
       "      <td>3181.0</td>\n",
       "      <td>...</td>\n",
       "      <td>NaN</td>\n",
       "      <td>NaN</td>\n",
       "      <td>NaN</td>\n",
       "      <td>NaN</td>\n",
       "      <td>NaN</td>\n",
       "      <td>Stonnington City Council</td>\n",
       "      <td>NaN</td>\n",
       "      <td>NaN</td>\n",
       "      <td>Southern Metropolitan</td>\n",
       "      <td>7717.0</td>\n",
       "    </tr>\n",
       "    <tr>\n",
       "      <th>11358</th>\n",
       "      <td>Hawthorn East</td>\n",
       "      <td>3/39 Mayston St</td>\n",
       "      <td>2</td>\n",
       "      <td>u</td>\n",
       "      <td>887000.0</td>\n",
       "      <td>S</td>\n",
       "      <td>Marshall</td>\n",
       "      <td>10/09/2016</td>\n",
       "      <td>7.5</td>\n",
       "      <td>3123.0</td>\n",
       "      <td>...</td>\n",
       "      <td>2.0</td>\n",
       "      <td>2.0</td>\n",
       "      <td>0.0</td>\n",
       "      <td>NaN</td>\n",
       "      <td>2001.0</td>\n",
       "      <td>Boroondara City Council</td>\n",
       "      <td>-37.8267</td>\n",
       "      <td>145.0538</td>\n",
       "      <td>Southern Metropolitan</td>\n",
       "      <td>6482.0</td>\n",
       "    </tr>\n",
       "    <tr>\n",
       "      <th>4728</th>\n",
       "      <td>Glen Iris</td>\n",
       "      <td>4 Allison Av</td>\n",
       "      <td>4</td>\n",
       "      <td>h</td>\n",
       "      <td>NaN</td>\n",
       "      <td>S</td>\n",
       "      <td>Jellis</td>\n",
       "      <td>28/08/2016</td>\n",
       "      <td>9.2</td>\n",
       "      <td>3146.0</td>\n",
       "      <td>...</td>\n",
       "      <td>NaN</td>\n",
       "      <td>NaN</td>\n",
       "      <td>NaN</td>\n",
       "      <td>NaN</td>\n",
       "      <td>NaN</td>\n",
       "      <td>Boroondara City Council</td>\n",
       "      <td>NaN</td>\n",
       "      <td>NaN</td>\n",
       "      <td>Southern Metropolitan</td>\n",
       "      <td>10412.0</td>\n",
       "    </tr>\n",
       "  </tbody>\n",
       "</table>\n",
       "<p>5 rows × 21 columns</p>\n",
       "</div>"
      ],
      "text/plain": [
       "              Suburb              Address  Rooms Type      Price Method  \\\n",
       "66035    Pascoe Vale       6 Kitchener Rd      3    t   826000.0      S   \n",
       "76137      Bentleigh    12A Hutchinson St      3    t  1185000.0      S   \n",
       "35875        Prahran  11/297 Dandenong Rd      2    u   512500.0      S   \n",
       "11358  Hawthorn East      3/39 Mayston St      2    u   887000.0      S   \n",
       "4728       Glen Iris         4 Allison Av      4    h        NaN      S   \n",
       "\n",
       "        SellerG        Date  Distance  Postcode  ...  Bathroom  Car  Landsize  \\\n",
       "66035    Nelson  23/12/2017       8.5    3044.0  ...       NaN  NaN       NaN   \n",
       "76137    Jellis  30/12/2017      11.4    3204.0  ...       NaN  NaN       NaN   \n",
       "35875  Marshall   1/09/2018       4.6    3181.0  ...       NaN  NaN       NaN   \n",
       "11358  Marshall  10/09/2016       7.5    3123.0  ...       2.0  2.0       0.0   \n",
       "4728     Jellis  28/08/2016       9.2    3146.0  ...       NaN  NaN       NaN   \n",
       "\n",
       "       BuildingArea  YearBuilt               CouncilArea Lattitude  \\\n",
       "66035           NaN        NaN     Moreland City Council       NaN   \n",
       "76137           NaN        NaN    Glen Eira City Council       NaN   \n",
       "35875           NaN        NaN  Stonnington City Council       NaN   \n",
       "11358           NaN     2001.0   Boroondara City Council  -37.8267   \n",
       "4728            NaN        NaN   Boroondara City Council       NaN   \n",
       "\n",
       "       Longtitude             Regionname Propertycount  \n",
       "66035         NaN  Northern Metropolitan        7485.0  \n",
       "76137         NaN  Southern Metropolitan        6795.0  \n",
       "35875         NaN  Southern Metropolitan        7717.0  \n",
       "11358    145.0538  Southern Metropolitan        6482.0  \n",
       "4728          NaN  Southern Metropolitan       10412.0  \n",
       "\n",
       "[5 rows x 21 columns]"
      ]
     },
     "execution_count": 8,
     "metadata": {},
     "output_type": "execute_result"
    }
   ],
   "source": [
    "df.sample(5)"
   ]
  },
  {
   "cell_type": "code",
   "execution_count": 9,
   "id": "3e539f61",
   "metadata": {
    "execution": {
     "iopub.execute_input": "2023-03-16T13:33:14.395711Z",
     "iopub.status.busy": "2023-03-16T13:33:14.394577Z",
     "iopub.status.idle": "2023-03-16T13:33:14.402484Z",
     "shell.execute_reply": "2023-03-16T13:33:14.401123Z"
    },
    "papermill": {
     "duration": 0.042722,
     "end_time": "2023-03-16T13:33:14.404881",
     "exception": false,
     "start_time": "2023-03-16T13:33:14.362159",
     "status": "completed"
    },
    "tags": []
   },
   "outputs": [
    {
     "data": {
      "text/plain": [
       "(76883, 21)"
      ]
     },
     "execution_count": 9,
     "metadata": {},
     "output_type": "execute_result"
    }
   ],
   "source": [
    "df.shape"
   ]
  },
  {
   "cell_type": "markdown",
   "id": "b8c2222b",
   "metadata": {
    "papermill": {
     "duration": 0.030728,
     "end_time": "2023-03-16T13:33:14.466998",
     "exception": false,
     "start_time": "2023-03-16T13:33:14.436270",
     "status": "completed"
    },
    "tags": []
   },
   "source": [
    "### Data Cleaning "
   ]
  },
  {
   "cell_type": "code",
   "execution_count": 10,
   "id": "ec3e11d3",
   "metadata": {
    "execution": {
     "iopub.execute_input": "2023-03-16T13:33:14.531617Z",
     "iopub.status.busy": "2023-03-16T13:33:14.530421Z",
     "iopub.status.idle": "2023-03-16T13:33:14.583079Z",
     "shell.execute_reply": "2023-03-16T13:33:14.581284Z"
    },
    "papermill": {
     "duration": 0.08799,
     "end_time": "2023-03-16T13:33:14.585930",
     "exception": false,
     "start_time": "2023-03-16T13:33:14.497940",
     "status": "completed"
    },
    "tags": []
   },
   "outputs": [
    {
     "name": "stdout",
     "output_type": "stream",
     "text": [
      "<class 'pandas.core.frame.DataFrame'>\n",
      "Int64Index: 76883 entries, 0 to 76882\n",
      "Data columns (total 21 columns):\n",
      " #   Column         Non-Null Count  Dtype  \n",
      "---  ------         --------------  -----  \n",
      " 0   Suburb         76883 non-null  object \n",
      " 1   Address        76883 non-null  object \n",
      " 2   Rooms          76883 non-null  int64  \n",
      " 3   Type           76883 non-null  object \n",
      " 4   Price          59226 non-null  float64\n",
      " 5   Method         76883 non-null  object \n",
      " 6   SellerG        76883 non-null  object \n",
      " 7   Date           76883 non-null  object \n",
      " 8   Distance       76882 non-null  float64\n",
      " 9   Postcode       76882 non-null  float64\n",
      " 10  Bedroom2       26642 non-null  float64\n",
      " 11  Bathroom       26633 non-null  float64\n",
      " 12  Car            26131 non-null  float64\n",
      " 13  Landsize       23049 non-null  float64\n",
      " 14  BuildingArea   13744 non-null  float64\n",
      " 15  YearBuilt      15553 non-null  float64\n",
      " 16  CouncilArea    76880 non-null  object \n",
      " 17  Lattitude      26883 non-null  float64\n",
      " 18  Longtitude     26883 non-null  float64\n",
      " 19  Regionname     76880 non-null  object \n",
      " 20  Propertycount  76880 non-null  float64\n",
      "dtypes: float64(12), int64(1), object(8)\n",
      "memory usage: 12.9+ MB\n"
     ]
    }
   ],
   "source": [
    "df.info()"
   ]
  },
  {
   "cell_type": "code",
   "execution_count": 11,
   "id": "3212df87",
   "metadata": {
    "execution": {
     "iopub.execute_input": "2023-03-16T13:33:14.650628Z",
     "iopub.status.busy": "2023-03-16T13:33:14.649810Z",
     "iopub.status.idle": "2023-03-16T13:33:14.691907Z",
     "shell.execute_reply": "2023-03-16T13:33:14.690794Z"
    },
    "papermill": {
     "duration": 0.077175,
     "end_time": "2023-03-16T13:33:14.694386",
     "exception": false,
     "start_time": "2023-03-16T13:33:14.617211",
     "status": "completed"
    },
    "tags": []
   },
   "outputs": [
    {
     "data": {
      "text/plain": [
       "Suburb            0.000000\n",
       "Address           0.000000\n",
       "Rooms             0.000000\n",
       "Type              0.000000\n",
       "Price            22.966065\n",
       "Method            0.000000\n",
       "SellerG           0.000000\n",
       "Date              0.000000\n",
       "Distance          0.001301\n",
       "Postcode          0.001301\n",
       "Bedroom2         65.347346\n",
       "Bathroom         65.359052\n",
       "Car              66.011992\n",
       "Landsize         70.020681\n",
       "BuildingArea     82.123486\n",
       "YearBuilt        79.770560\n",
       "CouncilArea       0.003902\n",
       "Lattitude        65.033883\n",
       "Longtitude       65.033883\n",
       "Regionname        0.003902\n",
       "Propertycount     0.003902\n",
       "dtype: float64"
      ]
     },
     "execution_count": 11,
     "metadata": {},
     "output_type": "execute_result"
    }
   ],
   "source": [
    "df.isnull().mean()*100"
   ]
  },
  {
   "cell_type": "markdown",
   "id": "edf1a5b9",
   "metadata": {
    "papermill": {
     "duration": 0.031514,
     "end_time": "2023-03-16T13:33:14.758304",
     "exception": false,
     "start_time": "2023-03-16T13:33:14.726790",
     "status": "completed"
    },
    "tags": []
   },
   "source": [
    "    There are many columans which have more than 65% of null values so we will drop those column because if we will impute some value in that it will missguide the model"
   ]
  },
  {
   "cell_type": "code",
   "execution_count": 12,
   "id": "379d9e00",
   "metadata": {
    "execution": {
     "iopub.execute_input": "2023-03-16T13:33:14.824539Z",
     "iopub.status.busy": "2023-03-16T13:33:14.824098Z",
     "iopub.status.idle": "2023-03-16T13:33:14.838731Z",
     "shell.execute_reply": "2023-03-16T13:33:14.837661Z"
    },
    "papermill": {
     "duration": 0.051115,
     "end_time": "2023-03-16T13:33:14.841477",
     "exception": false,
     "start_time": "2023-03-16T13:33:14.790362",
     "status": "completed"
    },
    "tags": []
   },
   "outputs": [],
   "source": [
    "# Removing unnecesary columns from data\n",
    "\n",
    "df.drop([\"Bedroom2\", \"Bathroom\", \"Car\",\"Landsize\",\"BuildingArea\",\"YearBuilt\",\"Lattitude\",\"Longtitude\"],axis = 1,inplace = True)"
   ]
  },
  {
   "cell_type": "code",
   "execution_count": 13,
   "id": "30a725a9",
   "metadata": {
    "execution": {
     "iopub.execute_input": "2023-03-16T13:33:14.907629Z",
     "iopub.status.busy": "2023-03-16T13:33:14.906975Z",
     "iopub.status.idle": "2023-03-16T13:33:14.914950Z",
     "shell.execute_reply": "2023-03-16T13:33:14.913780Z"
    },
    "papermill": {
     "duration": 0.043646,
     "end_time": "2023-03-16T13:33:14.917355",
     "exception": false,
     "start_time": "2023-03-16T13:33:14.873709",
     "status": "completed"
    },
    "tags": []
   },
   "outputs": [
    {
     "data": {
      "text/plain": [
       "(76883, 13)"
      ]
     },
     "execution_count": 13,
     "metadata": {},
     "output_type": "execute_result"
    }
   ],
   "source": [
    "df.shape"
   ]
  },
  {
   "cell_type": "code",
   "execution_count": 14,
   "id": "278397c4",
   "metadata": {
    "execution": {
     "iopub.execute_input": "2023-03-16T13:33:14.984398Z",
     "iopub.status.busy": "2023-03-16T13:33:14.982993Z",
     "iopub.status.idle": "2023-03-16T13:33:15.007970Z",
     "shell.execute_reply": "2023-03-16T13:33:15.006949Z"
    },
    "papermill": {
     "duration": 0.061562,
     "end_time": "2023-03-16T13:33:15.010637",
     "exception": false,
     "start_time": "2023-03-16T13:33:14.949075",
     "status": "completed"
    },
    "tags": []
   },
   "outputs": [
    {
     "data": {
      "text/html": [
       "<div>\n",
       "<style scoped>\n",
       "    .dataframe tbody tr th:only-of-type {\n",
       "        vertical-align: middle;\n",
       "    }\n",
       "\n",
       "    .dataframe tbody tr th {\n",
       "        vertical-align: top;\n",
       "    }\n",
       "\n",
       "    .dataframe thead th {\n",
       "        text-align: right;\n",
       "    }\n",
       "</style>\n",
       "<table border=\"1\" class=\"dataframe\">\n",
       "  <thead>\n",
       "    <tr style=\"text-align: right;\">\n",
       "      <th></th>\n",
       "      <th>Suburb</th>\n",
       "      <th>Address</th>\n",
       "      <th>Rooms</th>\n",
       "      <th>Type</th>\n",
       "      <th>Price</th>\n",
       "      <th>Method</th>\n",
       "      <th>SellerG</th>\n",
       "      <th>Date</th>\n",
       "      <th>Distance</th>\n",
       "      <th>Postcode</th>\n",
       "      <th>CouncilArea</th>\n",
       "      <th>Regionname</th>\n",
       "      <th>Propertycount</th>\n",
       "    </tr>\n",
       "  </thead>\n",
       "  <tbody>\n",
       "    <tr>\n",
       "      <th>51062</th>\n",
       "      <td>South Morang</td>\n",
       "      <td>11 Tintern Tce</td>\n",
       "      <td>3</td>\n",
       "      <td>t</td>\n",
       "      <td>430000.0</td>\n",
       "      <td>S</td>\n",
       "      <td>Ray</td>\n",
       "      <td>13/05/2017</td>\n",
       "      <td>20.5</td>\n",
       "      <td>3752.0</td>\n",
       "      <td>Whittlesea City Council</td>\n",
       "      <td>Northern Metropolitan</td>\n",
       "      <td>7969.0</td>\n",
       "    </tr>\n",
       "    <tr>\n",
       "      <th>39872</th>\n",
       "      <td>Bentleigh East</td>\n",
       "      <td>13a Clements St</td>\n",
       "      <td>2</td>\n",
       "      <td>t</td>\n",
       "      <td>837000.0</td>\n",
       "      <td>S</td>\n",
       "      <td>Buxton</td>\n",
       "      <td>5/05/2018</td>\n",
       "      <td>13.8</td>\n",
       "      <td>3165.0</td>\n",
       "      <td>Glen Eira City Council</td>\n",
       "      <td>Southern Metropolitan</td>\n",
       "      <td>10969.0</td>\n",
       "    </tr>\n",
       "    <tr>\n",
       "      <th>17360</th>\n",
       "      <td>Thomastown</td>\n",
       "      <td>18 Plane St</td>\n",
       "      <td>3</td>\n",
       "      <td>h</td>\n",
       "      <td>630000.0</td>\n",
       "      <td>SP</td>\n",
       "      <td>YPA</td>\n",
       "      <td>27/05/2017</td>\n",
       "      <td>15.3</td>\n",
       "      <td>3074.0</td>\n",
       "      <td>Whittlesea City Council</td>\n",
       "      <td>Northern Metropolitan</td>\n",
       "      <td>7955.0</td>\n",
       "    </tr>\n",
       "    <tr>\n",
       "      <th>58771</th>\n",
       "      <td>Moonee Ponds</td>\n",
       "      <td>54b Salisbury St</td>\n",
       "      <td>3</td>\n",
       "      <td>t</td>\n",
       "      <td>842500.0</td>\n",
       "      <td>S</td>\n",
       "      <td>Jellis</td>\n",
       "      <td>18/06/2016</td>\n",
       "      <td>6.2</td>\n",
       "      <td>3039.0</td>\n",
       "      <td>Moonee Valley City Council</td>\n",
       "      <td>Western Metropolitan</td>\n",
       "      <td>6232.0</td>\n",
       "    </tr>\n",
       "    <tr>\n",
       "      <th>25188</th>\n",
       "      <td>Malvern East</td>\n",
       "      <td>13 Epping St</td>\n",
       "      <td>5</td>\n",
       "      <td>h</td>\n",
       "      <td>3501000.0</td>\n",
       "      <td>S</td>\n",
       "      <td>Marshall</td>\n",
       "      <td>21/10/2017</td>\n",
       "      <td>8.4</td>\n",
       "      <td>3145.0</td>\n",
       "      <td>Stonnington City Council</td>\n",
       "      <td>Southern Metropolitan</td>\n",
       "      <td>8801.0</td>\n",
       "    </tr>\n",
       "  </tbody>\n",
       "</table>\n",
       "</div>"
      ],
      "text/plain": [
       "               Suburb           Address  Rooms Type      Price Method  \\\n",
       "51062    South Morang    11 Tintern Tce      3    t   430000.0      S   \n",
       "39872  Bentleigh East   13a Clements St      2    t   837000.0      S   \n",
       "17360      Thomastown       18 Plane St      3    h   630000.0     SP   \n",
       "58771    Moonee Ponds  54b Salisbury St      3    t   842500.0      S   \n",
       "25188    Malvern East      13 Epping St      5    h  3501000.0      S   \n",
       "\n",
       "        SellerG        Date  Distance  Postcode                 CouncilArea  \\\n",
       "51062       Ray  13/05/2017      20.5    3752.0     Whittlesea City Council   \n",
       "39872    Buxton   5/05/2018      13.8    3165.0      Glen Eira City Council   \n",
       "17360       YPA  27/05/2017      15.3    3074.0     Whittlesea City Council   \n",
       "58771    Jellis  18/06/2016       6.2    3039.0  Moonee Valley City Council   \n",
       "25188  Marshall  21/10/2017       8.4    3145.0    Stonnington City Council   \n",
       "\n",
       "                  Regionname  Propertycount  \n",
       "51062  Northern Metropolitan         7969.0  \n",
       "39872  Southern Metropolitan        10969.0  \n",
       "17360  Northern Metropolitan         7955.0  \n",
       "58771   Western Metropolitan         6232.0  \n",
       "25188  Southern Metropolitan         8801.0  "
      ]
     },
     "execution_count": 14,
     "metadata": {},
     "output_type": "execute_result"
    }
   ],
   "source": [
    "df.sample(5)"
   ]
  },
  {
   "cell_type": "code",
   "execution_count": 15,
   "id": "bac311e0",
   "metadata": {
    "execution": {
     "iopub.execute_input": "2023-03-16T13:33:15.078154Z",
     "iopub.status.busy": "2023-03-16T13:33:15.077330Z",
     "iopub.status.idle": "2023-03-16T13:33:15.118699Z",
     "shell.execute_reply": "2023-03-16T13:33:15.117351Z"
    },
    "papermill": {
     "duration": 0.078604,
     "end_time": "2023-03-16T13:33:15.121548",
     "exception": false,
     "start_time": "2023-03-16T13:33:15.042944",
     "status": "completed"
    },
    "tags": []
   },
   "outputs": [
    {
     "data": {
      "text/plain": [
       "Suburb               0\n",
       "Address              0\n",
       "Rooms                0\n",
       "Type                 0\n",
       "Price            17657\n",
       "Method               0\n",
       "SellerG              0\n",
       "Date                 0\n",
       "Distance             1\n",
       "Postcode             1\n",
       "CouncilArea          3\n",
       "Regionname           3\n",
       "Propertycount        3\n",
       "dtype: int64"
      ]
     },
     "execution_count": 15,
     "metadata": {},
     "output_type": "execute_result"
    }
   ],
   "source": [
    "df.isnull().sum()"
   ]
  },
  {
   "cell_type": "code",
   "execution_count": 16,
   "id": "0300db01",
   "metadata": {
    "execution": {
     "iopub.execute_input": "2023-03-16T13:33:15.188618Z",
     "iopub.status.busy": "2023-03-16T13:33:15.188165Z",
     "iopub.status.idle": "2023-03-16T13:33:15.220237Z",
     "shell.execute_reply": "2023-03-16T13:33:15.218846Z"
    },
    "papermill": {
     "duration": 0.069252,
     "end_time": "2023-03-16T13:33:15.223155",
     "exception": false,
     "start_time": "2023-03-16T13:33:15.153903",
     "status": "completed"
    },
    "tags": []
   },
   "outputs": [],
   "source": [
    "# dropping rows with null values\n",
    "\n",
    "df = df.dropna(subset=['Distance', 'Postcode','CouncilArea','Regionname','Propertycount'])"
   ]
  },
  {
   "cell_type": "code",
   "execution_count": 17,
   "id": "ba04740a",
   "metadata": {
    "execution": {
     "iopub.execute_input": "2023-03-16T13:33:15.290747Z",
     "iopub.status.busy": "2023-03-16T13:33:15.289974Z",
     "iopub.status.idle": "2023-03-16T13:33:15.298466Z",
     "shell.execute_reply": "2023-03-16T13:33:15.297170Z"
    },
    "papermill": {
     "duration": 0.045118,
     "end_time": "2023-03-16T13:33:15.301239",
     "exception": false,
     "start_time": "2023-03-16T13:33:15.256121",
     "status": "completed"
    },
    "tags": []
   },
   "outputs": [],
   "source": [
    "# filling null values with mean of values in the price column\n",
    "\n",
    "mean=df['Price'].mean()\n",
    "df['Price'].fillna(value=mean, inplace=True)"
   ]
  },
  {
   "cell_type": "code",
   "execution_count": 18,
   "id": "3f312a18",
   "metadata": {
    "execution": {
     "iopub.execute_input": "2023-03-16T13:33:15.367995Z",
     "iopub.status.busy": "2023-03-16T13:33:15.367003Z",
     "iopub.status.idle": "2023-03-16T13:33:15.409203Z",
     "shell.execute_reply": "2023-03-16T13:33:15.408265Z"
    },
    "papermill": {
     "duration": 0.07818,
     "end_time": "2023-03-16T13:33:15.411684",
     "exception": false,
     "start_time": "2023-03-16T13:33:15.333504",
     "status": "completed"
    },
    "tags": []
   },
   "outputs": [
    {
     "data": {
      "text/plain": [
       "Suburb           0\n",
       "Address          0\n",
       "Rooms            0\n",
       "Type             0\n",
       "Price            0\n",
       "Method           0\n",
       "SellerG          0\n",
       "Date             0\n",
       "Distance         0\n",
       "Postcode         0\n",
       "CouncilArea      0\n",
       "Regionname       0\n",
       "Propertycount    0\n",
       "dtype: int64"
      ]
     },
     "execution_count": 18,
     "metadata": {},
     "output_type": "execute_result"
    }
   ],
   "source": [
    "df.isnull().sum()"
   ]
  },
  {
   "cell_type": "markdown",
   "id": "edd7d956",
   "metadata": {
    "papermill": {
     "duration": 0.031717,
     "end_time": "2023-03-16T13:33:15.475926",
     "exception": false,
     "start_time": "2023-03-16T13:33:15.444209",
     "status": "completed"
    },
    "tags": []
   },
   "source": [
    "    since we can see that there is no null values since we have filled or removed the rows"
   ]
  },
  {
   "cell_type": "code",
   "execution_count": 19,
   "id": "40f46fb9",
   "metadata": {
    "execution": {
     "iopub.execute_input": "2023-03-16T13:33:15.541773Z",
     "iopub.status.busy": "2023-03-16T13:33:15.541369Z",
     "iopub.status.idle": "2023-03-16T13:33:15.548000Z",
     "shell.execute_reply": "2023-03-16T13:33:15.546837Z"
    },
    "papermill": {
     "duration": 0.043017,
     "end_time": "2023-03-16T13:33:15.550621",
     "exception": false,
     "start_time": "2023-03-16T13:33:15.507604",
     "status": "completed"
    },
    "tags": []
   },
   "outputs": [
    {
     "data": {
      "text/plain": [
       "(76880, 13)"
      ]
     },
     "execution_count": 19,
     "metadata": {},
     "output_type": "execute_result"
    }
   ],
   "source": [
    "df.shape"
   ]
  },
  {
   "cell_type": "markdown",
   "id": "95890bf2",
   "metadata": {
    "papermill": {
     "duration": 0.031684,
     "end_time": "2023-03-16T13:33:15.615285",
     "exception": false,
     "start_time": "2023-03-16T13:33:15.583601",
     "status": "completed"
    },
    "tags": []
   },
   "source": [
    "####  Finding out the duplicate rows:-"
   ]
  },
  {
   "cell_type": "code",
   "execution_count": 20,
   "id": "cbfb5208",
   "metadata": {
    "execution": {
     "iopub.execute_input": "2023-03-16T13:33:15.681124Z",
     "iopub.status.busy": "2023-03-16T13:33:15.680727Z",
     "iopub.status.idle": "2023-03-16T13:33:15.766136Z",
     "shell.execute_reply": "2023-03-16T13:33:15.765240Z"
    },
    "papermill": {
     "duration": 0.121371,
     "end_time": "2023-03-16T13:33:15.768581",
     "exception": false,
     "start_time": "2023-03-16T13:33:15.647210",
     "status": "completed"
    },
    "tags": []
   },
   "outputs": [
    {
     "data": {
      "text/plain": [
       "4"
      ]
     },
     "execution_count": 20,
     "metadata": {},
     "output_type": "execute_result"
    }
   ],
   "source": [
    "# Checking Duplicate rows\n",
    "\n",
    "df.duplicated().sum()"
   ]
  },
  {
   "cell_type": "code",
   "execution_count": 21,
   "id": "876eaf9a",
   "metadata": {
    "execution": {
     "iopub.execute_input": "2023-03-16T13:33:15.835015Z",
     "iopub.status.busy": "2023-03-16T13:33:15.834567Z",
     "iopub.status.idle": "2023-03-16T13:33:15.932915Z",
     "shell.execute_reply": "2023-03-16T13:33:15.931153Z"
    },
    "papermill": {
     "duration": 0.134773,
     "end_time": "2023-03-16T13:33:15.935542",
     "exception": false,
     "start_time": "2023-03-16T13:33:15.800769",
     "status": "completed"
    },
    "tags": []
   },
   "outputs": [
    {
     "name": "stdout",
     "output_type": "stream",
     "text": [
      "Duplicate Rows :\n"
     ]
    },
    {
     "data": {
      "text/html": [
       "<div>\n",
       "<style scoped>\n",
       "    .dataframe tbody tr th:only-of-type {\n",
       "        vertical-align: middle;\n",
       "    }\n",
       "\n",
       "    .dataframe tbody tr th {\n",
       "        vertical-align: top;\n",
       "    }\n",
       "\n",
       "    .dataframe thead th {\n",
       "        text-align: right;\n",
       "    }\n",
       "</style>\n",
       "<table border=\"1\" class=\"dataframe\">\n",
       "  <thead>\n",
       "    <tr style=\"text-align: right;\">\n",
       "      <th></th>\n",
       "      <th>Suburb</th>\n",
       "      <th>Address</th>\n",
       "      <th>Rooms</th>\n",
       "      <th>Type</th>\n",
       "      <th>Price</th>\n",
       "      <th>Method</th>\n",
       "      <th>SellerG</th>\n",
       "      <th>Date</th>\n",
       "      <th>Distance</th>\n",
       "      <th>Postcode</th>\n",
       "      <th>CouncilArea</th>\n",
       "      <th>Regionname</th>\n",
       "      <th>Propertycount</th>\n",
       "    </tr>\n",
       "  </thead>\n",
       "  <tbody>\n",
       "    <tr>\n",
       "      <th>15858</th>\n",
       "      <td>Nunawading</td>\n",
       "      <td>1/7 Lilian St</td>\n",
       "      <td>3</td>\n",
       "      <td>t</td>\n",
       "      <td>1.012202e+06</td>\n",
       "      <td>SP</td>\n",
       "      <td>Jellis</td>\n",
       "      <td>17/06/2017</td>\n",
       "      <td>15.4</td>\n",
       "      <td>3131.0</td>\n",
       "      <td>Manningham City Council</td>\n",
       "      <td>Eastern Metropolitan</td>\n",
       "      <td>4973.0</td>\n",
       "    </tr>\n",
       "    <tr>\n",
       "      <th>15859</th>\n",
       "      <td>Nunawading</td>\n",
       "      <td>1/7 Lilian St</td>\n",
       "      <td>3</td>\n",
       "      <td>t</td>\n",
       "      <td>1.012202e+06</td>\n",
       "      <td>SP</td>\n",
       "      <td>Jellis</td>\n",
       "      <td>17/06/2017</td>\n",
       "      <td>15.4</td>\n",
       "      <td>3131.0</td>\n",
       "      <td>Manningham City Council</td>\n",
       "      <td>Eastern Metropolitan</td>\n",
       "      <td>4973.0</td>\n",
       "    </tr>\n",
       "    <tr>\n",
       "      <th>15860</th>\n",
       "      <td>Nunawading</td>\n",
       "      <td>1/7 Lilian St</td>\n",
       "      <td>3</td>\n",
       "      <td>t</td>\n",
       "      <td>1.012202e+06</td>\n",
       "      <td>SP</td>\n",
       "      <td>Jellis</td>\n",
       "      <td>17/06/2017</td>\n",
       "      <td>15.4</td>\n",
       "      <td>3131.0</td>\n",
       "      <td>Manningham City Council</td>\n",
       "      <td>Eastern Metropolitan</td>\n",
       "      <td>4973.0</td>\n",
       "    </tr>\n",
       "    <tr>\n",
       "      <th>40057</th>\n",
       "      <td>Fitzroy North</td>\n",
       "      <td>5/16 Taplin St</td>\n",
       "      <td>2</td>\n",
       "      <td>h</td>\n",
       "      <td>1.010000e+06</td>\n",
       "      <td>SP</td>\n",
       "      <td>Woodards</td>\n",
       "      <td>5/05/2018</td>\n",
       "      <td>3.6</td>\n",
       "      <td>3068.0</td>\n",
       "      <td>Moreland City Council</td>\n",
       "      <td>Northern Metropolitan</td>\n",
       "      <td>6244.0</td>\n",
       "    </tr>\n",
       "  </tbody>\n",
       "</table>\n",
       "</div>"
      ],
      "text/plain": [
       "              Suburb         Address  Rooms Type         Price Method  \\\n",
       "15858     Nunawading   1/7 Lilian St      3    t  1.012202e+06     SP   \n",
       "15859     Nunawading   1/7 Lilian St      3    t  1.012202e+06     SP   \n",
       "15860     Nunawading   1/7 Lilian St      3    t  1.012202e+06     SP   \n",
       "40057  Fitzroy North  5/16 Taplin St      2    h  1.010000e+06     SP   \n",
       "\n",
       "        SellerG        Date  Distance  Postcode              CouncilArea  \\\n",
       "15858    Jellis  17/06/2017      15.4    3131.0  Manningham City Council   \n",
       "15859    Jellis  17/06/2017      15.4    3131.0  Manningham City Council   \n",
       "15860    Jellis  17/06/2017      15.4    3131.0  Manningham City Council   \n",
       "40057  Woodards   5/05/2018       3.6    3068.0    Moreland City Council   \n",
       "\n",
       "                  Regionname  Propertycount  \n",
       "15858   Eastern Metropolitan         4973.0  \n",
       "15859   Eastern Metropolitan         4973.0  \n",
       "15860   Eastern Metropolitan         4973.0  \n",
       "40057  Northern Metropolitan         6244.0  "
      ]
     },
     "execution_count": 21,
     "metadata": {},
     "output_type": "execute_result"
    }
   ],
   "source": [
    "# displaying duplicate rows\n",
    "\n",
    "duplicate = df[df.duplicated()]\n",
    " \n",
    "print(\"Duplicate Rows :\")\n",
    " \n",
    "# Print the resultant Dataframe\n",
    "duplicate.head()"
   ]
  },
  {
   "cell_type": "code",
   "execution_count": 22,
   "id": "4495a9cd",
   "metadata": {
    "execution": {
     "iopub.execute_input": "2023-03-16T13:33:16.002845Z",
     "iopub.status.busy": "2023-03-16T13:33:16.002404Z",
     "iopub.status.idle": "2023-03-16T13:33:16.095100Z",
     "shell.execute_reply": "2023-03-16T13:33:16.093840Z"
    },
    "papermill": {
     "duration": 0.129655,
     "end_time": "2023-03-16T13:33:16.097982",
     "exception": false,
     "start_time": "2023-03-16T13:33:15.968327",
     "status": "completed"
    },
    "tags": []
   },
   "outputs": [
    {
     "data": {
      "text/plain": [
       "(76876, 13)"
      ]
     },
     "execution_count": 22,
     "metadata": {},
     "output_type": "execute_result"
    }
   ],
   "source": [
    "# dropping the duplicate rows\n",
    "\n",
    "df.drop_duplicates(keep='first', inplace=True)\n",
    "\n",
    "df.shape"
   ]
  },
  {
   "cell_type": "markdown",
   "id": "ac2817d9",
   "metadata": {
    "papermill": {
     "duration": 0.03263,
     "end_time": "2023-03-16T13:33:16.163530",
     "exception": false,
     "start_time": "2023-03-16T13:33:16.130900",
     "status": "completed"
    },
    "tags": []
   },
   "source": [
    "## Data Visualization "
   ]
  },
  {
   "cell_type": "code",
   "execution_count": 23,
   "id": "dec11a5f",
   "metadata": {
    "execution": {
     "iopub.execute_input": "2023-03-16T13:33:16.231264Z",
     "iopub.status.busy": "2023-03-16T13:33:16.230823Z",
     "iopub.status.idle": "2023-03-16T13:33:16.238501Z",
     "shell.execute_reply": "2023-03-16T13:33:16.237237Z"
    },
    "papermill": {
     "duration": 0.044424,
     "end_time": "2023-03-16T13:33:16.240901",
     "exception": false,
     "start_time": "2023-03-16T13:33:16.196477",
     "status": "completed"
    },
    "tags": []
   },
   "outputs": [
    {
     "data": {
      "text/plain": [
       "Index(['Suburb', 'Address', 'Rooms', 'Type', 'Price', 'Method', 'SellerG',\n",
       "       'Date', 'Distance', 'Postcode', 'CouncilArea', 'Regionname',\n",
       "       'Propertycount'],\n",
       "      dtype='object')"
      ]
     },
     "execution_count": 23,
     "metadata": {},
     "output_type": "execute_result"
    }
   ],
   "source": [
    "df.columns"
   ]
  },
  {
   "cell_type": "code",
   "execution_count": 24,
   "id": "67f93d53",
   "metadata": {
    "execution": {
     "iopub.execute_input": "2023-03-16T13:33:16.309369Z",
     "iopub.status.busy": "2023-03-16T13:33:16.308885Z",
     "iopub.status.idle": "2023-03-16T13:33:16.317857Z",
     "shell.execute_reply": "2023-03-16T13:33:16.316596Z"
    },
    "papermill": {
     "duration": 0.046702,
     "end_time": "2023-03-16T13:33:16.320434",
     "exception": false,
     "start_time": "2023-03-16T13:33:16.273732",
     "status": "completed"
    },
    "tags": []
   },
   "outputs": [
    {
     "data": {
      "text/plain": [
       "Suburb            object\n",
       "Address           object\n",
       "Rooms              int64\n",
       "Type              object\n",
       "Price            float64\n",
       "Method            object\n",
       "SellerG           object\n",
       "Date              object\n",
       "Distance         float64\n",
       "Postcode         float64\n",
       "CouncilArea       object\n",
       "Regionname        object\n",
       "Propertycount    float64\n",
       "dtype: object"
      ]
     },
     "execution_count": 24,
     "metadata": {},
     "output_type": "execute_result"
    }
   ],
   "source": [
    "df.dtypes"
   ]
  },
  {
   "cell_type": "markdown",
   "id": "ffc3fdbd",
   "metadata": {
    "papermill": {
     "duration": 0.032617,
     "end_time": "2023-03-16T13:33:16.386054",
     "exception": false,
     "start_time": "2023-03-16T13:33:16.353437",
     "status": "completed"
    },
    "tags": []
   },
   "source": [
    "### Univariate analysis For Categorical Features "
   ]
  },
  {
   "cell_type": "markdown",
   "id": "652af67d",
   "metadata": {
    "papermill": {
     "duration": 0.034439,
     "end_time": "2023-03-16T13:33:16.453466",
     "exception": false,
     "start_time": "2023-03-16T13:33:16.419027",
     "status": "completed"
    },
    "tags": []
   },
   "source": [
    "#### For Suburb :- "
   ]
  },
  {
   "cell_type": "markdown",
   "id": "77bcfa34",
   "metadata": {
    "papermill": {
     "duration": 0.032484,
     "end_time": "2023-03-16T13:33:16.519706",
     "exception": false,
     "start_time": "2023-03-16T13:33:16.487222",
     "status": "completed"
    },
    "tags": []
   },
   "source": [
    "Suburb means residential area"
   ]
  },
  {
   "cell_type": "code",
   "execution_count": 25,
   "id": "b9801a14",
   "metadata": {
    "execution": {
     "iopub.execute_input": "2023-03-16T13:33:16.588380Z",
     "iopub.status.busy": "2023-03-16T13:33:16.587925Z",
     "iopub.status.idle": "2023-03-16T13:33:16.601129Z",
     "shell.execute_reply": "2023-03-16T13:33:16.599890Z"
    },
    "papermill": {
     "duration": 0.051034,
     "end_time": "2023-03-16T13:33:16.603836",
     "exception": false,
     "start_time": "2023-03-16T13:33:16.552802",
     "status": "completed"
    },
    "tags": []
   },
   "outputs": [
    {
     "data": {
      "text/plain": [
       "380"
      ]
     },
     "execution_count": 25,
     "metadata": {},
     "output_type": "execute_result"
    }
   ],
   "source": [
    "# checking unique values\n",
    "\n",
    "df[\"Suburb\"].nunique()"
   ]
  },
  {
   "cell_type": "code",
   "execution_count": 26,
   "id": "ede204da",
   "metadata": {
    "execution": {
     "iopub.execute_input": "2023-03-16T13:33:16.672815Z",
     "iopub.status.busy": "2023-03-16T13:33:16.672412Z",
     "iopub.status.idle": "2023-03-16T13:33:16.774839Z",
     "shell.execute_reply": "2023-03-16T13:33:16.773581Z"
    },
    "papermill": {
     "duration": 0.139901,
     "end_time": "2023-03-16T13:33:16.777524",
     "exception": false,
     "start_time": "2023-03-16T13:33:16.637623",
     "status": "completed"
    },
    "tags": []
   },
   "outputs": [
    {
     "name": "stdout",
     "output_type": "stream",
     "text": [
      "Total no of house counts for top 10 Suburb :\n"
     ]
    },
    {
     "data": {
      "text/html": [
       "<style type=\"text/css\">\n",
       "#T_e63e1_row0_col0 {\n",
       "  background-color: #ffc77f;\n",
       "  color: #000000;\n",
       "}\n",
       "#T_e63e1_row1_col0 {\n",
       "  background-color: #7a4d31;\n",
       "  color: #f1f1f1;\n",
       "}\n",
       "#T_e63e1_row2_col0 {\n",
       "  background-color: #6e462c;\n",
       "  color: #f1f1f1;\n",
       "}\n",
       "#T_e63e1_row3_col0 {\n",
       "  background-color: #332014;\n",
       "  color: #f1f1f1;\n",
       "}\n",
       "#T_e63e1_row4_col0 {\n",
       "  background-color: #26180f;\n",
       "  color: #f1f1f1;\n",
       "}\n",
       "#T_e63e1_row5_col0 {\n",
       "  background-color: #23160e;\n",
       "  color: #f1f1f1;\n",
       "}\n",
       "#T_e63e1_row6_col0 {\n",
       "  background-color: #0a0604;\n",
       "  color: #f1f1f1;\n",
       "}\n",
       "#T_e63e1_row7_col0 {\n",
       "  background-color: #070503;\n",
       "  color: #f1f1f1;\n",
       "}\n",
       "#T_e63e1_row8_col0 {\n",
       "  background-color: #020201;\n",
       "  color: #f1f1f1;\n",
       "}\n",
       "#T_e63e1_row9_col0 {\n",
       "  background-color: #000000;\n",
       "  color: #f1f1f1;\n",
       "}\n",
       "</style>\n",
       "<table id=\"T_e63e1_\">\n",
       "  <thead>\n",
       "    <tr>\n",
       "      <th class=\"blank level0\" >&nbsp;</th>\n",
       "      <th class=\"col_heading level0 col0\" >Suburb</th>\n",
       "    </tr>\n",
       "  </thead>\n",
       "  <tbody>\n",
       "    <tr>\n",
       "      <th id=\"T_e63e1_level0_row0\" class=\"row_heading level0 row0\" >Reservoir</th>\n",
       "      <td id=\"T_e63e1_row0_col0\" class=\"data row0 col0\" >1685</td>\n",
       "    </tr>\n",
       "    <tr>\n",
       "      <th id=\"T_e63e1_level0_row1\" class=\"row_heading level0 row1\" >Bentleigh East</th>\n",
       "      <td id=\"T_e63e1_row1_col0\" class=\"data row1 col0\" >1159</td>\n",
       "    </tr>\n",
       "    <tr>\n",
       "      <th id=\"T_e63e1_level0_row2\" class=\"row_heading level0 row2\" >Richmond</th>\n",
       "      <td id=\"T_e63e1_row2_col0\" class=\"data row2 col0\" >1123</td>\n",
       "    </tr>\n",
       "    <tr>\n",
       "      <th id=\"T_e63e1_level0_row3\" class=\"row_heading level0 row3\" >Preston</th>\n",
       "      <td id=\"T_e63e1_row3_col0\" class=\"data row3 col0\" >962</td>\n",
       "    </tr>\n",
       "    <tr>\n",
       "      <th id=\"T_e63e1_level0_row4\" class=\"row_heading level0 row4\" >Glen Iris</th>\n",
       "      <td id=\"T_e63e1_row4_col0\" class=\"data row4 col0\" >928</td>\n",
       "    </tr>\n",
       "    <tr>\n",
       "      <th id=\"T_e63e1_level0_row5\" class=\"row_heading level0 row5\" >Kew</th>\n",
       "      <td id=\"T_e63e1_row5_col0\" class=\"data row5 col0\" >919</td>\n",
       "    </tr>\n",
       "    <tr>\n",
       "      <th id=\"T_e63e1_level0_row6\" class=\"row_heading level0 row6\" >Brighton</th>\n",
       "      <td id=\"T_e63e1_row6_col0\" class=\"data row6 col0\" >850</td>\n",
       "    </tr>\n",
       "    <tr>\n",
       "      <th id=\"T_e63e1_level0_row7\" class=\"row_heading level0 row7\" >South Yarra</th>\n",
       "      <td id=\"T_e63e1_row7_col0\" class=\"data row7 col0\" >845</td>\n",
       "    </tr>\n",
       "    <tr>\n",
       "      <th id=\"T_e63e1_level0_row8\" class=\"row_heading level0 row8\" >Mount Waverley</th>\n",
       "      <td id=\"T_e63e1_row8_col0\" class=\"data row8 col0\" >831</td>\n",
       "    </tr>\n",
       "    <tr>\n",
       "      <th id=\"T_e63e1_level0_row9\" class=\"row_heading level0 row9\" >Northcote</th>\n",
       "      <td id=\"T_e63e1_row9_col0\" class=\"data row9 col0\" >823</td>\n",
       "    </tr>\n",
       "  </tbody>\n",
       "</table>\n"
      ],
      "text/plain": [
       "<pandas.io.formats.style.Styler at 0x7ff9ddd94690>"
      ]
     },
     "execution_count": 26,
     "metadata": {},
     "output_type": "execute_result"
    }
   ],
   "source": [
    "print(\"Total no of house counts for top 10 Suburb :\")\n",
    "\n",
    "df[\"Suburb\"].value_counts().nlargest(10).to_frame().style.background_gradient(cmap='copper')"
   ]
  },
  {
   "cell_type": "code",
   "execution_count": 27,
   "id": "1c8a6c93",
   "metadata": {
    "execution": {
     "iopub.execute_input": "2023-03-16T13:33:16.848874Z",
     "iopub.status.busy": "2023-03-16T13:33:16.848009Z",
     "iopub.status.idle": "2023-03-16T13:33:17.185638Z",
     "shell.execute_reply": "2023-03-16T13:33:17.184353Z"
    },
    "papermill": {
     "duration": 0.377082,
     "end_time": "2023-03-16T13:33:17.188359",
     "exception": false,
     "start_time": "2023-03-16T13:33:16.811277",
     "status": "completed"
    },
    "tags": []
   },
   "outputs": [
    {
     "data": {
      "image/png": "[encoded data removed]",
      "text/plain": [
       "<Figure size 640x480 with 1 Axes>"
      ]
     },
     "metadata": {},
     "output_type": "display_data"
    }
   ],
   "source": [
    "# Displaying in form of graph\n",
    "\n",
    "df[\"Suburb\"].value_counts().nlargest(10).plot(kind = \"bar\",cmap='flag')\n",
    "plt.title('Suburb',fontsize=15)\n",
    "plt.show()"
   ]
  },
  {
   "cell_type": "markdown",
   "id": "532d6eb1",
   "metadata": {
    "papermill": {
     "duration": 0.033634,
     "end_time": "2023-03-16T13:33:17.256634",
     "exception": false,
     "start_time": "2023-03-16T13:33:17.223000",
     "status": "completed"
    },
    "tags": []
   },
   "source": [
    "    From these visuals we can say that Reservoir has maximum no of houses (1685) followed by Bentleigh East(1159) and so on"
   ]
  },
  {
   "cell_type": "markdown",
   "id": "65eda4e7",
   "metadata": {
    "papermill": {
     "duration": 0.035778,
     "end_time": "2023-03-16T13:33:17.327094",
     "exception": false,
     "start_time": "2023-03-16T13:33:17.291316",
     "status": "completed"
    },
    "tags": []
   },
   "source": [
    "#### For Address :-"
   ]
  },
  {
   "cell_type": "code",
   "execution_count": 28,
   "id": "4705020b",
   "metadata": {
    "execution": {
     "iopub.execute_input": "2023-03-16T13:33:17.397186Z",
     "iopub.status.busy": "2023-03-16T13:33:17.396725Z",
     "iopub.status.idle": "2023-03-16T13:33:17.422441Z",
     "shell.execute_reply": "2023-03-16T13:33:17.421456Z"
    },
    "papermill": {
     "duration": 0.063467,
     "end_time": "2023-03-16T13:33:17.424878",
     "exception": false,
     "start_time": "2023-03-16T13:33:17.361411",
     "status": "completed"
    },
    "tags": []
   },
   "outputs": [
    {
     "data": {
      "text/plain": [
       "57754"
      ]
     },
     "execution_count": 28,
     "metadata": {},
     "output_type": "execute_result"
    }
   ],
   "source": [
    "# checking unique values\n",
    "\n",
    "df[\"Address\"].nunique()"
   ]
  },
  {
   "cell_type": "code",
   "execution_count": 29,
   "id": "e2ebbce1",
   "metadata": {
    "execution": {
     "iopub.execute_input": "2023-03-16T13:33:17.498293Z",
     "iopub.status.busy": "2023-03-16T13:33:17.497835Z",
     "iopub.status.idle": "2023-03-16T13:33:17.548297Z",
     "shell.execute_reply": "2023-03-16T13:33:17.547107Z"
    },
    "papermill": {
     "duration": 0.090048,
     "end_time": "2023-03-16T13:33:17.551062",
     "exception": false,
     "start_time": "2023-03-16T13:33:17.461014",
     "status": "completed"
    },
    "tags": []
   },
   "outputs": [
    {
     "name": "stdout",
     "output_type": "stream",
     "text": [
      "Total no of house counts for top 10 Address :\n"
     ]
    },
    {
     "data": {
      "text/html": [
       "<style type=\"text/css\">\n",
       "#T_c306b_row0_col0 {\n",
       "  background-color: #ffc77f;\n",
       "  color: #000000;\n",
       "}\n",
       "#T_c306b_row1_col0, #T_c306b_row2_col0, #T_c306b_row3_col0 {\n",
       "  background-color: #4f3220;\n",
       "  color: #f1f1f1;\n",
       "}\n",
       "#T_c306b_row4_col0, #T_c306b_row5_col0, #T_c306b_row6_col0, #T_c306b_row7_col0, #T_c306b_row8_col0, #T_c306b_row9_col0 {\n",
       "  background-color: #000000;\n",
       "  color: #f1f1f1;\n",
       "}\n",
       "</style>\n",
       "<table id=\"T_c306b_\">\n",
       "  <thead>\n",
       "    <tr>\n",
       "      <th class=\"blank level0\" >&nbsp;</th>\n",
       "      <th class=\"col_heading level0 col0\" >Address</th>\n",
       "    </tr>\n",
       "  </thead>\n",
       "  <tbody>\n",
       "    <tr>\n",
       "      <th id=\"T_c306b_level0_row0\" class=\"row_heading level0 row0\" >5 Charles St</th>\n",
       "      <td id=\"T_c306b_row0_col0\" class=\"data row0 col0\" >11</td>\n",
       "    </tr>\n",
       "    <tr>\n",
       "      <th id=\"T_c306b_level0_row1\" class=\"row_heading level0 row1\" >3 Parker St</th>\n",
       "      <td id=\"T_c306b_row1_col0\" class=\"data row1 col0\" >8</td>\n",
       "    </tr>\n",
       "    <tr>\n",
       "      <th id=\"T_c306b_level0_row2\" class=\"row_heading level0 row2\" >14 Northcote St</th>\n",
       "      <td id=\"T_c306b_row2_col0\" class=\"data row2 col0\" >8</td>\n",
       "    </tr>\n",
       "    <tr>\n",
       "      <th id=\"T_c306b_level0_row3\" class=\"row_heading level0 row3\" >3 Donald St</th>\n",
       "      <td id=\"T_c306b_row3_col0\" class=\"data row3 col0\" >8</td>\n",
       "    </tr>\n",
       "    <tr>\n",
       "      <th id=\"T_c306b_level0_row4\" class=\"row_heading level0 row4\" >57 Bay Rd</th>\n",
       "      <td id=\"T_c306b_row4_col0\" class=\"data row4 col0\" >7</td>\n",
       "    </tr>\n",
       "    <tr>\n",
       "      <th id=\"T_c306b_level0_row5\" class=\"row_heading level0 row5\" >2 Bruce St</th>\n",
       "      <td id=\"T_c306b_row5_col0\" class=\"data row5 col0\" >7</td>\n",
       "    </tr>\n",
       "    <tr>\n",
       "      <th id=\"T_c306b_level0_row6\" class=\"row_heading level0 row6\" >56 Victoria St</th>\n",
       "      <td id=\"T_c306b_row6_col0\" class=\"data row6 col0\" >7</td>\n",
       "    </tr>\n",
       "    <tr>\n",
       "      <th id=\"T_c306b_level0_row7\" class=\"row_heading level0 row7\" >11 Highview Rd</th>\n",
       "      <td id=\"T_c306b_row7_col0\" class=\"data row7 col0\" >7</td>\n",
       "    </tr>\n",
       "    <tr>\n",
       "      <th id=\"T_c306b_level0_row8\" class=\"row_heading level0 row8\" >6 Belmont Av</th>\n",
       "      <td id=\"T_c306b_row8_col0\" class=\"data row8 col0\" >7</td>\n",
       "    </tr>\n",
       "    <tr>\n",
       "      <th id=\"T_c306b_level0_row9\" class=\"row_heading level0 row9\" >39 York St</th>\n",
       "      <td id=\"T_c306b_row9_col0\" class=\"data row9 col0\" >7</td>\n",
       "    </tr>\n",
       "  </tbody>\n",
       "</table>\n"
      ],
      "text/plain": [
       "<pandas.io.formats.style.Styler at 0x7ff9ddee1090>"
      ]
     },
     "execution_count": 29,
     "metadata": {},
     "output_type": "execute_result"
    }
   ],
   "source": [
    "print(\"Total no of house counts for top 10 Address :\")\n",
    "\n",
    "df[\"Address\"].value_counts().nlargest(10).to_frame().style.background_gradient(cmap='copper')"
   ]
  },
  {
   "cell_type": "markdown",
   "id": "897dada5",
   "metadata": {
    "papermill": {
     "duration": 0.034593,
     "end_time": "2023-03-16T13:33:17.621002",
     "exception": false,
     "start_time": "2023-03-16T13:33:17.586409",
     "status": "completed"
    },
    "tags": []
   },
   "source": [
    "    5 Charles St has the maximum no of houses followed by 3 Parker St and so on"
   ]
  },
  {
   "cell_type": "markdown",
   "id": "dc4dad07",
   "metadata": {
    "papermill": {
     "duration": 0.034445,
     "end_time": "2023-03-16T13:33:17.690412",
     "exception": false,
     "start_time": "2023-03-16T13:33:17.655967",
     "status": "completed"
    },
    "tags": []
   },
   "source": [
    "####  For Types :-"
   ]
  },
  {
   "cell_type": "code",
   "execution_count": 30,
   "id": "a3cbdabd",
   "metadata": {
    "execution": {
     "iopub.execute_input": "2023-03-16T13:33:17.761990Z",
     "iopub.status.busy": "2023-03-16T13:33:17.761547Z",
     "iopub.status.idle": "2023-03-16T13:33:17.774513Z",
     "shell.execute_reply": "2023-03-16T13:33:17.773400Z"
    },
    "papermill": {
     "duration": 0.051947,
     "end_time": "2023-03-16T13:33:17.777033",
     "exception": false,
     "start_time": "2023-03-16T13:33:17.725086",
     "status": "completed"
    },
    "tags": []
   },
   "outputs": [
    {
     "data": {
      "text/plain": [
       "3"
      ]
     },
     "execution_count": 30,
     "metadata": {},
     "output_type": "execute_result"
    }
   ],
   "source": [
    "# checking unique values\n",
    "\n",
    "df[\"Type\"].nunique()"
   ]
  },
  {
   "cell_type": "code",
   "execution_count": 31,
   "id": "7e672c9e",
   "metadata": {
    "execution": {
     "iopub.execute_input": "2023-03-16T13:33:17.848886Z",
     "iopub.status.busy": "2023-03-16T13:33:17.848468Z",
     "iopub.status.idle": "2023-03-16T13:33:17.860660Z",
     "shell.execute_reply": "2023-03-16T13:33:17.859442Z"
    },
    "papermill": {
     "duration": 0.051677,
     "end_time": "2023-03-16T13:33:17.863349",
     "exception": false,
     "start_time": "2023-03-16T13:33:17.811672",
     "status": "completed"
    },
    "tags": []
   },
   "outputs": [
    {
     "data": {
      "text/plain": [
       "array(['h', 'u', 't'], dtype=object)"
      ]
     },
     "execution_count": 31,
     "metadata": {},
     "output_type": "execute_result"
    }
   ],
   "source": [
    "# Printing unique values\n",
    "\n",
    "df[\"Type\"].unique()"
   ]
  },
  {
   "cell_type": "code",
   "execution_count": 32,
   "id": "5ef74bad",
   "metadata": {
    "execution": {
     "iopub.execute_input": "2023-03-16T13:33:17.937807Z",
     "iopub.status.busy": "2023-03-16T13:33:17.937035Z",
     "iopub.status.idle": "2023-03-16T13:33:17.956473Z",
     "shell.execute_reply": "2023-03-16T13:33:17.955462Z"
    },
    "papermill": {
     "duration": 0.058865,
     "end_time": "2023-03-16T13:33:17.958671",
     "exception": false,
     "start_time": "2023-03-16T13:33:17.899806",
     "status": "completed"
    },
    "tags": []
   },
   "outputs": [
    {
     "name": "stdout",
     "output_type": "stream",
     "text": [
      "Total no of house counts for each type are :\n"
     ]
    },
    {
     "data": {
      "text/html": [
       "<style type=\"text/css\">\n",
       "#T_9ab61_row0_col0 {\n",
       "  background-color: #ffc77f;\n",
       "  color: #000000;\n",
       "}\n",
       "#T_9ab61_row1_col0 {\n",
       "  background-color: #311f14;\n",
       "  color: #f1f1f1;\n",
       "}\n",
       "#T_9ab61_row2_col0 {\n",
       "  background-color: #000000;\n",
       "  color: #f1f1f1;\n",
       "}\n",
       "</style>\n",
       "<table id=\"T_9ab61_\">\n",
       "  <thead>\n",
       "    <tr>\n",
       "      <th class=\"blank level0\" >&nbsp;</th>\n",
       "      <th class=\"col_heading level0 col0\" >Type</th>\n",
       "    </tr>\n",
       "  </thead>\n",
       "  <tbody>\n",
       "    <tr>\n",
       "      <th id=\"T_9ab61_level0_row0\" class=\"row_heading level0 row0\" >h</th>\n",
       "      <td id=\"T_9ab61_row0_col0\" class=\"data row0 col0\" >53917</td>\n",
       "    </tr>\n",
       "    <tr>\n",
       "      <th id=\"T_9ab61_level0_row1\" class=\"row_heading level0 row1\" >u</th>\n",
       "      <td id=\"T_9ab61_row1_col0\" class=\"data row1 col0\" >15111</td>\n",
       "    </tr>\n",
       "    <tr>\n",
       "      <th id=\"T_9ab61_level0_row2\" class=\"row_heading level0 row2\" >t</th>\n",
       "      <td id=\"T_9ab61_row2_col0\" class=\"data row2 col0\" >7848</td>\n",
       "    </tr>\n",
       "  </tbody>\n",
       "</table>\n"
      ],
      "text/plain": [
       "<pandas.io.formats.style.Styler at 0x7ff9ddeb5190>"
      ]
     },
     "execution_count": 32,
     "metadata": {},
     "output_type": "execute_result"
    }
   ],
   "source": [
    "print(\"Total no of house counts for each type are :\")\n",
    "\n",
    "df[\"Type\"].value_counts().to_frame().style.background_gradient(cmap='copper')"
   ]
  },
  {
   "cell_type": "markdown",
   "id": "d0a854a4",
   "metadata": {
    "papermill": {
     "duration": 0.034839,
     "end_time": "2023-03-16T13:33:18.028212",
     "exception": false,
     "start_time": "2023-03-16T13:33:17.993373",
     "status": "completed"
    },
    "tags": []
   },
   "source": [
    "    h - house,cottage,villa, semi,terrace has the maximum no of house(53917) followed by u - unit, duplex and t - townhouse"
   ]
  },
  {
   "cell_type": "markdown",
   "id": "e593dc19",
   "metadata": {
    "papermill": {
     "duration": 0.03457,
     "end_time": "2023-03-16T13:33:18.097669",
     "exception": false,
     "start_time": "2023-03-16T13:33:18.063099",
     "status": "completed"
    },
    "tags": []
   },
   "source": [
    "#### For Method :- "
   ]
  },
  {
   "cell_type": "code",
   "execution_count": 33,
   "id": "cff1f7cb",
   "metadata": {
    "execution": {
     "iopub.execute_input": "2023-03-16T13:33:18.170049Z",
     "iopub.status.busy": "2023-03-16T13:33:18.169648Z",
     "iopub.status.idle": "2023-03-16T13:33:18.182600Z",
     "shell.execute_reply": "2023-03-16T13:33:18.181384Z"
    },
    "papermill": {
     "duration": 0.052617,
     "end_time": "2023-03-16T13:33:18.185323",
     "exception": false,
     "start_time": "2023-03-16T13:33:18.132706",
     "status": "completed"
    },
    "tags": []
   },
   "outputs": [
    {
     "data": {
      "text/plain": [
       "9"
      ]
     },
     "execution_count": 33,
     "metadata": {},
     "output_type": "execute_result"
    }
   ],
   "source": [
    "# checking unique values\n",
    "\n",
    "df[\"Method\"].nunique()"
   ]
  },
  {
   "cell_type": "code",
   "execution_count": 34,
   "id": "a36bda89",
   "metadata": {
    "execution": {
     "iopub.execute_input": "2023-03-16T13:33:18.257586Z",
     "iopub.status.busy": "2023-03-16T13:33:18.257112Z",
     "iopub.status.idle": "2023-03-16T13:33:18.269580Z",
     "shell.execute_reply": "2023-03-16T13:33:18.268678Z"
    },
    "papermill": {
     "duration": 0.051635,
     "end_time": "2023-03-16T13:33:18.272000",
     "exception": false,
     "start_time": "2023-03-16T13:33:18.220365",
     "status": "completed"
    },
    "tags": []
   },
   "outputs": [
    {
     "data": {
      "text/plain": [
       "array(['SS', 'S', 'VB', 'SP', 'PI', 'SN', 'W', 'PN', 'SA'], dtype=object)"
      ]
     },
     "execution_count": 34,
     "metadata": {},
     "output_type": "execute_result"
    }
   ],
   "source": [
    "# Printing unique values\n",
    "\n",
    "df[\"Method\"].unique()"
   ]
  },
  {
   "cell_type": "code",
   "execution_count": 35,
   "id": "86a90a15",
   "metadata": {
    "execution": {
     "iopub.execute_input": "2023-03-16T13:33:18.344311Z",
     "iopub.status.busy": "2023-03-16T13:33:18.343831Z",
     "iopub.status.idle": "2023-03-16T13:33:18.365463Z",
     "shell.execute_reply": "2023-03-16T13:33:18.364235Z"
    },
    "papermill": {
     "duration": 0.060606,
     "end_time": "2023-03-16T13:33:18.367978",
     "exception": false,
     "start_time": "2023-03-16T13:33:18.307372",
     "status": "completed"
    },
    "tags": []
   },
   "outputs": [
    {
     "name": "stdout",
     "output_type": "stream",
     "text": [
      "Total no of house counts for each type are :\n"
     ]
    },
    {
     "data": {
      "text/html": [
       "<style type=\"text/css\">\n",
       "#T_c3bd8_row0_col0 {\n",
       "  background-color: #ffc77f;\n",
       "  color: #000000;\n",
       "}\n",
       "#T_c3bd8_row1_col0 {\n",
       "  background-color: #563723;\n",
       "  color: #f1f1f1;\n",
       "}\n",
       "#T_c3bd8_row2_col0 {\n",
       "  background-color: #503320;\n",
       "  color: #f1f1f1;\n",
       "}\n",
       "#T_c3bd8_row3_col0 {\n",
       "  background-color: #342115;\n",
       "  color: #f1f1f1;\n",
       "}\n",
       "#T_c3bd8_row4_col0 {\n",
       "  background-color: #170f09;\n",
       "  color: #f1f1f1;\n",
       "}\n",
       "#T_c3bd8_row5_col0 {\n",
       "  background-color: #050302;\n",
       "  color: #f1f1f1;\n",
       "}\n",
       "#T_c3bd8_row6_col0, #T_c3bd8_row7_col0 {\n",
       "  background-color: #020201;\n",
       "  color: #f1f1f1;\n",
       "}\n",
       "#T_c3bd8_row8_col0 {\n",
       "  background-color: #000000;\n",
       "  color: #f1f1f1;\n",
       "}\n",
       "</style>\n",
       "<table id=\"T_c3bd8_\">\n",
       "  <thead>\n",
       "    <tr>\n",
       "      <th class=\"blank level0\" >&nbsp;</th>\n",
       "      <th class=\"col_heading level0 col0\" >Method</th>\n",
       "    </tr>\n",
       "  </thead>\n",
       "  <tbody>\n",
       "    <tr>\n",
       "      <th id=\"T_c3bd8_level0_row0\" class=\"row_heading level0 row0\" >S</th>\n",
       "      <td id=\"T_c3bd8_row0_col0\" class=\"data row0 col0\" >42230</td>\n",
       "    </tr>\n",
       "    <tr>\n",
       "      <th id=\"T_c3bd8_level0_row1\" class=\"row_heading level0 row1\" >PI</th>\n",
       "      <td id=\"T_c3bd8_row1_col0\" class=\"data row1 col0\" >11631</td>\n",
       "    </tr>\n",
       "    <tr>\n",
       "      <th id=\"T_c3bd8_level0_row2\" class=\"row_heading level0 row2\" >SP</th>\n",
       "      <td id=\"T_c3bd8_row2_col0\" class=\"data row2 col0\" >10877</td>\n",
       "    </tr>\n",
       "    <tr>\n",
       "      <th id=\"T_c3bd8_level0_row3\" class=\"row_heading level0 row3\" >VB</th>\n",
       "      <td id=\"T_c3bd8_row3_col0\" class=\"data row3 col0\" >7034</td>\n",
       "    </tr>\n",
       "    <tr>\n",
       "      <th id=\"T_c3bd8_level0_row4\" class=\"row_heading level0 row4\" >SN</th>\n",
       "      <td id=\"T_c3bd8_row4_col0\" class=\"data row4 col0\" >3248</td>\n",
       "    </tr>\n",
       "    <tr>\n",
       "      <th id=\"T_c3bd8_level0_row5\" class=\"row_heading level0 row5\" >PN</th>\n",
       "      <td id=\"T_c3bd8_row5_col0\" class=\"data row5 col0\" >770</td>\n",
       "    </tr>\n",
       "    <tr>\n",
       "      <th id=\"T_c3bd8_level0_row6\" class=\"row_heading level0 row6\" >W</th>\n",
       "      <td id=\"T_c3bd8_row6_col0\" class=\"data row6 col0\" >534</td>\n",
       "    </tr>\n",
       "    <tr>\n",
       "      <th id=\"T_c3bd8_level0_row7\" class=\"row_heading level0 row7\" >SA</th>\n",
       "      <td id=\"T_c3bd8_row7_col0\" class=\"data row7 col0\" >467</td>\n",
       "    </tr>\n",
       "    <tr>\n",
       "      <th id=\"T_c3bd8_level0_row8\" class=\"row_heading level0 row8\" >SS</th>\n",
       "      <td id=\"T_c3bd8_row8_col0\" class=\"data row8 col0\" >85</td>\n",
       "    </tr>\n",
       "  </tbody>\n",
       "</table>\n"
      ],
      "text/plain": [
       "<pandas.io.formats.style.Styler at 0x7ff9ddf81b10>"
      ]
     },
     "execution_count": 35,
     "metadata": {},
     "output_type": "execute_result"
    }
   ],
   "source": [
    "print(\"Total no of house counts for each type are :\")\n",
    "\n",
    "df[\"Method\"].value_counts().to_frame().style.background_gradient(cmap='copper')"
   ]
  },
  {
   "cell_type": "markdown",
   "id": "c609dee4",
   "metadata": {
    "papermill": {
     "duration": 0.036202,
     "end_time": "2023-03-16T13:33:18.441809",
     "exception": false,
     "start_time": "2023-03-16T13:33:18.405607",
     "status": "completed"
    },
    "tags": []
   },
   "source": [
    "    S - property sold has the maximum no of houses followed by PI - property passed in, SP - property sold prior and so on"
   ]
  },
  {
   "cell_type": "markdown",
   "id": "77b2490c",
   "metadata": {
    "papermill": {
     "duration": 0.038624,
     "end_time": "2023-03-16T13:33:18.516472",
     "exception": false,
     "start_time": "2023-03-16T13:33:18.477848",
     "status": "completed"
    },
    "tags": []
   },
   "source": [
    "#### For  SellerG (Real Estate Agent)  :-"
   ]
  },
  {
   "cell_type": "code",
   "execution_count": 36,
   "id": "f7db7fa1",
   "metadata": {
    "execution": {
     "iopub.execute_input": "2023-03-16T13:33:18.590860Z",
     "iopub.status.busy": "2023-03-16T13:33:18.589999Z",
     "iopub.status.idle": "2023-03-16T13:33:18.604495Z",
     "shell.execute_reply": "2023-03-16T13:33:18.603008Z"
    },
    "papermill": {
     "duration": 0.055206,
     "end_time": "2023-03-16T13:33:18.607342",
     "exception": false,
     "start_time": "2023-03-16T13:33:18.552136",
     "status": "completed"
    },
    "tags": []
   },
   "outputs": [
    {
     "data": {
      "text/plain": [
       "476"
      ]
     },
     "execution_count": 36,
     "metadata": {},
     "output_type": "execute_result"
    }
   ],
   "source": [
    "# checking unique values\n",
    "\n",
    "df[\"SellerG\"].nunique()"
   ]
  },
  {
   "cell_type": "code",
   "execution_count": 37,
   "id": "5104c371",
   "metadata": {
    "execution": {
     "iopub.execute_input": "2023-03-16T13:33:18.681408Z",
     "iopub.status.busy": "2023-03-16T13:33:18.680635Z",
     "iopub.status.idle": "2023-03-16T13:33:18.702279Z",
     "shell.execute_reply": "2023-03-16T13:33:18.700839Z"
    },
    "papermill": {
     "duration": 0.061694,
     "end_time": "2023-03-16T13:33:18.704713",
     "exception": false,
     "start_time": "2023-03-16T13:33:18.643019",
     "status": "completed"
    },
    "tags": []
   },
   "outputs": [
    {
     "name": "stdout",
     "output_type": "stream",
     "text": [
      "Top 10 SellerG are :\n"
     ]
    },
    {
     "data": {
      "text/html": [
       "<style type=\"text/css\">\n",
       "#T_793ce_row0_col0 {\n",
       "  background-color: #ffc77f;\n",
       "  color: #000000;\n",
       "}\n",
       "#T_793ce_row1_col0 {\n",
       "  background-color: #ffaa6c;\n",
       "  color: #000000;\n",
       "}\n",
       "#T_793ce_row2_col0 {\n",
       "  background-color: #ed9660;\n",
       "  color: #f1f1f1;\n",
       "}\n",
       "#T_793ce_row3_col0 {\n",
       "  background-color: #c97f51;\n",
       "  color: #f1f1f1;\n",
       "}\n",
       "#T_793ce_row4_col0 {\n",
       "  background-color: #b17047;\n",
       "  color: #f1f1f1;\n",
       "}\n",
       "#T_793ce_row5_col0 {\n",
       "  background-color: #825234;\n",
       "  color: #f1f1f1;\n",
       "}\n",
       "#T_793ce_row6_col0 {\n",
       "  background-color: #74492f;\n",
       "  color: #f1f1f1;\n",
       "}\n",
       "#T_793ce_row7_col0 {\n",
       "  background-color: #170f09;\n",
       "  color: #f1f1f1;\n",
       "}\n",
       "#T_793ce_row8_col0 {\n",
       "  background-color: #150d08;\n",
       "  color: #f1f1f1;\n",
       "}\n",
       "#T_793ce_row9_col0 {\n",
       "  background-color: #000000;\n",
       "  color: #f1f1f1;\n",
       "}\n",
       "</style>\n",
       "<table id=\"T_793ce_\">\n",
       "  <thead>\n",
       "    <tr>\n",
       "      <th class=\"blank level0\" >&nbsp;</th>\n",
       "      <th class=\"col_heading level0 col0\" >SellerG</th>\n",
       "    </tr>\n",
       "  </thead>\n",
       "  <tbody>\n",
       "    <tr>\n",
       "      <th id=\"T_793ce_level0_row0\" class=\"row_heading level0 row0\" >Barry</th>\n",
       "      <td id=\"T_793ce_row0_col0\" class=\"data row0 col0\" >7880</td>\n",
       "    </tr>\n",
       "    <tr>\n",
       "      <th id=\"T_793ce_level0_row1\" class=\"row_heading level0 row1\" >Jellis</th>\n",
       "      <td id=\"T_793ce_row1_col0\" class=\"data row1 col0\" >6941</td>\n",
       "    </tr>\n",
       "    <tr>\n",
       "      <th id=\"T_793ce_level0_row2\" class=\"row_heading level0 row2\" >Nelson</th>\n",
       "      <td id=\"T_793ce_row2_col0\" class=\"data row2 col0\" >6308</td>\n",
       "    </tr>\n",
       "    <tr>\n",
       "      <th id=\"T_793ce_level0_row3\" class=\"row_heading level0 row3\" >hockingstuart</th>\n",
       "      <td id=\"T_793ce_row3_col0\" class=\"data row3 col0\" >5582</td>\n",
       "    </tr>\n",
       "    <tr>\n",
       "      <th id=\"T_793ce_level0_row4\" class=\"row_heading level0 row4\" >Ray</th>\n",
       "      <td id=\"T_793ce_row4_col0\" class=\"data row4 col0\" >5071</td>\n",
       "    </tr>\n",
       "    <tr>\n",
       "      <th id=\"T_793ce_level0_row5\" class=\"row_heading level0 row5\" >Buxton</th>\n",
       "      <td id=\"T_793ce_row5_col0\" class=\"data row5 col0\" >4115</td>\n",
       "    </tr>\n",
       "    <tr>\n",
       "      <th id=\"T_793ce_level0_row6\" class=\"row_heading level0 row6\" >Marshall</th>\n",
       "      <td id=\"T_793ce_row6_col0\" class=\"data row6 col0\" >3844</td>\n",
       "    </tr>\n",
       "    <tr>\n",
       "      <th id=\"T_793ce_level0_row7\" class=\"row_heading level0 row7\" >Biggin</th>\n",
       "      <td id=\"T_793ce_row7_col0\" class=\"data row7 col0\" >1982</td>\n",
       "    </tr>\n",
       "    <tr>\n",
       "      <th id=\"T_793ce_level0_row8\" class=\"row_heading level0 row8\" >Fletchers</th>\n",
       "      <td id=\"T_793ce_row8_col0\" class=\"data row8 col0\" >1928</td>\n",
       "    </tr>\n",
       "    <tr>\n",
       "      <th id=\"T_793ce_level0_row9\" class=\"row_heading level0 row9\" >Woodards</th>\n",
       "      <td id=\"T_793ce_row9_col0\" class=\"data row9 col0\" >1495</td>\n",
       "    </tr>\n",
       "  </tbody>\n",
       "</table>\n"
      ],
      "text/plain": [
       "<pandas.io.formats.style.Styler at 0x7ff9ddf6ff50>"
      ]
     },
     "execution_count": 37,
     "metadata": {},
     "output_type": "execute_result"
    }
   ],
   "source": [
    "print(\"Top 10 SellerG are :\")\n",
    "\n",
    "df[\"SellerG\"].value_counts().nlargest(10).to_frame().style.background_gradient(cmap='copper')"
   ]
  },
  {
   "cell_type": "markdown",
   "id": "851f5ec5",
   "metadata": {
    "papermill": {
     "duration": 0.035313,
     "end_time": "2023-03-16T13:33:18.775822",
     "exception": false,
     "start_time": "2023-03-16T13:33:18.740509",
     "status": "completed"
    },
    "tags": []
   },
   "source": [
    "    Barry has sold the maximum no of houses(7880) followed by Jellis and so on"
   ]
  },
  {
   "cell_type": "markdown",
   "id": "ec1cc377",
   "metadata": {
    "papermill": {
     "duration": 0.035131,
     "end_time": "2023-03-16T13:33:18.847057",
     "exception": false,
     "start_time": "2023-03-16T13:33:18.811926",
     "status": "completed"
    },
    "tags": []
   },
   "source": [
    "#### For CouncilArea (Governing council for the area) :- "
   ]
  },
  {
   "cell_type": "code",
   "execution_count": 38,
   "id": "38367c2d",
   "metadata": {
    "execution": {
     "iopub.execute_input": "2023-03-16T13:33:18.920808Z",
     "iopub.status.busy": "2023-03-16T13:33:18.920135Z",
     "iopub.status.idle": "2023-03-16T13:33:18.935540Z",
     "shell.execute_reply": "2023-03-16T13:33:18.934255Z"
    },
    "papermill": {
     "duration": 0.055507,
     "end_time": "2023-03-16T13:33:18.938099",
     "exception": false,
     "start_time": "2023-03-16T13:33:18.882592",
     "status": "completed"
    },
    "tags": []
   },
   "outputs": [
    {
     "data": {
      "text/plain": [
       "34"
      ]
     },
     "execution_count": 38,
     "metadata": {},
     "output_type": "execute_result"
    }
   ],
   "source": [
    "# checking unique values\n",
    "\n",
    "df[\"CouncilArea\"].nunique()"
   ]
  },
  {
   "cell_type": "code",
   "execution_count": 39,
   "id": "9c3aac51",
   "metadata": {
    "execution": {
     "iopub.execute_input": "2023-03-16T13:33:19.013291Z",
     "iopub.status.busy": "2023-03-16T13:33:19.012379Z",
     "iopub.status.idle": "2023-03-16T13:33:19.034628Z",
     "shell.execute_reply": "2023-03-16T13:33:19.032903Z"
    },
    "papermill": {
     "duration": 0.063233,
     "end_time": "2023-03-16T13:33:19.037383",
     "exception": false,
     "start_time": "2023-03-16T13:33:18.974150",
     "status": "completed"
    },
    "tags": []
   },
   "outputs": [
    {
     "name": "stdout",
     "output_type": "stream",
     "text": [
      "Top 10 CouncleArea with most no of houses :\n"
     ]
    },
    {
     "data": {
      "text/html": [
       "<style type=\"text/css\">\n",
       "#T_a0907_row0_col0 {\n",
       "  background-color: #ffc77f;\n",
       "  color: #000000;\n",
       "}\n",
       "#T_a0907_row1_col0 {\n",
       "  background-color: #c17a4e;\n",
       "  color: #f1f1f1;\n",
       "}\n",
       "#T_a0907_row2_col0 {\n",
       "  background-color: #4a2f1e;\n",
       "  color: #f1f1f1;\n",
       "}\n",
       "#T_a0907_row3_col0 {\n",
       "  background-color: #301e13;\n",
       "  color: #f1f1f1;\n",
       "}\n",
       "#T_a0907_row4_col0 {\n",
       "  background-color: #2f1e13;\n",
       "  color: #f1f1f1;\n",
       "}\n",
       "#T_a0907_row5_col0 {\n",
       "  background-color: #2c1c12;\n",
       "  color: #f1f1f1;\n",
       "}\n",
       "#T_a0907_row6_col0 {\n",
       "  background-color: #281910;\n",
       "  color: #f1f1f1;\n",
       "}\n",
       "#T_a0907_row7_col0, #T_a0907_row8_col0 {\n",
       "  background-color: #1f140c;\n",
       "  color: #f1f1f1;\n",
       "}\n",
       "#T_a0907_row9_col0 {\n",
       "  background-color: #000000;\n",
       "  color: #f1f1f1;\n",
       "}\n",
       "</style>\n",
       "<table id=\"T_a0907_\">\n",
       "  <thead>\n",
       "    <tr>\n",
       "      <th class=\"blank level0\" >&nbsp;</th>\n",
       "      <th class=\"col_heading level0 col0\" >CouncilArea</th>\n",
       "    </tr>\n",
       "  </thead>\n",
       "  <tbody>\n",
       "    <tr>\n",
       "      <th id=\"T_a0907_level0_row0\" class=\"row_heading level0 row0\" >Boroondara City Council</th>\n",
       "      <td id=\"T_a0907_row0_col0\" class=\"data row0 col0\" >7099</td>\n",
       "    </tr>\n",
       "    <tr>\n",
       "      <th id=\"T_a0907_level0_row1\" class=\"row_heading level0 row1\" >Darebin City Council</th>\n",
       "      <td id=\"T_a0907_row1_col0\" class=\"data row1 col0\" >5686</td>\n",
       "    </tr>\n",
       "    <tr>\n",
       "      <th id=\"T_a0907_level0_row2\" class=\"row_heading level0 row2\" >Banyule City Council</th>\n",
       "      <td id=\"T_a0907_row2_col0\" class=\"data row2 col0\" >4325</td>\n",
       "    </tr>\n",
       "    <tr>\n",
       "      <th id=\"T_a0907_level0_row3\" class=\"row_heading level0 row3\" >Bayside City Council</th>\n",
       "      <td id=\"T_a0907_row3_col0\" class=\"data row3 col0\" >4022</td>\n",
       "    </tr>\n",
       "    <tr>\n",
       "      <th id=\"T_a0907_level0_row4\" class=\"row_heading level0 row4\" >Glen Eira City Council</th>\n",
       "      <td id=\"T_a0907_row4_col0\" class=\"data row4 col0\" >4010</td>\n",
       "    </tr>\n",
       "    <tr>\n",
       "      <th id=\"T_a0907_level0_row5\" class=\"row_heading level0 row5\" >Monash City Council</th>\n",
       "      <td id=\"T_a0907_row5_col0\" class=\"data row5 col0\" >3978</td>\n",
       "    </tr>\n",
       "    <tr>\n",
       "      <th id=\"T_a0907_level0_row6\" class=\"row_heading level0 row6\" >Moreland City Council</th>\n",
       "      <td id=\"T_a0907_row6_col0\" class=\"data row6 col0\" >3920</td>\n",
       "    </tr>\n",
       "    <tr>\n",
       "      <th id=\"T_a0907_level0_row7\" class=\"row_heading level0 row7\" >Brimbank City Council</th>\n",
       "      <td id=\"T_a0907_row7_col0\" class=\"data row7 col0\" >3828</td>\n",
       "    </tr>\n",
       "    <tr>\n",
       "      <th id=\"T_a0907_level0_row8\" class=\"row_heading level0 row8\" >Melbourne City Council</th>\n",
       "      <td id=\"T_a0907_row8_col0\" class=\"data row8 col0\" >3821</td>\n",
       "    </tr>\n",
       "    <tr>\n",
       "      <th id=\"T_a0907_level0_row9\" class=\"row_heading level0 row9\" >Moonee Valley City Council</th>\n",
       "      <td id=\"T_a0907_row9_col0\" class=\"data row9 col0\" >3465</td>\n",
       "    </tr>\n",
       "  </tbody>\n",
       "</table>\n"
      ],
      "text/plain": [
       "<pandas.io.formats.style.Styler at 0x7ff9ddf85c10>"
      ]
     },
     "execution_count": 39,
     "metadata": {},
     "output_type": "execute_result"
    }
   ],
   "source": [
    "print(\"Top 10 CouncleArea with most no of houses :\")\n",
    "\n",
    "df[\"CouncilArea\"].value_counts().nlargest(10).to_frame().style.background_gradient(cmap='copper')"
   ]
  },
  {
   "cell_type": "markdown",
   "id": "e9cd4e84",
   "metadata": {
    "papermill": {
     "duration": 0.035876,
     "end_time": "2023-03-16T13:33:19.109364",
     "exception": false,
     "start_time": "2023-03-16T13:33:19.073488",
     "status": "completed"
    },
    "tags": []
   },
   "source": [
    "    From this stats we can see that Boroondara City Council has most no of houses (7099) followed by Darebin City Council(5686) and so on"
   ]
  },
  {
   "cell_type": "markdown",
   "id": "835bd239",
   "metadata": {
    "papermill": {
     "duration": 0.035628,
     "end_time": "2023-03-16T13:33:19.181197",
     "exception": false,
     "start_time": "2023-03-16T13:33:19.145569",
     "status": "completed"
    },
    "tags": []
   },
   "source": [
    "#### For Regionname(General Region) :- "
   ]
  },
  {
   "cell_type": "code",
   "execution_count": 40,
   "id": "37d87d75",
   "metadata": {
    "execution": {
     "iopub.execute_input": "2023-03-16T13:33:19.255636Z",
     "iopub.status.busy": "2023-03-16T13:33:19.255206Z",
     "iopub.status.idle": "2023-03-16T13:33:19.268654Z",
     "shell.execute_reply": "2023-03-16T13:33:19.267592Z"
    },
    "papermill": {
     "duration": 0.053773,
     "end_time": "2023-03-16T13:33:19.271163",
     "exception": false,
     "start_time": "2023-03-16T13:33:19.217390",
     "status": "completed"
    },
    "tags": []
   },
   "outputs": [
    {
     "data": {
      "text/plain": [
       "8"
      ]
     },
     "execution_count": 40,
     "metadata": {},
     "output_type": "execute_result"
    }
   ],
   "source": [
    "# checking unique values\n",
    "\n",
    "df[\"Regionname\"].nunique()"
   ]
  },
  {
   "cell_type": "code",
   "execution_count": 41,
   "id": "1b936830",
   "metadata": {
    "execution": {
     "iopub.execute_input": "2023-03-16T13:33:19.346052Z",
     "iopub.status.busy": "2023-03-16T13:33:19.345197Z",
     "iopub.status.idle": "2023-03-16T13:33:19.359770Z",
     "shell.execute_reply": "2023-03-16T13:33:19.358560Z"
    },
    "papermill": {
     "duration": 0.055093,
     "end_time": "2023-03-16T13:33:19.362488",
     "exception": false,
     "start_time": "2023-03-16T13:33:19.307395",
     "status": "completed"
    },
    "tags": []
   },
   "outputs": [
    {
     "data": {
      "text/plain": [
       "array(['Northern Metropolitan', 'Western Metropolitan',\n",
       "       'Southern Metropolitan', 'Eastern Metropolitan',\n",
       "       'South-Eastern Metropolitan', 'Eastern Victoria',\n",
       "       'Northern Victoria', 'Western Victoria'], dtype=object)"
      ]
     },
     "execution_count": 41,
     "metadata": {},
     "output_type": "execute_result"
    }
   ],
   "source": [
    "# displaying Regionname\n",
    "\n",
    "df[\"Regionname\"].unique()"
   ]
  },
  {
   "cell_type": "code",
   "execution_count": 42,
   "id": "2a5601a0",
   "metadata": {
    "execution": {
     "iopub.execute_input": "2023-03-16T13:33:19.438026Z",
     "iopub.status.busy": "2023-03-16T13:33:19.437614Z",
     "iopub.status.idle": "2023-03-16T13:33:19.458414Z",
     "shell.execute_reply": "2023-03-16T13:33:19.456703Z"
    },
    "papermill": {
     "duration": 0.061983,
     "end_time": "2023-03-16T13:33:19.461423",
     "exception": false,
     "start_time": "2023-03-16T13:33:19.399440",
     "status": "completed"
    },
    "tags": []
   },
   "outputs": [
    {
     "name": "stdout",
     "output_type": "stream",
     "text": [
      "Regions with total no of houses :\n"
     ]
    },
    {
     "data": {
      "text/html": [
       "<style type=\"text/css\">\n",
       "#T_b3dc3_row0_col0 {\n",
       "  background-color: #ffc77f;\n",
       "  color: #000000;\n",
       "}\n",
       "#T_b3dc3_row1_col0 {\n",
       "  background-color: #ffae6f;\n",
       "  color: #000000;\n",
       "}\n",
       "#T_b3dc3_row2_col0 {\n",
       "  background-color: #c17a4e;\n",
       "  color: #f1f1f1;\n",
       "}\n",
       "#T_b3dc3_row3_col0 {\n",
       "  background-color: #98603d;\n",
       "  color: #f1f1f1;\n",
       "}\n",
       "#T_b3dc3_row4_col0 {\n",
       "  background-color: #442b1b;\n",
       "  color: #f1f1f1;\n",
       "}\n",
       "#T_b3dc3_row5_col0, #T_b3dc3_row6_col0 {\n",
       "  background-color: #040201;\n",
       "  color: #f1f1f1;\n",
       "}\n",
       "#T_b3dc3_row7_col0 {\n",
       "  background-color: #000000;\n",
       "  color: #f1f1f1;\n",
       "}\n",
       "</style>\n",
       "<table id=\"T_b3dc3_\">\n",
       "  <thead>\n",
       "    <tr>\n",
       "      <th class=\"blank level0\" >&nbsp;</th>\n",
       "      <th class=\"col_heading level0 col0\" >Regionname</th>\n",
       "    </tr>\n",
       "  </thead>\n",
       "  <tbody>\n",
       "    <tr>\n",
       "      <th id=\"T_b3dc3_level0_row0\" class=\"row_heading level0 row0\" >Southern Metropolitan</th>\n",
       "      <td id=\"T_b3dc3_row0_col0\" class=\"data row0 col0\" >23607</td>\n",
       "    </tr>\n",
       "    <tr>\n",
       "      <th id=\"T_b3dc3_level0_row1\" class=\"row_heading level0 row1\" >Northern Metropolitan</th>\n",
       "      <td id=\"T_b3dc3_row1_col0\" class=\"data row1 col0\" >20604</td>\n",
       "    </tr>\n",
       "    <tr>\n",
       "      <th id=\"T_b3dc3_level0_row2\" class=\"row_heading level0 row2\" >Western Metropolitan</th>\n",
       "      <td id=\"T_b3dc3_row2_col0\" class=\"data row2 col0\" >14543</td>\n",
       "    </tr>\n",
       "    <tr>\n",
       "      <th id=\"T_b3dc3_level0_row3\" class=\"row_heading level0 row3\" >Eastern Metropolitan</th>\n",
       "      <td id=\"T_b3dc3_row3_col0\" class=\"data row3 col0\" >11478</td>\n",
       "    </tr>\n",
       "    <tr>\n",
       "      <th id=\"T_b3dc3_level0_row4\" class=\"row_heading level0 row4\" >South-Eastern Metropolitan</th>\n",
       "      <td id=\"T_b3dc3_row4_col0\" class=\"data row4 col0\" >5286</td>\n",
       "    </tr>\n",
       "    <tr>\n",
       "      <th id=\"T_b3dc3_level0_row5\" class=\"row_heading level0 row5\" >Eastern Victoria</th>\n",
       "      <td id=\"T_b3dc3_row5_col0\" class=\"data row5 col0\" >564</td>\n",
       "    </tr>\n",
       "    <tr>\n",
       "      <th id=\"T_b3dc3_level0_row6\" class=\"row_heading level0 row6\" >Northern Victoria</th>\n",
       "      <td id=\"T_b3dc3_row6_col0\" class=\"data row6 col0\" >556</td>\n",
       "    </tr>\n",
       "    <tr>\n",
       "      <th id=\"T_b3dc3_level0_row7\" class=\"row_heading level0 row7\" >Western Victoria</th>\n",
       "      <td id=\"T_b3dc3_row7_col0\" class=\"data row7 col0\" >238</td>\n",
       "    </tr>\n",
       "  </tbody>\n",
       "</table>\n"
      ],
      "text/plain": [
       "<pandas.io.formats.style.Styler at 0x7ff9ddf14450>"
      ]
     },
     "execution_count": 42,
     "metadata": {},
     "output_type": "execute_result"
    }
   ],
   "source": [
    "print(\"Regions with total no of houses :\")\n",
    "\n",
    "df[\"Regionname\"].value_counts().to_frame().style.background_gradient(cmap='copper')"
   ]
  },
  {
   "cell_type": "markdown",
   "id": "077934f8",
   "metadata": {
    "papermill": {
     "duration": 0.036211,
     "end_time": "2023-03-16T13:33:19.534221",
     "exception": false,
     "start_time": "2023-03-16T13:33:19.498010",
     "status": "completed"
    },
    "tags": []
   },
   "source": [
    "    From this stats we can see that Southern Metropolitan Region has most no of houses(23607) followed by Northern Metropolitan(20603) and so on"
   ]
  },
  {
   "cell_type": "markdown",
   "id": "e2d63673",
   "metadata": {
    "papermill": {
     "duration": 0.037271,
     "end_time": "2023-03-16T13:33:19.608071",
     "exception": false,
     "start_time": "2023-03-16T13:33:19.570800",
     "status": "completed"
    },
    "tags": []
   },
   "source": [
    "### Univariate analysis For Numerical Features "
   ]
  },
  {
   "cell_type": "code",
   "execution_count": 43,
   "id": "00286169",
   "metadata": {
    "execution": {
     "iopub.execute_input": "2023-03-16T13:33:19.683547Z",
     "iopub.status.busy": "2023-03-16T13:33:19.683136Z",
     "iopub.status.idle": "2023-03-16T13:33:19.727688Z",
     "shell.execute_reply": "2023-03-16T13:33:19.726405Z"
    },
    "papermill": {
     "duration": 0.085735,
     "end_time": "2023-03-16T13:33:19.730497",
     "exception": false,
     "start_time": "2023-03-16T13:33:19.644762",
     "status": "completed"
    },
    "tags": []
   },
   "outputs": [
    {
     "data": {
      "text/html": [
       "<div>\n",
       "<style scoped>\n",
       "    .dataframe tbody tr th:only-of-type {\n",
       "        vertical-align: middle;\n",
       "    }\n",
       "\n",
       "    .dataframe tbody tr th {\n",
       "        vertical-align: top;\n",
       "    }\n",
       "\n",
       "    .dataframe thead th {\n",
       "        text-align: right;\n",
       "    }\n",
       "</style>\n",
       "<table border=\"1\" class=\"dataframe\">\n",
       "  <thead>\n",
       "    <tr style=\"text-align: right;\">\n",
       "      <th></th>\n",
       "      <th>Rooms</th>\n",
       "      <th>Price</th>\n",
       "      <th>Distance</th>\n",
       "      <th>Postcode</th>\n",
       "      <th>Propertycount</th>\n",
       "    </tr>\n",
       "  </thead>\n",
       "  <tbody>\n",
       "    <tr>\n",
       "      <th>count</th>\n",
       "      <td>76876.000000</td>\n",
       "      <td>7.687600e+04</td>\n",
       "      <td>76876.000000</td>\n",
       "      <td>76876.000000</td>\n",
       "      <td>76876.000000</td>\n",
       "    </tr>\n",
       "    <tr>\n",
       "      <th>mean</th>\n",
       "      <td>3.072897</td>\n",
       "      <td>1.012202e+06</td>\n",
       "      <td>11.966968</td>\n",
       "      <td>3120.769473</td>\n",
       "      <td>7582.995226</td>\n",
       "    </tr>\n",
       "    <tr>\n",
       "      <th>std</th>\n",
       "      <td>0.966317</td>\n",
       "      <td>5.325147e+05</td>\n",
       "      <td>7.203723</td>\n",
       "      <td>117.026530</td>\n",
       "      <td>4425.730038</td>\n",
       "    </tr>\n",
       "    <tr>\n",
       "      <th>min</th>\n",
       "      <td>1.000000</td>\n",
       "      <td>8.500000e+04</td>\n",
       "      <td>0.000000</td>\n",
       "      <td>3000.000000</td>\n",
       "      <td>39.000000</td>\n",
       "    </tr>\n",
       "    <tr>\n",
       "      <th>25%</th>\n",
       "      <td>2.000000</td>\n",
       "      <td>6.800000e+05</td>\n",
       "      <td>6.700000</td>\n",
       "      <td>3054.000000</td>\n",
       "      <td>4380.000000</td>\n",
       "    </tr>\n",
       "    <tr>\n",
       "      <th>50%</th>\n",
       "      <td>3.000000</td>\n",
       "      <td>1.012202e+06</td>\n",
       "      <td>10.800000</td>\n",
       "      <td>3104.000000</td>\n",
       "      <td>6763.000000</td>\n",
       "    </tr>\n",
       "    <tr>\n",
       "      <th>75%</th>\n",
       "      <td>4.000000</td>\n",
       "      <td>1.100000e+06</td>\n",
       "      <td>15.400000</td>\n",
       "      <td>3163.000000</td>\n",
       "      <td>10412.000000</td>\n",
       "    </tr>\n",
       "    <tr>\n",
       "      <th>max</th>\n",
       "      <td>31.000000</td>\n",
       "      <td>1.120000e+07</td>\n",
       "      <td>64.100000</td>\n",
       "      <td>3980.000000</td>\n",
       "      <td>21650.000000</td>\n",
       "    </tr>\n",
       "  </tbody>\n",
       "</table>\n",
       "</div>"
      ],
      "text/plain": [
       "              Rooms         Price      Distance      Postcode  Propertycount\n",
       "count  76876.000000  7.687600e+04  76876.000000  76876.000000   76876.000000\n",
       "mean       3.072897  1.012202e+06     11.966968   3120.769473    7582.995226\n",
       "std        0.966317  5.325147e+05      7.203723    117.026530    4425.730038\n",
       "min        1.000000  8.500000e+04      0.000000   3000.000000      39.000000\n",
       "25%        2.000000  6.800000e+05      6.700000   3054.000000    4380.000000\n",
       "50%        3.000000  1.012202e+06     10.800000   3104.000000    6763.000000\n",
       "75%        4.000000  1.100000e+06     15.400000   3163.000000   10412.000000\n",
       "max       31.000000  1.120000e+07     64.100000   3980.000000   21650.000000"
      ]
     },
     "execution_count": 43,
     "metadata": {},
     "output_type": "execute_result"
    }
   ],
   "source": [
    "# getting description about the numerical features\n",
    "\n",
    "df.describe()"
   ]
  },
  {
   "cell_type": "markdown",
   "id": "4d7ed6d8",
   "metadata": {
    "papermill": {
     "duration": 0.037476,
     "end_time": "2023-03-16T13:33:19.804918",
     "exception": false,
     "start_time": "2023-03-16T13:33:19.767442",
     "status": "completed"
    },
    "tags": []
   },
   "source": [
    "#### For Rooms :- "
   ]
  },
  {
   "cell_type": "code",
   "execution_count": 44,
   "id": "06a16086",
   "metadata": {
    "execution": {
     "iopub.execute_input": "2023-03-16T13:33:19.882233Z",
     "iopub.status.busy": "2023-03-16T13:33:19.881162Z",
     "iopub.status.idle": "2023-03-16T13:33:20.622571Z",
     "shell.execute_reply": "2023-03-16T13:33:20.621287Z"
    },
    "papermill": {
     "duration": 0.783388,
     "end_time": "2023-03-16T13:33:20.625603",
     "exception": false,
     "start_time": "2023-03-16T13:33:19.842215",
     "status": "completed"
    },
    "tags": []
   },
   "outputs": [
    {
     "data": {
      "text/plain": [
       "<AxesSubplot:xlabel='Rooms', ylabel='Density'>"
      ]
     },
     "execution_count": 44,
     "metadata": {},
     "output_type": "execute_result"
    },
    {
     "data": {
      "image/png": "[encoded data removed]",
      "text/plain": [
       "<Figure size 1000x500 with 1 Axes>"
      ]
     },
     "metadata": {},
     "output_type": "display_data"
    }
   ],
   "source": [
    "#checking the distribution of data\n",
    "\n",
    "plt.figure(figsize = (10,5))\n",
    "sns.distplot(df['Rooms'])"
   ]
  },
  {
   "cell_type": "code",
   "execution_count": 45,
   "id": "83a0bcae",
   "metadata": {
    "execution": {
     "iopub.execute_input": "2023-03-16T13:33:20.702912Z",
     "iopub.status.busy": "2023-03-16T13:33:20.702226Z",
     "iopub.status.idle": "2023-03-16T13:33:20.912155Z",
     "shell.execute_reply": "2023-03-16T13:33:20.910749Z"
    },
    "papermill": {
     "duration": 0.251709,
     "end_time": "2023-03-16T13:33:20.914945",
     "exception": false,
     "start_time": "2023-03-16T13:33:20.663236",
     "status": "completed"
    },
    "tags": []
   },
   "outputs": [
    {
     "data": {
      "text/plain": [
       "<AxesSubplot:>"
      ]
     },
     "execution_count": 45,
     "metadata": {},
     "output_type": "execute_result"
    },
    {
     "data": {
      "image/png": "[encoded data removed]",
      "text/plain": [
       "<Figure size 1000x500 with 1 Axes>"
      ]
     },
     "metadata": {},
     "output_type": "display_data"
    }
   ],
   "source": [
    "# Finding outliers trough graph\n",
    "\n",
    "plt.figure(figsize = (10,5))\n",
    "sns.boxplot(df['Rooms'])"
   ]
  },
  {
   "cell_type": "markdown",
   "id": "602d2874",
   "metadata": {
    "papermill": {
     "duration": 0.037656,
     "end_time": "2023-03-16T13:33:20.990583",
     "exception": false,
     "start_time": "2023-03-16T13:33:20.952927",
     "status": "completed"
    },
    "tags": []
   },
   "source": [
    "    From this visual we can see that there is outlaies present"
   ]
  },
  {
   "cell_type": "code",
   "execution_count": 46,
   "id": "2375f09b",
   "metadata": {
    "execution": {
     "iopub.execute_input": "2023-03-16T13:33:21.068693Z",
     "iopub.status.busy": "2023-03-16T13:33:21.067640Z",
     "iopub.status.idle": "2023-03-16T13:33:21.079827Z",
     "shell.execute_reply": "2023-03-16T13:33:21.078932Z"
    },
    "papermill": {
     "duration": 0.053805,
     "end_time": "2023-03-16T13:33:21.082100",
     "exception": false,
     "start_time": "2023-03-16T13:33:21.028295",
     "status": "completed"
    },
    "tags": []
   },
   "outputs": [
    {
     "data": {
      "text/plain": [
       "2.0"
      ]
     },
     "execution_count": 46,
     "metadata": {},
     "output_type": "execute_result"
    }
   ],
   "source": [
    "## calculating inter quantile range\n",
    "Q3 = df.Rooms.quantile(0.75)\n",
    "Q1 = df.Rooms.quantile(0.25)\n",
    "IQR = Q3 - Q1\n",
    "IQR"
   ]
  },
  {
   "cell_type": "code",
   "execution_count": 47,
   "id": "4bf40219",
   "metadata": {
    "execution": {
     "iopub.execute_input": "2023-03-16T13:33:21.160596Z",
     "iopub.status.busy": "2023-03-16T13:33:21.159306Z",
     "iopub.status.idle": "2023-03-16T13:33:21.169048Z",
     "shell.execute_reply": "2023-03-16T13:33:21.167283Z"
    },
    "papermill": {
     "duration": 0.052122,
     "end_time": "2023-03-16T13:33:21.171849",
     "exception": false,
     "start_time": "2023-03-16T13:33:21.119727",
     "status": "completed"
    },
    "tags": []
   },
   "outputs": [
    {
     "name": "stdout",
     "output_type": "stream",
     "text": [
      "Upper Bound: 7.0\n",
      "Lower Bound: -1.0\n"
     ]
    }
   ],
   "source": [
    "# Above Upper bound\n",
    "\n",
    "upper=Q3+1.5*IQR\n",
    "upper_array=np.array(df['Rooms']>=upper)\n",
    "print(\"Upper Bound:\",upper)\n",
    "\n",
    "#Below Lower bound\n",
    "\n",
    "lower=Q1-1.5*IQR\n",
    "lower_array=np.array(df['Rooms']<=lower)\n",
    "print(\"Lower Bound:\",lower)\n"
   ]
  },
  {
   "cell_type": "code",
   "execution_count": 48,
   "id": "1d829377",
   "metadata": {
    "execution": {
     "iopub.execute_input": "2023-03-16T13:33:21.249948Z",
     "iopub.status.busy": "2023-03-16T13:33:21.249491Z",
     "iopub.status.idle": "2023-03-16T13:33:21.257456Z",
     "shell.execute_reply": "2023-03-16T13:33:21.255927Z"
    },
    "papermill": {
     "duration": 0.050646,
     "end_time": "2023-03-16T13:33:21.260362",
     "exception": false,
     "start_time": "2023-03-16T13:33:21.209716",
     "status": "completed"
    },
    "tags": []
   },
   "outputs": [],
   "source": [
    "# Replacing outliers with null values\n",
    "\n",
    "df['Rooms'] = np.where(df['Rooms']>=7, np.nan, df['Rooms'])"
   ]
  },
  {
   "cell_type": "code",
   "execution_count": 49,
   "id": "0be9ab9b",
   "metadata": {
    "execution": {
     "iopub.execute_input": "2023-03-16T13:33:21.339931Z",
     "iopub.status.busy": "2023-03-16T13:33:21.338836Z",
     "iopub.status.idle": "2023-03-16T13:33:21.346508Z",
     "shell.execute_reply": "2023-03-16T13:33:21.345642Z"
    },
    "papermill": {
     "duration": 0.049883,
     "end_time": "2023-03-16T13:33:21.348786",
     "exception": false,
     "start_time": "2023-03-16T13:33:21.298903",
     "status": "completed"
    },
    "tags": []
   },
   "outputs": [
    {
     "data": {
      "text/plain": [
       "137"
      ]
     },
     "execution_count": 49,
     "metadata": {},
     "output_type": "execute_result"
    }
   ],
   "source": [
    "df['Rooms'].isnull().sum()"
   ]
  },
  {
   "cell_type": "markdown",
   "id": "00f1be28",
   "metadata": {
    "papermill": {
     "duration": 0.038704,
     "end_time": "2023-03-16T13:33:21.426469",
     "exception": false,
     "start_time": "2023-03-16T13:33:21.387765",
     "status": "completed"
    },
    "tags": []
   },
   "source": [
    "#### For Price :- "
   ]
  },
  {
   "cell_type": "code",
   "execution_count": 50,
   "id": "033005ce",
   "metadata": {
    "execution": {
     "iopub.execute_input": "2023-03-16T13:33:21.519889Z",
     "iopub.status.busy": "2023-03-16T13:33:21.519094Z",
     "iopub.status.idle": "2023-03-16T13:33:22.267251Z",
     "shell.execute_reply": "2023-03-16T13:33:22.265979Z"
    },
    "papermill": {
     "duration": 0.803894,
     "end_time": "2023-03-16T13:33:22.270109",
     "exception": false,
     "start_time": "2023-03-16T13:33:21.466215",
     "status": "completed"
    },
    "tags": []
   },
   "outputs": [
    {
     "data": {
      "text/plain": [
       "<AxesSubplot:xlabel='Price', ylabel='Density'>"
      ]
     },
     "execution_count": 50,
     "metadata": {},
     "output_type": "execute_result"
    },
    {
     "data": {
      "image/png": "[encoded data removed]",
      "text/plain": [
       "<Figure size 1000x500 with 1 Axes>"
      ]
     },
     "metadata": {},
     "output_type": "display_data"
    }
   ],
   "source": [
    "#checking the distribution\n",
    "\n",
    "plt.figure(figsize = (10,5))\n",
    "sns.distplot(df['Price'])"
   ]
  },
  {
   "cell_type": "code",
   "execution_count": 51,
   "id": "4a92b2f2",
   "metadata": {
    "execution": {
     "iopub.execute_input": "2023-03-16T13:33:22.349449Z",
     "iopub.status.busy": "2023-03-16T13:33:22.349010Z",
     "iopub.status.idle": "2023-03-16T13:33:22.583339Z",
     "shell.execute_reply": "2023-03-16T13:33:22.582089Z"
    },
    "papermill": {
     "duration": 0.277154,
     "end_time": "2023-03-16T13:33:22.585808",
     "exception": false,
     "start_time": "2023-03-16T13:33:22.308654",
     "status": "completed"
    },
    "tags": []
   },
   "outputs": [
    {
     "data": {
      "text/plain": [
       "<AxesSubplot:>"
      ]
     },
     "execution_count": 51,
     "metadata": {},
     "output_type": "execute_result"
    },
    {
     "data": {
      "image/png": "[encoded data removed]",
      "text/plain": [
       "<Figure size 1000x500 with 1 Axes>"
      ]
     },
     "metadata": {},
     "output_type": "display_data"
    }
   ],
   "source": [
    "# Finding outliers trough graph\n",
    "\n",
    "plt.figure(figsize = (10,5))\n",
    "sns.boxplot(df['Price'])"
   ]
  },
  {
   "cell_type": "markdown",
   "id": "7a66e9f4",
   "metadata": {
    "papermill": {
     "duration": 0.038732,
     "end_time": "2023-03-16T13:33:22.664403",
     "exception": false,
     "start_time": "2023-03-16T13:33:22.625671",
     "status": "completed"
    },
    "tags": []
   },
   "source": [
    "    From this visual we can see that there is outlaies present"
   ]
  },
  {
   "cell_type": "code",
   "execution_count": 52,
   "id": "915947a9",
   "metadata": {
    "execution": {
     "iopub.execute_input": "2023-03-16T13:33:22.744353Z",
     "iopub.status.busy": "2023-03-16T13:33:22.743886Z",
     "iopub.status.idle": "2023-03-16T13:33:22.757812Z",
     "shell.execute_reply": "2023-03-16T13:33:22.756439Z"
    },
    "papermill": {
     "duration": 0.058437,
     "end_time": "2023-03-16T13:33:22.761676",
     "exception": false,
     "start_time": "2023-03-16T13:33:22.703239",
     "status": "completed"
    },
    "tags": []
   },
   "outputs": [
    {
     "data": {
      "text/plain": [
       "420000.0"
      ]
     },
     "execution_count": 52,
     "metadata": {},
     "output_type": "execute_result"
    }
   ],
   "source": [
    "## calculating inter quantile range\n",
    "Q3 = df.Price.quantile(0.75)\n",
    "Q1 = df.Price.quantile(0.25)\n",
    "IQR = Q3 - Q1\n",
    "IQR"
   ]
  },
  {
   "cell_type": "code",
   "execution_count": 53,
   "id": "546c43c4",
   "metadata": {
    "execution": {
     "iopub.execute_input": "2023-03-16T13:33:22.850324Z",
     "iopub.status.busy": "2023-03-16T13:33:22.849117Z",
     "iopub.status.idle": "2023-03-16T13:33:22.857916Z",
     "shell.execute_reply": "2023-03-16T13:33:22.856365Z"
    },
    "papermill": {
     "duration": 0.053192,
     "end_time": "2023-03-16T13:33:22.861578",
     "exception": false,
     "start_time": "2023-03-16T13:33:22.808386",
     "status": "completed"
    },
    "tags": []
   },
   "outputs": [
    {
     "name": "stdout",
     "output_type": "stream",
     "text": [
      "Upper Bound: 1730000.0\n",
      "Lower Bound: 50000.0\n"
     ]
    }
   ],
   "source": [
    "# Above Upper bound\n",
    "\n",
    "upper=Q3+1.5*IQR\n",
    "upper_array=np.array(df['Price']>=upper)\n",
    "print(\"Upper Bound:\",upper)\n",
    "\n",
    "#Below Lower bound\n",
    "\n",
    "lower=Q1-1.5*IQR\n",
    "lower_array=np.array(df['Price']<=lower)\n",
    "print(\"Lower Bound:\",lower)"
   ]
  },
  {
   "cell_type": "code",
   "execution_count": 54,
   "id": "b2eea349",
   "metadata": {
    "execution": {
     "iopub.execute_input": "2023-03-16T13:33:22.943906Z",
     "iopub.status.busy": "2023-03-16T13:33:22.943039Z",
     "iopub.status.idle": "2023-03-16T13:33:22.949863Z",
     "shell.execute_reply": "2023-03-16T13:33:22.948933Z"
    },
    "papermill": {
     "duration": 0.050753,
     "end_time": "2023-03-16T13:33:22.952462",
     "exception": false,
     "start_time": "2023-03-16T13:33:22.901709",
     "status": "completed"
    },
    "tags": []
   },
   "outputs": [],
   "source": [
    "# Replacing outliers with null values\n",
    "\n",
    "df['Price'] = np.where(df['Price']>=1730000, np.nan, df['Price'])"
   ]
  },
  {
   "cell_type": "code",
   "execution_count": 55,
   "id": "74854105",
   "metadata": {
    "execution": {
     "iopub.execute_input": "2023-03-16T13:33:23.033487Z",
     "iopub.status.busy": "2023-03-16T13:33:23.032995Z",
     "iopub.status.idle": "2023-03-16T13:33:23.040011Z",
     "shell.execute_reply": "2023-03-16T13:33:23.038775Z"
    },
    "papermill": {
     "duration": 0.051045,
     "end_time": "2023-03-16T13:33:23.042621",
     "exception": false,
     "start_time": "2023-03-16T13:33:22.991576",
     "status": "completed"
    },
    "tags": []
   },
   "outputs": [],
   "source": [
    "df['Price'] = np.where(df['Price']<=50000, np.nan, df['Price'])"
   ]
  },
  {
   "cell_type": "code",
   "execution_count": 56,
   "id": "14f96250",
   "metadata": {
    "execution": {
     "iopub.execute_input": "2023-03-16T13:33:23.124590Z",
     "iopub.status.busy": "2023-03-16T13:33:23.123996Z",
     "iopub.status.idle": "2023-03-16T13:33:23.131906Z",
     "shell.execute_reply": "2023-03-16T13:33:23.130919Z"
    },
    "papermill": {
     "duration": 0.051666,
     "end_time": "2023-03-16T13:33:23.134423",
     "exception": false,
     "start_time": "2023-03-16T13:33:23.082757",
     "status": "completed"
    },
    "tags": []
   },
   "outputs": [
    {
     "data": {
      "text/plain": [
       "5876"
      ]
     },
     "execution_count": 56,
     "metadata": {},
     "output_type": "execute_result"
    }
   ],
   "source": [
    "df['Price'].isnull().sum()"
   ]
  },
  {
   "cell_type": "code",
   "execution_count": 57,
   "id": "3c3abc9d",
   "metadata": {
    "execution": {
     "iopub.execute_input": "2023-03-16T13:33:23.216566Z",
     "iopub.status.busy": "2023-03-16T13:33:23.215297Z",
     "iopub.status.idle": "2023-03-16T13:33:23.222952Z",
     "shell.execute_reply": "2023-03-16T13:33:23.221998Z"
    },
    "papermill": {
     "duration": 0.052062,
     "end_time": "2023-03-16T13:33:23.225783",
     "exception": false,
     "start_time": "2023-03-16T13:33:23.173721",
     "status": "completed"
    },
    "tags": []
   },
   "outputs": [],
   "source": [
    "# Filling Null values with Mean values\n",
    "\n",
    "mean=df['Price'].mean()\n",
    "df['Price'].fillna(value=mean, inplace=True)"
   ]
  },
  {
   "cell_type": "code",
   "execution_count": 58,
   "id": "604052ab",
   "metadata": {
    "execution": {
     "iopub.execute_input": "2023-03-16T13:33:23.308325Z",
     "iopub.status.busy": "2023-03-16T13:33:23.307601Z",
     "iopub.status.idle": "2023-03-16T13:33:23.315855Z",
     "shell.execute_reply": "2023-03-16T13:33:23.314699Z"
    },
    "papermill": {
     "duration": 0.052223,
     "end_time": "2023-03-16T13:33:23.318317",
     "exception": false,
     "start_time": "2023-03-16T13:33:23.266094",
     "status": "completed"
    },
    "tags": []
   },
   "outputs": [
    {
     "data": {
      "text/plain": [
       "0"
      ]
     },
     "execution_count": 58,
     "metadata": {},
     "output_type": "execute_result"
    }
   ],
   "source": [
    "df['Price'].isnull().sum()"
   ]
  },
  {
   "cell_type": "markdown",
   "id": "9f3391af",
   "metadata": {
    "papermill": {
     "duration": 0.039414,
     "end_time": "2023-03-16T13:33:23.397034",
     "exception": false,
     "start_time": "2023-03-16T13:33:23.357620",
     "status": "completed"
    },
    "tags": []
   },
   "source": [
    "#### For Distance :- "
   ]
  },
  {
   "cell_type": "code",
   "execution_count": 59,
   "id": "2be0cf08",
   "metadata": {
    "execution": {
     "iopub.execute_input": "2023-03-16T13:33:23.479392Z",
     "iopub.status.busy": "2023-03-16T13:33:23.478954Z",
     "iopub.status.idle": "2023-03-16T13:33:24.221591Z",
     "shell.execute_reply": "2023-03-16T13:33:24.220361Z"
    },
    "papermill": {
     "duration": 0.786596,
     "end_time": "2023-03-16T13:33:24.224059",
     "exception": false,
     "start_time": "2023-03-16T13:33:23.437463",
     "status": "completed"
    },
    "tags": []
   },
   "outputs": [
    {
     "data": {
      "text/plain": [
       "<AxesSubplot:xlabel='Distance', ylabel='Density'>"
      ]
     },
     "execution_count": 59,
     "metadata": {},
     "output_type": "execute_result"
    },
    {
     "data": {
      "image/png": "[encoded data removed]",
      "text/plain": [
       "<Figure size 1000x500 with 1 Axes>"
      ]
     },
     "metadata": {},
     "output_type": "display_data"
    }
   ],
   "source": [
    "#checking the distribution\n",
    "\n",
    "plt.figure(figsize = (10,5))\n",
    "sns.distplot(df['Distance'])"
   ]
  },
  {
   "cell_type": "code",
   "execution_count": 60,
   "id": "38e84619",
   "metadata": {
    "execution": {
     "iopub.execute_input": "2023-03-16T13:33:24.311687Z",
     "iopub.status.busy": "2023-03-16T13:33:24.310382Z",
     "iopub.status.idle": "2023-03-16T13:33:24.532160Z",
     "shell.execute_reply": "2023-03-16T13:33:24.530856Z"
    },
    "papermill": {
     "duration": 0.268468,
     "end_time": "2023-03-16T13:33:24.535064",
     "exception": false,
     "start_time": "2023-03-16T13:33:24.266596",
     "status": "completed"
    },
    "tags": []
   },
   "outputs": [
    {
     "data": {
      "text/plain": [
       "<AxesSubplot:>"
      ]
     },
     "execution_count": 60,
     "metadata": {},
     "output_type": "execute_result"
    },
    {
     "data": {
      "image/png": "[encoded data removed]",
      "text/plain": [
       "<Figure size 1000x500 with 1 Axes>"
      ]
     },
     "metadata": {},
     "output_type": "display_data"
    }
   ],
   "source": [
    "# Finding outliers trough graph\n",
    "\n",
    "plt.figure(figsize = (10,5))\n",
    "sns.boxplot(df['Distance'])"
   ]
  },
  {
   "cell_type": "markdown",
   "id": "19432dec",
   "metadata": {
    "papermill": {
     "duration": 0.042736,
     "end_time": "2023-03-16T13:33:24.618934",
     "exception": false,
     "start_time": "2023-03-16T13:33:24.576198",
     "status": "completed"
    },
    "tags": []
   },
   "source": [
    "    From this visual we can see that there is outlaies present"
   ]
  },
  {
   "cell_type": "code",
   "execution_count": 61,
   "id": "ba8ffe2b",
   "metadata": {
    "execution": {
     "iopub.execute_input": "2023-03-16T13:33:24.703413Z",
     "iopub.status.busy": "2023-03-16T13:33:24.702951Z",
     "iopub.status.idle": "2023-03-16T13:33:24.716228Z",
     "shell.execute_reply": "2023-03-16T13:33:24.714893Z"
    },
    "papermill": {
     "duration": 0.058742,
     "end_time": "2023-03-16T13:33:24.718816",
     "exception": false,
     "start_time": "2023-03-16T13:33:24.660074",
     "status": "completed"
    },
    "tags": []
   },
   "outputs": [
    {
     "data": {
      "text/plain": [
       "8.7"
      ]
     },
     "execution_count": 61,
     "metadata": {},
     "output_type": "execute_result"
    }
   ],
   "source": [
    "## calculating inter quantile range\n",
    "Q3 = df.Distance.quantile(0.75)\n",
    "Q1 = df.Distance.quantile(0.25)\n",
    "IQR = Q3 - Q1\n",
    "IQR"
   ]
  },
  {
   "cell_type": "code",
   "execution_count": 62,
   "id": "d926292e",
   "metadata": {
    "execution": {
     "iopub.execute_input": "2023-03-16T13:33:24.802661Z",
     "iopub.status.busy": "2023-03-16T13:33:24.801722Z",
     "iopub.status.idle": "2023-03-16T13:33:24.810929Z",
     "shell.execute_reply": "2023-03-16T13:33:24.809691Z"
    },
    "papermill": {
     "duration": 0.05466,
     "end_time": "2023-03-16T13:33:24.814114",
     "exception": false,
     "start_time": "2023-03-16T13:33:24.759454",
     "status": "completed"
    },
    "tags": []
   },
   "outputs": [
    {
     "name": "stdout",
     "output_type": "stream",
     "text": [
      "Upper Bound: 28.45\n",
      "Lower Bound: -6.349999999999999\n"
     ]
    }
   ],
   "source": [
    "# Above Upper bound\n",
    "\n",
    "upper=Q3+1.5*IQR\n",
    "upper_array=np.array(df['Distance']>=upper)\n",
    "print(\"Upper Bound:\",upper)\n",
    "\n",
    "#Below Lower bound\n",
    "\n",
    "lower=Q1-1.5*IQR\n",
    "lower_array=np.array(df['Distance']<=lower)\n",
    "print(\"Lower Bound:\",lower)"
   ]
  },
  {
   "cell_type": "code",
   "execution_count": 63,
   "id": "7eb27e8c",
   "metadata": {
    "execution": {
     "iopub.execute_input": "2023-03-16T13:33:24.899206Z",
     "iopub.status.busy": "2023-03-16T13:33:24.898753Z",
     "iopub.status.idle": "2023-03-16T13:33:24.905247Z",
     "shell.execute_reply": "2023-03-16T13:33:24.904280Z"
    },
    "papermill": {
     "duration": 0.050767,
     "end_time": "2023-03-16T13:33:24.907608",
     "exception": false,
     "start_time": "2023-03-16T13:33:24.856841",
     "status": "completed"
    },
    "tags": []
   },
   "outputs": [],
   "source": [
    "# Replacing outliers with null values\n",
    "\n",
    "df['Distance'] = np.where(df['Distance']>=28.5, np.nan, df['Distance'])"
   ]
  },
  {
   "cell_type": "code",
   "execution_count": 64,
   "id": "b4a57163",
   "metadata": {
    "execution": {
     "iopub.execute_input": "2023-03-16T13:33:24.992766Z",
     "iopub.status.busy": "2023-03-16T13:33:24.991540Z",
     "iopub.status.idle": "2023-03-16T13:33:25.000227Z",
     "shell.execute_reply": "2023-03-16T13:33:24.998920Z"
    },
    "papermill": {
     "duration": 0.053348,
     "end_time": "2023-03-16T13:33:25.002564",
     "exception": false,
     "start_time": "2023-03-16T13:33:24.949216",
     "status": "completed"
    },
    "tags": []
   },
   "outputs": [
    {
     "data": {
      "text/plain": [
       "2465"
      ]
     },
     "execution_count": 64,
     "metadata": {},
     "output_type": "execute_result"
    }
   ],
   "source": [
    "df['Distance'].isnull().sum()"
   ]
  },
  {
   "cell_type": "markdown",
   "id": "a292373f",
   "metadata": {
    "papermill": {
     "duration": 0.040468,
     "end_time": "2023-03-16T13:33:25.083912",
     "exception": false,
     "start_time": "2023-03-16T13:33:25.043444",
     "status": "completed"
    },
    "tags": []
   },
   "source": [
    "#### For Postcode :-"
   ]
  },
  {
   "cell_type": "code",
   "execution_count": 65,
   "id": "7d4055f1",
   "metadata": {
    "execution": {
     "iopub.execute_input": "2023-03-16T13:33:25.167579Z",
     "iopub.status.busy": "2023-03-16T13:33:25.167093Z",
     "iopub.status.idle": "2023-03-16T13:33:25.914513Z",
     "shell.execute_reply": "2023-03-16T13:33:25.912921Z"
    },
    "papermill": {
     "duration": 0.792228,
     "end_time": "2023-03-16T13:33:25.917055",
     "exception": false,
     "start_time": "2023-03-16T13:33:25.124827",
     "status": "completed"
    },
    "tags": []
   },
   "outputs": [
    {
     "data": {
      "text/plain": [
       "<AxesSubplot:xlabel='Postcode', ylabel='Density'>"
      ]
     },
     "execution_count": 65,
     "metadata": {},
     "output_type": "execute_result"
    },
    {
     "data": {
      "image/png": "[encoded data removed]",
      "text/plain": [
       "<Figure size 1000x500 with 1 Axes>"
      ]
     },
     "metadata": {},
     "output_type": "display_data"
    }
   ],
   "source": [
    "#checking the distribution\n",
    "\n",
    "plt.figure(figsize = (10,5))\n",
    "sns.distplot(df['Postcode'])"
   ]
  },
  {
   "cell_type": "code",
   "execution_count": 66,
   "id": "1e8bc00e",
   "metadata": {
    "execution": {
     "iopub.execute_input": "2023-03-16T13:33:26.002755Z",
     "iopub.status.busy": "2023-03-16T13:33:26.002236Z",
     "iopub.status.idle": "2023-03-16T13:33:26.215045Z",
     "shell.execute_reply": "2023-03-16T13:33:26.214092Z"
    },
    "papermill": {
     "duration": 0.258704,
     "end_time": "2023-03-16T13:33:26.217639",
     "exception": false,
     "start_time": "2023-03-16T13:33:25.958935",
     "status": "completed"
    },
    "tags": []
   },
   "outputs": [
    {
     "data": {
      "text/plain": [
       "<AxesSubplot:>"
      ]
     },
     "execution_count": 66,
     "metadata": {},
     "output_type": "execute_result"
    },
    {
     "data": {
      "image/png": "[encoded data removed]",
      "text/plain": [
       "<Figure size 1000x500 with 1 Axes>"
      ]
     },
     "metadata": {},
     "output_type": "display_data"
    }
   ],
   "source": [
    "# Finding outliers trough graph\n",
    "\n",
    "plt.figure(figsize = (10,5))\n",
    "sns.boxplot(df['Postcode'])"
   ]
  },
  {
   "cell_type": "markdown",
   "id": "6e524f42",
   "metadata": {
    "papermill": {
     "duration": 0.043456,
     "end_time": "2023-03-16T13:33:26.304048",
     "exception": false,
     "start_time": "2023-03-16T13:33:26.260592",
     "status": "completed"
    },
    "tags": []
   },
   "source": [
    "    From this visual we can see that there is outlaies present"
   ]
  },
  {
   "cell_type": "code",
   "execution_count": 67,
   "id": "6c61431a",
   "metadata": {
    "execution": {
     "iopub.execute_input": "2023-03-16T13:33:26.392509Z",
     "iopub.status.busy": "2023-03-16T13:33:26.391214Z",
     "iopub.status.idle": "2023-03-16T13:33:26.404153Z",
     "shell.execute_reply": "2023-03-16T13:33:26.402848Z"
    },
    "papermill": {
     "duration": 0.059964,
     "end_time": "2023-03-16T13:33:26.406904",
     "exception": false,
     "start_time": "2023-03-16T13:33:26.346940",
     "status": "completed"
    },
    "tags": []
   },
   "outputs": [
    {
     "data": {
      "text/plain": [
       "109.0"
      ]
     },
     "execution_count": 67,
     "metadata": {},
     "output_type": "execute_result"
    }
   ],
   "source": [
    "## calculating inter quantile range\n",
    "Q3 = df.Postcode.quantile(0.75)\n",
    "Q1 = df.Postcode.quantile(0.25)\n",
    "IQR = Q3 - Q1\n",
    "IQR"
   ]
  },
  {
   "cell_type": "code",
   "execution_count": 68,
   "id": "22d3d024",
   "metadata": {
    "execution": {
     "iopub.execute_input": "2023-03-16T13:33:26.494233Z",
     "iopub.status.busy": "2023-03-16T13:33:26.493816Z",
     "iopub.status.idle": "2023-03-16T13:33:26.504297Z",
     "shell.execute_reply": "2023-03-16T13:33:26.502086Z"
    },
    "papermill": {
     "duration": 0.057321,
     "end_time": "2023-03-16T13:33:26.506827",
     "exception": false,
     "start_time": "2023-03-16T13:33:26.449506",
     "status": "completed"
    },
    "tags": []
   },
   "outputs": [
    {
     "name": "stdout",
     "output_type": "stream",
     "text": [
      "Upper Bound: 3326.5\n",
      "Lower Bound: 2890.5\n"
     ]
    }
   ],
   "source": [
    "# Above Upper bound\n",
    "\n",
    "upper=Q3+1.5*IQR\n",
    "upper_array=np.array(df['Postcode']>=upper)\n",
    "print(\"Upper Bound:\",upper)\n",
    "\n",
    "#Below Lower bound\n",
    "\n",
    "lower=Q1-1.5*IQR\n",
    "lower_array=np.array(df['Postcode']<=lower)\n",
    "print(\"Lower Bound:\",lower)"
   ]
  },
  {
   "cell_type": "code",
   "execution_count": 69,
   "id": "32b59268",
   "metadata": {
    "execution": {
     "iopub.execute_input": "2023-03-16T13:33:26.598145Z",
     "iopub.status.busy": "2023-03-16T13:33:26.597061Z",
     "iopub.status.idle": "2023-03-16T13:33:26.603980Z",
     "shell.execute_reply": "2023-03-16T13:33:26.602674Z"
    },
    "papermill": {
     "duration": 0.054435,
     "end_time": "2023-03-16T13:33:26.606821",
     "exception": false,
     "start_time": "2023-03-16T13:33:26.552386",
     "status": "completed"
    },
    "tags": []
   },
   "outputs": [],
   "source": [
    "# Replacing outliers with null values\n",
    "\n",
    "df['Postcode'] = np.where(df['Postcode']>3326, np.nan, df['Postcode'])"
   ]
  },
  {
   "cell_type": "code",
   "execution_count": 70,
   "id": "a8a8b14c",
   "metadata": {
    "execution": {
     "iopub.execute_input": "2023-03-16T13:33:26.694902Z",
     "iopub.status.busy": "2023-03-16T13:33:26.694419Z",
     "iopub.status.idle": "2023-03-16T13:33:26.703275Z",
     "shell.execute_reply": "2023-03-16T13:33:26.702270Z"
    },
    "papermill": {
     "duration": 0.055731,
     "end_time": "2023-03-16T13:33:26.705874",
     "exception": false,
     "start_time": "2023-03-16T13:33:26.650143",
     "status": "completed"
    },
    "tags": []
   },
   "outputs": [
    {
     "data": {
      "text/plain": [
       "2382"
      ]
     },
     "execution_count": 70,
     "metadata": {},
     "output_type": "execute_result"
    }
   ],
   "source": [
    "df['Postcode'].isnull().sum()"
   ]
  },
  {
   "cell_type": "markdown",
   "id": "13cdd023",
   "metadata": {
    "papermill": {
     "duration": 0.043042,
     "end_time": "2023-03-16T13:33:26.865388",
     "exception": false,
     "start_time": "2023-03-16T13:33:26.822346",
     "status": "completed"
    },
    "tags": []
   },
   "source": [
    "#### For Propertycount :- "
   ]
  },
  {
   "cell_type": "code",
   "execution_count": 71,
   "id": "73b1e5b5",
   "metadata": {
    "execution": {
     "iopub.execute_input": "2023-03-16T13:33:26.955854Z",
     "iopub.status.busy": "2023-03-16T13:33:26.955438Z",
     "iopub.status.idle": "2023-03-16T13:33:27.655094Z",
     "shell.execute_reply": "2023-03-16T13:33:27.654133Z"
    },
    "papermill": {
     "duration": 0.74781,
     "end_time": "2023-03-16T13:33:27.657629",
     "exception": false,
     "start_time": "2023-03-16T13:33:26.909819",
     "status": "completed"
    },
    "tags": []
   },
   "outputs": [
    {
     "data": {
      "text/plain": [
       "<AxesSubplot:xlabel='Propertycount', ylabel='Density'>"
      ]
     },
     "execution_count": 71,
     "metadata": {},
     "output_type": "execute_result"
    },
    {
     "data": {
      "image/png": "[encoded data removed]",
      "text/plain": [
       "<Figure size 1000x500 with 1 Axes>"
      ]
     },
     "metadata": {},
     "output_type": "display_data"
    }
   ],
   "source": [
    "#checking the distribution\n",
    "\n",
    "plt.figure(figsize = (10,5))\n",
    "sns.distplot(df['Propertycount'])"
   ]
  },
  {
   "cell_type": "code",
   "execution_count": 72,
   "id": "d4e65b8b",
   "metadata": {
    "execution": {
     "iopub.execute_input": "2023-03-16T13:33:27.747635Z",
     "iopub.status.busy": "2023-03-16T13:33:27.747159Z",
     "iopub.status.idle": "2023-03-16T13:33:28.089265Z",
     "shell.execute_reply": "2023-03-16T13:33:28.088372Z"
    },
    "papermill": {
     "duration": 0.39029,
     "end_time": "2023-03-16T13:33:28.091642",
     "exception": false,
     "start_time": "2023-03-16T13:33:27.701352",
     "status": "completed"
    },
    "tags": []
   },
   "outputs": [
    {
     "data": {
      "text/plain": [
       "<AxesSubplot:>"
      ]
     },
     "execution_count": 72,
     "metadata": {},
     "output_type": "execute_result"
    },
    {
     "data": {
      "image/png": "[encoded data removed]",
      "text/plain": [
       "<Figure size 1000x500 with 1 Axes>"
      ]
     },
     "metadata": {},
     "output_type": "display_data"
    }
   ],
   "source": [
    "# Finding outliers trough graph\n",
    "\n",
    "plt.figure(figsize = (10,5))\n",
    "sns.boxplot(df['Propertycount'])"
   ]
  },
  {
   "cell_type": "code",
   "execution_count": 73,
   "id": "36ffcca8",
   "metadata": {
    "execution": {
     "iopub.execute_input": "2023-03-16T13:33:28.182154Z",
     "iopub.status.busy": "2023-03-16T13:33:28.181490Z",
     "iopub.status.idle": "2023-03-16T13:33:28.193124Z",
     "shell.execute_reply": "2023-03-16T13:33:28.192039Z"
    },
    "papermill": {
     "duration": 0.059492,
     "end_time": "2023-03-16T13:33:28.195685",
     "exception": false,
     "start_time": "2023-03-16T13:33:28.136193",
     "status": "completed"
    },
    "tags": []
   },
   "outputs": [
    {
     "data": {
      "text/plain": [
       "6032.0"
      ]
     },
     "execution_count": 73,
     "metadata": {},
     "output_type": "execute_result"
    }
   ],
   "source": [
    "## calculating inter quantile range\n",
    "Q3 = df.Propertycount.quantile(0.75)\n",
    "Q1 = df.Propertycount.quantile(0.25)\n",
    "IQR = Q3 - Q1\n",
    "IQR"
   ]
  },
  {
   "cell_type": "code",
   "execution_count": 74,
   "id": "0631ff78",
   "metadata": {
    "execution": {
     "iopub.execute_input": "2023-03-16T13:33:28.286575Z",
     "iopub.status.busy": "2023-03-16T13:33:28.285918Z",
     "iopub.status.idle": "2023-03-16T13:33:28.296075Z",
     "shell.execute_reply": "2023-03-16T13:33:28.294252Z"
    },
    "papermill": {
     "duration": 0.059846,
     "end_time": "2023-03-16T13:33:28.299996",
     "exception": false,
     "start_time": "2023-03-16T13:33:28.240150",
     "status": "completed"
    },
    "tags": []
   },
   "outputs": [
    {
     "name": "stdout",
     "output_type": "stream",
     "text": [
      "Upper Bound: 19460.0\n",
      "Lower Bound: -4668.0\n"
     ]
    }
   ],
   "source": [
    "# Above Upper bound\n",
    "\n",
    "upper=Q3+1.5*IQR\n",
    "upper_array=np.array(df['Propertycount']>=upper)\n",
    "print(\"Upper Bound:\",upper)\n",
    "\n",
    "#Below Lower bound\n",
    "\n",
    "lower=Q1-1.5*IQR\n",
    "lower_array=np.array(df['Propertycount']<=lower)\n",
    "print(\"Lower Bound:\",lower)"
   ]
  },
  {
   "cell_type": "code",
   "execution_count": 75,
   "id": "d29911ba",
   "metadata": {
    "execution": {
     "iopub.execute_input": "2023-03-16T13:33:28.390935Z",
     "iopub.status.busy": "2023-03-16T13:33:28.389733Z",
     "iopub.status.idle": "2023-03-16T13:33:28.397150Z",
     "shell.execute_reply": "2023-03-16T13:33:28.396224Z"
    },
    "papermill": {
     "duration": 0.055636,
     "end_time": "2023-03-16T13:33:28.399847",
     "exception": false,
     "start_time": "2023-03-16T13:33:28.344211",
     "status": "completed"
    },
    "tags": []
   },
   "outputs": [],
   "source": [
    "# Replacing outliers with null values\n",
    "\n",
    "df['Propertycount'] = np.where(df['Propertycount']>19460, np.nan, df['Propertycount'])"
   ]
  },
  {
   "cell_type": "code",
   "execution_count": 76,
   "id": "a5e130a6",
   "metadata": {
    "execution": {
     "iopub.execute_input": "2023-03-16T13:33:28.493845Z",
     "iopub.status.busy": "2023-03-16T13:33:28.492784Z",
     "iopub.status.idle": "2023-03-16T13:33:28.502364Z",
     "shell.execute_reply": "2023-03-16T13:33:28.500958Z"
    },
    "papermill": {
     "duration": 0.060285,
     "end_time": "2023-03-16T13:33:28.504662",
     "exception": false,
     "start_time": "2023-03-16T13:33:28.444377",
     "status": "completed"
    },
    "tags": []
   },
   "outputs": [
    {
     "data": {
      "text/plain": [
       "1685"
      ]
     },
     "execution_count": 76,
     "metadata": {},
     "output_type": "execute_result"
    }
   ],
   "source": [
    "df['Propertycount'].isnull().sum()"
   ]
  },
  {
   "cell_type": "markdown",
   "id": "f174fdde",
   "metadata": {
    "papermill": {
     "duration": 0.044292,
     "end_time": "2023-03-16T13:33:28.593638",
     "exception": false,
     "start_time": "2023-03-16T13:33:28.549346",
     "status": "completed"
    },
    "tags": []
   },
   "source": [
    "#### Cleaning null values :- "
   ]
  },
  {
   "cell_type": "code",
   "execution_count": 77,
   "id": "e69a2970",
   "metadata": {
    "execution": {
     "iopub.execute_input": "2023-03-16T13:33:28.685527Z",
     "iopub.status.busy": "2023-03-16T13:33:28.684236Z",
     "iopub.status.idle": "2023-03-16T13:33:28.724559Z",
     "shell.execute_reply": "2023-03-16T13:33:28.723503Z"
    },
    "papermill": {
     "duration": 0.088448,
     "end_time": "2023-03-16T13:33:28.727029",
     "exception": false,
     "start_time": "2023-03-16T13:33:28.638581",
     "status": "completed"
    },
    "tags": []
   },
   "outputs": [
    {
     "data": {
      "text/plain": [
       "Suburb              0\n",
       "Address             0\n",
       "Rooms             137\n",
       "Type                0\n",
       "Price               0\n",
       "Method              0\n",
       "SellerG             0\n",
       "Date                0\n",
       "Distance         2465\n",
       "Postcode         2382\n",
       "CouncilArea         0\n",
       "Regionname          0\n",
       "Propertycount    1685\n",
       "dtype: int64"
      ]
     },
     "execution_count": 77,
     "metadata": {},
     "output_type": "execute_result"
    }
   ],
   "source": [
    "df.isnull().sum()"
   ]
  },
  {
   "cell_type": "markdown",
   "id": "86739c28",
   "metadata": {
    "papermill": {
     "duration": 0.045739,
     "end_time": "2023-03-16T13:33:28.818464",
     "exception": false,
     "start_time": "2023-03-16T13:33:28.772725",
     "status": "completed"
    },
    "tags": []
   },
   "source": [
    "    There are still some null values are present because i have converted the outliers into null values.\n",
    "    \n",
    "    So now we will clean this null value"
   ]
  },
  {
   "cell_type": "code",
   "execution_count": 78,
   "id": "a3305038",
   "metadata": {
    "execution": {
     "iopub.execute_input": "2023-03-16T13:33:28.909734Z",
     "iopub.status.busy": "2023-03-16T13:33:28.908565Z",
     "iopub.status.idle": "2023-03-16T13:33:28.933946Z",
     "shell.execute_reply": "2023-03-16T13:33:28.932879Z"
    },
    "papermill": {
     "duration": 0.074071,
     "end_time": "2023-03-16T13:33:28.936914",
     "exception": false,
     "start_time": "2023-03-16T13:33:28.862843",
     "status": "completed"
    },
    "tags": []
   },
   "outputs": [],
   "source": [
    "# dropping rows with null values\n",
    "\n",
    "df = df.dropna(subset=['Rooms', 'Postcode','Distance','Propertycount'])"
   ]
  },
  {
   "cell_type": "code",
   "execution_count": 79,
   "id": "a47bbf6d",
   "metadata": {
    "execution": {
     "iopub.execute_input": "2023-03-16T13:33:29.029098Z",
     "iopub.status.busy": "2023-03-16T13:33:29.028000Z",
     "iopub.status.idle": "2023-03-16T13:33:29.066416Z",
     "shell.execute_reply": "2023-03-16T13:33:29.065101Z"
    },
    "papermill": {
     "duration": 0.087184,
     "end_time": "2023-03-16T13:33:29.069037",
     "exception": false,
     "start_time": "2023-03-16T13:33:28.981853",
     "status": "completed"
    },
    "tags": []
   },
   "outputs": [
    {
     "data": {
      "text/plain": [
       "Suburb           0\n",
       "Address          0\n",
       "Rooms            0\n",
       "Type             0\n",
       "Price            0\n",
       "Method           0\n",
       "SellerG          0\n",
       "Date             0\n",
       "Distance         0\n",
       "Postcode         0\n",
       "CouncilArea      0\n",
       "Regionname       0\n",
       "Propertycount    0\n",
       "dtype: int64"
      ]
     },
     "execution_count": 79,
     "metadata": {},
     "output_type": "execute_result"
    }
   ],
   "source": [
    "df.isnull().sum()"
   ]
  },
  {
   "cell_type": "markdown",
   "id": "231ca89e",
   "metadata": {
    "papermill": {
     "duration": 0.044592,
     "end_time": "2023-03-16T13:33:29.159149",
     "exception": false,
     "start_time": "2023-03-16T13:33:29.114557",
     "status": "completed"
    },
    "tags": []
   },
   "source": [
    "Now the data is clean as i have removed null values and outliers"
   ]
  },
  {
   "cell_type": "markdown",
   "id": "24c01a23",
   "metadata": {
    "papermill": {
     "duration": 0.044607,
     "end_time": "2023-03-16T13:33:29.248379",
     "exception": false,
     "start_time": "2023-03-16T13:33:29.203772",
     "status": "completed"
    },
    "tags": []
   },
   "source": [
    "## EDA"
   ]
  },
  {
   "cell_type": "code",
   "execution_count": 80,
   "id": "083f3a59",
   "metadata": {
    "execution": {
     "iopub.execute_input": "2023-03-16T13:33:29.342899Z",
     "iopub.status.busy": "2023-03-16T13:33:29.342425Z",
     "iopub.status.idle": "2023-03-16T13:33:29.364010Z",
     "shell.execute_reply": "2023-03-16T13:33:29.362826Z"
    },
    "papermill": {
     "duration": 0.071697,
     "end_time": "2023-03-16T13:33:29.366555",
     "exception": false,
     "start_time": "2023-03-16T13:33:29.294858",
     "status": "completed"
    },
    "tags": []
   },
   "outputs": [
    {
     "data": {
      "text/html": [
       "<div>\n",
       "<style scoped>\n",
       "    .dataframe tbody tr th:only-of-type {\n",
       "        vertical-align: middle;\n",
       "    }\n",
       "\n",
       "    .dataframe tbody tr th {\n",
       "        vertical-align: top;\n",
       "    }\n",
       "\n",
       "    .dataframe thead th {\n",
       "        text-align: right;\n",
       "    }\n",
       "</style>\n",
       "<table border=\"1\" class=\"dataframe\">\n",
       "  <thead>\n",
       "    <tr style=\"text-align: right;\">\n",
       "      <th></th>\n",
       "      <th>Suburb</th>\n",
       "      <th>Address</th>\n",
       "      <th>Rooms</th>\n",
       "      <th>Type</th>\n",
       "      <th>Price</th>\n",
       "      <th>Method</th>\n",
       "      <th>SellerG</th>\n",
       "      <th>Date</th>\n",
       "      <th>Distance</th>\n",
       "      <th>Postcode</th>\n",
       "      <th>CouncilArea</th>\n",
       "      <th>Regionname</th>\n",
       "      <th>Propertycount</th>\n",
       "    </tr>\n",
       "  </thead>\n",
       "  <tbody>\n",
       "    <tr>\n",
       "      <th>0</th>\n",
       "      <td>Abbotsford</td>\n",
       "      <td>68 Studley St</td>\n",
       "      <td>2.0</td>\n",
       "      <td>h</td>\n",
       "      <td>1.012202e+06</td>\n",
       "      <td>SS</td>\n",
       "      <td>Jellis</td>\n",
       "      <td>3/09/2016</td>\n",
       "      <td>2.5</td>\n",
       "      <td>3067.0</td>\n",
       "      <td>Yarra City Council</td>\n",
       "      <td>Northern Metropolitan</td>\n",
       "      <td>4019.0</td>\n",
       "    </tr>\n",
       "    <tr>\n",
       "      <th>1</th>\n",
       "      <td>Abbotsford</td>\n",
       "      <td>85 Turner St</td>\n",
       "      <td>2.0</td>\n",
       "      <td>h</td>\n",
       "      <td>1.480000e+06</td>\n",
       "      <td>S</td>\n",
       "      <td>Biggin</td>\n",
       "      <td>3/12/2016</td>\n",
       "      <td>2.5</td>\n",
       "      <td>3067.0</td>\n",
       "      <td>Yarra City Council</td>\n",
       "      <td>Northern Metropolitan</td>\n",
       "      <td>4019.0</td>\n",
       "    </tr>\n",
       "    <tr>\n",
       "      <th>2</th>\n",
       "      <td>Abbotsford</td>\n",
       "      <td>25 Bloomburg St</td>\n",
       "      <td>2.0</td>\n",
       "      <td>h</td>\n",
       "      <td>1.035000e+06</td>\n",
       "      <td>S</td>\n",
       "      <td>Biggin</td>\n",
       "      <td>4/02/2016</td>\n",
       "      <td>2.5</td>\n",
       "      <td>3067.0</td>\n",
       "      <td>Yarra City Council</td>\n",
       "      <td>Northern Metropolitan</td>\n",
       "      <td>4019.0</td>\n",
       "    </tr>\n",
       "    <tr>\n",
       "      <th>3</th>\n",
       "      <td>Abbotsford</td>\n",
       "      <td>18/659 Victoria St</td>\n",
       "      <td>3.0</td>\n",
       "      <td>u</td>\n",
       "      <td>1.012202e+06</td>\n",
       "      <td>VB</td>\n",
       "      <td>Rounds</td>\n",
       "      <td>4/02/2016</td>\n",
       "      <td>2.5</td>\n",
       "      <td>3067.0</td>\n",
       "      <td>Yarra City Council</td>\n",
       "      <td>Northern Metropolitan</td>\n",
       "      <td>4019.0</td>\n",
       "    </tr>\n",
       "    <tr>\n",
       "      <th>4</th>\n",
       "      <td>Abbotsford</td>\n",
       "      <td>5 Charles St</td>\n",
       "      <td>3.0</td>\n",
       "      <td>h</td>\n",
       "      <td>1.465000e+06</td>\n",
       "      <td>SP</td>\n",
       "      <td>Biggin</td>\n",
       "      <td>4/03/2017</td>\n",
       "      <td>2.5</td>\n",
       "      <td>3067.0</td>\n",
       "      <td>Yarra City Council</td>\n",
       "      <td>Northern Metropolitan</td>\n",
       "      <td>4019.0</td>\n",
       "    </tr>\n",
       "  </tbody>\n",
       "</table>\n",
       "</div>"
      ],
      "text/plain": [
       "       Suburb             Address  Rooms Type         Price Method SellerG  \\\n",
       "0  Abbotsford       68 Studley St    2.0    h  1.012202e+06     SS  Jellis   \n",
       "1  Abbotsford        85 Turner St    2.0    h  1.480000e+06      S  Biggin   \n",
       "2  Abbotsford     25 Bloomburg St    2.0    h  1.035000e+06      S  Biggin   \n",
       "3  Abbotsford  18/659 Victoria St    3.0    u  1.012202e+06     VB  Rounds   \n",
       "4  Abbotsford        5 Charles St    3.0    h  1.465000e+06     SP  Biggin   \n",
       "\n",
       "        Date  Distance  Postcode         CouncilArea             Regionname  \\\n",
       "0  3/09/2016       2.5    3067.0  Yarra City Council  Northern Metropolitan   \n",
       "1  3/12/2016       2.5    3067.0  Yarra City Council  Northern Metropolitan   \n",
       "2  4/02/2016       2.5    3067.0  Yarra City Council  Northern Metropolitan   \n",
       "3  4/02/2016       2.5    3067.0  Yarra City Council  Northern Metropolitan   \n",
       "4  4/03/2017       2.5    3067.0  Yarra City Council  Northern Metropolitan   \n",
       "\n",
       "   Propertycount  \n",
       "0         4019.0  \n",
       "1         4019.0  \n",
       "2         4019.0  \n",
       "3         4019.0  \n",
       "4         4019.0  "
      ]
     },
     "execution_count": 80,
     "metadata": {},
     "output_type": "execute_result"
    }
   ],
   "source": [
    "df.head()"
   ]
  },
  {
   "cell_type": "markdown",
   "id": "7985bcbd",
   "metadata": {
    "papermill": {
     "duration": 0.045604,
     "end_time": "2023-03-16T13:33:29.457994",
     "exception": false,
     "start_time": "2023-03-16T13:33:29.412390",
     "status": "completed"
    },
    "tags": []
   },
   "source": [
    "#### Checking Correlation "
   ]
  },
  {
   "cell_type": "code",
   "execution_count": 81,
   "id": "23a48759",
   "metadata": {
    "execution": {
     "iopub.execute_input": "2023-03-16T13:33:29.551524Z",
     "iopub.status.busy": "2023-03-16T13:33:29.551076Z",
     "iopub.status.idle": "2023-03-16T13:33:29.573711Z",
     "shell.execute_reply": "2023-03-16T13:33:29.572523Z"
    },
    "papermill": {
     "duration": 0.073305,
     "end_time": "2023-03-16T13:33:29.576219",
     "exception": false,
     "start_time": "2023-03-16T13:33:29.502914",
     "status": "completed"
    },
    "tags": []
   },
   "outputs": [
    {
     "data": {
      "text/html": [
       "<div>\n",
       "<style scoped>\n",
       "    .dataframe tbody tr th:only-of-type {\n",
       "        vertical-align: middle;\n",
       "    }\n",
       "\n",
       "    .dataframe tbody tr th {\n",
       "        vertical-align: top;\n",
       "    }\n",
       "\n",
       "    .dataframe thead th {\n",
       "        text-align: right;\n",
       "    }\n",
       "</style>\n",
       "<table border=\"1\" class=\"dataframe\">\n",
       "  <thead>\n",
       "    <tr style=\"text-align: right;\">\n",
       "      <th></th>\n",
       "      <th>Rooms</th>\n",
       "      <th>Price</th>\n",
       "      <th>Distance</th>\n",
       "      <th>Postcode</th>\n",
       "      <th>Propertycount</th>\n",
       "    </tr>\n",
       "  </thead>\n",
       "  <tbody>\n",
       "    <tr>\n",
       "      <th>Rooms</th>\n",
       "      <td>1.000000</td>\n",
       "      <td>0.347591</td>\n",
       "      <td>0.309128</td>\n",
       "      <td>0.027063</td>\n",
       "      <td>-0.050870</td>\n",
       "    </tr>\n",
       "    <tr>\n",
       "      <th>Price</th>\n",
       "      <td>0.347591</td>\n",
       "      <td>1.000000</td>\n",
       "      <td>-0.105576</td>\n",
       "      <td>0.222380</td>\n",
       "      <td>-0.027557</td>\n",
       "    </tr>\n",
       "    <tr>\n",
       "      <th>Distance</th>\n",
       "      <td>0.309128</td>\n",
       "      <td>-0.105576</td>\n",
       "      <td>1.000000</td>\n",
       "      <td>0.216212</td>\n",
       "      <td>-0.054539</td>\n",
       "    </tr>\n",
       "    <tr>\n",
       "      <th>Postcode</th>\n",
       "      <td>0.027063</td>\n",
       "      <td>0.222380</td>\n",
       "      <td>0.216212</td>\n",
       "      <td>1.000000</td>\n",
       "      <td>0.056628</td>\n",
       "    </tr>\n",
       "    <tr>\n",
       "      <th>Propertycount</th>\n",
       "      <td>-0.050870</td>\n",
       "      <td>-0.027557</td>\n",
       "      <td>-0.054539</td>\n",
       "      <td>0.056628</td>\n",
       "      <td>1.000000</td>\n",
       "    </tr>\n",
       "  </tbody>\n",
       "</table>\n",
       "</div>"
      ],
      "text/plain": [
       "                  Rooms     Price  Distance  Postcode  Propertycount\n",
       "Rooms          1.000000  0.347591  0.309128  0.027063      -0.050870\n",
       "Price          0.347591  1.000000 -0.105576  0.222380      -0.027557\n",
       "Distance       0.309128 -0.105576  1.000000  0.216212      -0.054539\n",
       "Postcode       0.027063  0.222380  0.216212  1.000000       0.056628\n",
       "Propertycount -0.050870 -0.027557 -0.054539  0.056628       1.000000"
      ]
     },
     "execution_count": 81,
     "metadata": {},
     "output_type": "execute_result"
    }
   ],
   "source": [
    "df.corr()"
   ]
  },
  {
   "cell_type": "code",
   "execution_count": 82,
   "id": "644df977",
   "metadata": {
    "execution": {
     "iopub.execute_input": "2023-03-16T13:33:29.668841Z",
     "iopub.status.busy": "2023-03-16T13:33:29.668396Z",
     "iopub.status.idle": "2023-03-16T13:33:30.066246Z",
     "shell.execute_reply": "2023-03-16T13:33:30.064917Z"
    },
    "papermill": {
     "duration": 0.448107,
     "end_time": "2023-03-16T13:33:30.069298",
     "exception": false,
     "start_time": "2023-03-16T13:33:29.621191",
     "status": "completed"
    },
    "tags": []
   },
   "outputs": [
    {
     "data": {
      "image/png": "[encoded data removed]",
      "text/plain": [
       "<Figure size 1500x1000 with 2 Axes>"
      ]
     },
     "metadata": {},
     "output_type": "display_data"
    }
   ],
   "source": [
    "# Let's check the correlation coefficients to see which variables are highly correlated\n",
    "\n",
    "plt.figure(figsize = (15, 10))\n",
    "sns.heatmap(df.corr(), annot = True, cmap=\"rocket_r\")\n",
    "plt.show()"
   ]
  },
  {
   "cell_type": "markdown",
   "id": "4e94921e",
   "metadata": {
    "papermill": {
     "duration": 0.045883,
     "end_time": "2023-03-16T13:33:30.161220",
     "exception": false,
     "start_time": "2023-03-16T13:33:30.115337",
     "status": "completed"
    },
    "tags": []
   },
   "source": [
    "    We can clearly see that none of the feature are correlated to each other"
   ]
  },
  {
   "cell_type": "markdown",
   "id": "c2fd8d5d",
   "metadata": {
    "papermill": {
     "duration": 0.04687,
     "end_time": "2023-03-16T13:33:30.254863",
     "exception": false,
     "start_time": "2023-03-16T13:33:30.207993",
     "status": "completed"
    },
    "tags": []
   },
   "source": [
    "#### 1. Which Suburb has maximum Price?"
   ]
  },
  {
   "cell_type": "code",
   "execution_count": 83,
   "id": "fcce4ebb",
   "metadata": {
    "execution": {
     "iopub.execute_input": "2023-03-16T13:33:30.348457Z",
     "iopub.status.busy": "2023-03-16T13:33:30.347660Z",
     "iopub.status.idle": "2023-03-16T13:33:30.616132Z",
     "shell.execute_reply": "2023-03-16T13:33:30.614780Z"
    },
    "papermill": {
     "duration": 0.318432,
     "end_time": "2023-03-16T13:33:30.618804",
     "exception": false,
     "start_time": "2023-03-16T13:33:30.300372",
     "status": "completed"
    },
    "tags": []
   },
   "outputs": [
    {
     "data": {
      "text/plain": [
       "<AxesSubplot:ylabel='Suburb'>"
      ]
     },
     "execution_count": 83,
     "metadata": {},
     "output_type": "execute_result"
    },
    {
     "data": {
      "image/png": "[encoded data removed]",
      "text/plain": [
       "<Figure size 1000x600 with 1 Axes>"
      ]
     },
     "metadata": {},
     "output_type": "display_data"
    }
   ],
   "source": [
    "a=df.groupby('Suburb')['Price'].mean()\n",
    "sorted_a=a.sort_values(ascending=False).head(5)\n",
    "\n",
    "plt.figure(figsize=[10,6])\n",
    "sns.barplot(y=sorted_a.index,x=sorted_a.values)"
   ]
  },
  {
   "cell_type": "markdown",
   "id": "72e86187",
   "metadata": {
    "papermill": {
     "duration": 0.046305,
     "end_time": "2023-03-16T13:33:30.712338",
     "exception": false,
     "start_time": "2023-03-16T13:33:30.666033",
     "status": "completed"
    },
    "tags": []
   },
   "source": [
    "    From this visual we can say that Warrandyte South Has maximum Price For houses"
   ]
  },
  {
   "cell_type": "markdown",
   "id": "78768306",
   "metadata": {
    "papermill": {
     "duration": 0.046211,
     "end_time": "2023-03-16T13:33:30.805314",
     "exception": false,
     "start_time": "2023-03-16T13:33:30.759103",
     "status": "completed"
    },
    "tags": []
   },
   "source": [
    "#### 2.Which house type has maximum price? "
   ]
  },
  {
   "cell_type": "code",
   "execution_count": 84,
   "id": "30f5e990",
   "metadata": {
    "execution": {
     "iopub.execute_input": "2023-03-16T13:33:30.900929Z",
     "iopub.status.busy": "2023-03-16T13:33:30.900383Z",
     "iopub.status.idle": "2023-03-16T13:33:31.128949Z",
     "shell.execute_reply": "2023-03-16T13:33:31.127777Z"
    },
    "papermill": {
     "duration": 0.279938,
     "end_time": "2023-03-16T13:33:31.131496",
     "exception": false,
     "start_time": "2023-03-16T13:33:30.851558",
     "status": "completed"
    },
    "tags": []
   },
   "outputs": [
    {
     "data": {
      "text/plain": [
       "<AxesSubplot:ylabel='Type'>"
      ]
     },
     "execution_count": 84,
     "metadata": {},
     "output_type": "execute_result"
    },
    {
     "data": {
      "image/png": "[encoded data removed]",
      "text/plain": [
       "<Figure size 1000x600 with 1 Axes>"
      ]
     },
     "metadata": {},
     "output_type": "display_data"
    }
   ],
   "source": [
    "a=df.groupby('Type')['Price'].mean()\n",
    "sorted_a=a.sort_values(ascending=False).head(5)\n",
    "\n",
    "plt.figure(figsize=[10,6])\n",
    "sns.barplot(y=sorted_a.index,x=sorted_a.values)"
   ]
  },
  {
   "cell_type": "markdown",
   "id": "b332af71",
   "metadata": {
    "papermill": {
     "duration": 0.046505,
     "end_time": "2023-03-16T13:33:31.225322",
     "exception": false,
     "start_time": "2023-03-16T13:33:31.178817",
     "status": "completed"
    },
    "tags": []
   },
   "source": [
    "h - (house,cottage,villa, semi,terrace) has the maximum price."
   ]
  },
  {
   "cell_type": "markdown",
   "id": "ae4d598e",
   "metadata": {
    "papermill": {
     "duration": 0.049603,
     "end_time": "2023-03-16T13:33:31.321952",
     "exception": false,
     "start_time": "2023-03-16T13:33:31.272349",
     "status": "completed"
    },
    "tags": []
   },
   "source": [
    "#### 3. Area with higest no or rooms house "
   ]
  },
  {
   "cell_type": "code",
   "execution_count": 85,
   "id": "663a8167",
   "metadata": {
    "execution": {
     "iopub.execute_input": "2023-03-16T13:33:31.420720Z",
     "iopub.status.busy": "2023-03-16T13:33:31.419792Z",
     "iopub.status.idle": "2023-03-16T13:33:31.677890Z",
     "shell.execute_reply": "2023-03-16T13:33:31.676972Z"
    },
    "papermill": {
     "duration": 0.310554,
     "end_time": "2023-03-16T13:33:31.680497",
     "exception": false,
     "start_time": "2023-03-16T13:33:31.369943",
     "status": "completed"
    },
    "tags": []
   },
   "outputs": [
    {
     "data": {
      "text/plain": [
       "<AxesSubplot:ylabel='Suburb'>"
      ]
     },
     "execution_count": 85,
     "metadata": {},
     "output_type": "execute_result"
    },
    {
     "data": {
      "image/png": "[encoded data removed]",
      "text/plain": [
       "<Figure size 1000x600 with 1 Axes>"
      ]
     },
     "metadata": {},
     "output_type": "display_data"
    }
   ],
   "source": [
    "a=df.groupby('Suburb')['Rooms'].mean()\n",
    "sorted_a=a.sort_values(ascending=False).head(5)\n",
    "\n",
    "plt.figure(figsize=[10,6])\n",
    "sns.barplot(y=sorted_a.index,x=sorted_a.values)"
   ]
  },
  {
   "cell_type": "markdown",
   "id": "d9bf361e",
   "metadata": {
    "papermill": {
     "duration": 0.054726,
     "end_time": "2023-03-16T13:33:31.782896",
     "exception": false,
     "start_time": "2023-03-16T13:33:31.728170",
     "status": "completed"
    },
    "tags": []
   },
   "source": [
    "    Lysternfield has higest no of rooms in single house which is 6"
   ]
  },
  {
   "cell_type": "markdown",
   "id": "52ce3649",
   "metadata": {
    "papermill": {
     "duration": 0.047427,
     "end_time": "2023-03-16T13:33:31.877423",
     "exception": false,
     "start_time": "2023-03-16T13:33:31.829996",
     "status": "completed"
    },
    "tags": []
   },
   "source": [
    "#### 4. Which seller has sold the most expensive house? "
   ]
  },
  {
   "cell_type": "code",
   "execution_count": 86,
   "id": "352fb9e2",
   "metadata": {
    "execution": {
     "iopub.execute_input": "2023-03-16T13:33:31.974794Z",
     "iopub.status.busy": "2023-03-16T13:33:31.973877Z",
     "iopub.status.idle": "2023-03-16T13:33:32.244211Z",
     "shell.execute_reply": "2023-03-16T13:33:32.242758Z"
    },
    "papermill": {
     "duration": 0.321798,
     "end_time": "2023-03-16T13:33:32.246787",
     "exception": false,
     "start_time": "2023-03-16T13:33:31.924989",
     "status": "completed"
    },
    "tags": []
   },
   "outputs": [
    {
     "data": {
      "text/plain": [
       "<AxesSubplot:ylabel='SellerG'>"
      ]
     },
     "execution_count": 86,
     "metadata": {},
     "output_type": "execute_result"
    },
    {
     "data": {
      "image/png": "[encoded data removed]",
      "text/plain": [
       "<Figure size 1000x600 with 1 Axes>"
      ]
     },
     "metadata": {},
     "output_type": "display_data"
    }
   ],
   "source": [
    "a=df.groupby('SellerG')['Price'].mean()\n",
    "sorted_a=a.sort_values(ascending=False).head(5)\n",
    "\n",
    "plt.figure(figsize=[10,6])\n",
    "sns.barplot(y=sorted_a.index,x=sorted_a.values)"
   ]
  },
  {
   "cell_type": "markdown",
   "id": "aefb756f",
   "metadata": {
    "papermill": {
     "duration": 0.047653,
     "end_time": "2023-03-16T13:33:32.342256",
     "exception": false,
     "start_time": "2023-03-16T13:33:32.294603",
     "status": "completed"
    },
    "tags": []
   },
   "source": [
    "    Conquest Has sold the most expensive house."
   ]
  },
  {
   "cell_type": "markdown",
   "id": "a5cd96e8",
   "metadata": {
    "papermill": {
     "duration": 0.048054,
     "end_time": "2023-03-16T13:33:32.438468",
     "exception": false,
     "start_time": "2023-03-16T13:33:32.390414",
     "status": "completed"
    },
    "tags": []
   },
   "source": [
    "#### 5. Which Regionname has expencive house ? "
   ]
  },
  {
   "cell_type": "code",
   "execution_count": 87,
   "id": "45b41555",
   "metadata": {
    "execution": {
     "iopub.execute_input": "2023-03-16T13:33:32.559070Z",
     "iopub.status.busy": "2023-03-16T13:33:32.557906Z",
     "iopub.status.idle": "2023-03-16T13:33:32.769659Z",
     "shell.execute_reply": "2023-03-16T13:33:32.768387Z"
    },
    "papermill": {
     "duration": 0.281308,
     "end_time": "2023-03-16T13:33:32.772609",
     "exception": false,
     "start_time": "2023-03-16T13:33:32.491301",
     "status": "completed"
    },
    "tags": []
   },
   "outputs": [
    {
     "data": {
      "text/plain": [
       "<AxesSubplot:ylabel='Regionname'>"
      ]
     },
     "execution_count": 87,
     "metadata": {},
     "output_type": "execute_result"
    },
    {
     "data": {
      "image/png": "[encoded data removed]",
      "text/plain": [
       "<Figure size 1000x600 with 1 Axes>"
      ]
     },
     "metadata": {},
     "output_type": "display_data"
    }
   ],
   "source": [
    "a=df.groupby('Regionname')['Price'].mean()\n",
    "sorted_a=a.sort_values(ascending=False).head(5)\n",
    "\n",
    "plt.figure(figsize=[10,6])\n",
    "sns.barplot(y=sorted_a.index,x=sorted_a.values)"
   ]
  },
  {
   "cell_type": "markdown",
   "id": "31ca23f3",
   "metadata": {
    "papermill": {
     "duration": 0.050594,
     "end_time": "2023-03-16T13:33:32.874495",
     "exception": false,
     "start_time": "2023-03-16T13:33:32.823901",
     "status": "completed"
    },
    "tags": []
   },
   "source": [
    "    Eastern Metropolitan has most expensive house"
   ]
  },
  {
   "cell_type": "markdown",
   "id": "988fc1dc",
   "metadata": {
    "papermill": {
     "duration": 0.049369,
     "end_time": "2023-03-16T13:33:32.972260",
     "exception": false,
     "start_time": "2023-03-16T13:33:32.922891",
     "status": "completed"
    },
    "tags": []
   },
   "source": [
    "## Feature Enginearing "
   ]
  },
  {
   "cell_type": "code",
   "execution_count": 88,
   "id": "914eb210",
   "metadata": {
    "execution": {
     "iopub.execute_input": "2023-03-16T13:33:33.070515Z",
     "iopub.status.busy": "2023-03-16T13:33:33.070083Z",
     "iopub.status.idle": "2023-03-16T13:33:33.092528Z",
     "shell.execute_reply": "2023-03-16T13:33:33.091075Z"
    },
    "papermill": {
     "duration": 0.07506,
     "end_time": "2023-03-16T13:33:33.095377",
     "exception": false,
     "start_time": "2023-03-16T13:33:33.020317",
     "status": "completed"
    },
    "tags": []
   },
   "outputs": [
    {
     "data": {
      "text/html": [
       "<div>\n",
       "<style scoped>\n",
       "    .dataframe tbody tr th:only-of-type {\n",
       "        vertical-align: middle;\n",
       "    }\n",
       "\n",
       "    .dataframe tbody tr th {\n",
       "        vertical-align: top;\n",
       "    }\n",
       "\n",
       "    .dataframe thead th {\n",
       "        text-align: right;\n",
       "    }\n",
       "</style>\n",
       "<table border=\"1\" class=\"dataframe\">\n",
       "  <thead>\n",
       "    <tr style=\"text-align: right;\">\n",
       "      <th></th>\n",
       "      <th>Suburb</th>\n",
       "      <th>Address</th>\n",
       "      <th>Rooms</th>\n",
       "      <th>Type</th>\n",
       "      <th>Price</th>\n",
       "      <th>Method</th>\n",
       "      <th>SellerG</th>\n",
       "      <th>Date</th>\n",
       "      <th>Distance</th>\n",
       "      <th>Postcode</th>\n",
       "      <th>CouncilArea</th>\n",
       "      <th>Regionname</th>\n",
       "      <th>Propertycount</th>\n",
       "    </tr>\n",
       "  </thead>\n",
       "  <tbody>\n",
       "    <tr>\n",
       "      <th>7404</th>\n",
       "      <td>Northcote</td>\n",
       "      <td>52 Charles St</td>\n",
       "      <td>2.0</td>\n",
       "      <td>h</td>\n",
       "      <td>1.211000e+06</td>\n",
       "      <td>S</td>\n",
       "      <td>Jellis</td>\n",
       "      <td>24/09/2016</td>\n",
       "      <td>5.5</td>\n",
       "      <td>3070.0</td>\n",
       "      <td>Darebin City Council</td>\n",
       "      <td>Northern Metropolitan</td>\n",
       "      <td>11364.0</td>\n",
       "    </tr>\n",
       "    <tr>\n",
       "      <th>1481</th>\n",
       "      <td>Bentleigh East</td>\n",
       "      <td>21 Highview Rd</td>\n",
       "      <td>2.0</td>\n",
       "      <td>h</td>\n",
       "      <td>7.220000e+05</td>\n",
       "      <td>S</td>\n",
       "      <td>Buxton</td>\n",
       "      <td>16/04/2016</td>\n",
       "      <td>13.9</td>\n",
       "      <td>3165.0</td>\n",
       "      <td>Glen Eira City Council</td>\n",
       "      <td>Southern Metropolitan</td>\n",
       "      <td>10969.0</td>\n",
       "    </tr>\n",
       "    <tr>\n",
       "      <th>47059</th>\n",
       "      <td>Mitcham</td>\n",
       "      <td>9 Garden Av</td>\n",
       "      <td>4.0</td>\n",
       "      <td>h</td>\n",
       "      <td>1.575000e+06</td>\n",
       "      <td>S</td>\n",
       "      <td>Noel</td>\n",
       "      <td>10/09/2016</td>\n",
       "      <td>17.2</td>\n",
       "      <td>3132.0</td>\n",
       "      <td>Whitehorse City Council</td>\n",
       "      <td>Eastern Metropolitan</td>\n",
       "      <td>6871.0</td>\n",
       "    </tr>\n",
       "    <tr>\n",
       "      <th>73241</th>\n",
       "      <td>Northcote</td>\n",
       "      <td>4 Clifton St</td>\n",
       "      <td>5.0</td>\n",
       "      <td>h</td>\n",
       "      <td>8.986816e+05</td>\n",
       "      <td>SP</td>\n",
       "      <td>hockingstuart</td>\n",
       "      <td>28/05/2016</td>\n",
       "      <td>5.3</td>\n",
       "      <td>3070.0</td>\n",
       "      <td>Darebin City Council</td>\n",
       "      <td>Northern Metropolitan</td>\n",
       "      <td>11364.0</td>\n",
       "    </tr>\n",
       "    <tr>\n",
       "      <th>28507</th>\n",
       "      <td>Carlton</td>\n",
       "      <td>167 Station St</td>\n",
       "      <td>2.0</td>\n",
       "      <td>h</td>\n",
       "      <td>1.012202e+06</td>\n",
       "      <td>SP</td>\n",
       "      <td>Ray</td>\n",
       "      <td>25/11/2017</td>\n",
       "      <td>1.6</td>\n",
       "      <td>3053.0</td>\n",
       "      <td>Melbourne City Council</td>\n",
       "      <td>Northern Metropolitan</td>\n",
       "      <td>6786.0</td>\n",
       "    </tr>\n",
       "  </tbody>\n",
       "</table>\n",
       "</div>"
      ],
      "text/plain": [
       "               Suburb         Address  Rooms Type         Price Method  \\\n",
       "7404        Northcote   52 Charles St    2.0    h  1.211000e+06      S   \n",
       "1481   Bentleigh East  21 Highview Rd    2.0    h  7.220000e+05      S   \n",
       "47059         Mitcham     9 Garden Av    4.0    h  1.575000e+06      S   \n",
       "73241       Northcote    4 Clifton St    5.0    h  8.986816e+05     SP   \n",
       "28507         Carlton  167 Station St    2.0    h  1.012202e+06     SP   \n",
       "\n",
       "             SellerG        Date  Distance  Postcode              CouncilArea  \\\n",
       "7404          Jellis  24/09/2016       5.5    3070.0     Darebin City Council   \n",
       "1481          Buxton  16/04/2016      13.9    3165.0   Glen Eira City Council   \n",
       "47059           Noel  10/09/2016      17.2    3132.0  Whitehorse City Council   \n",
       "73241  hockingstuart  28/05/2016       5.3    3070.0     Darebin City Council   \n",
       "28507            Ray  25/11/2017       1.6    3053.0   Melbourne City Council   \n",
       "\n",
       "                  Regionname  Propertycount  \n",
       "7404   Northern Metropolitan        11364.0  \n",
       "1481   Southern Metropolitan        10969.0  \n",
       "47059   Eastern Metropolitan         6871.0  \n",
       "73241  Northern Metropolitan        11364.0  \n",
       "28507  Northern Metropolitan         6786.0  "
      ]
     },
     "execution_count": 88,
     "metadata": {},
     "output_type": "execute_result"
    }
   ],
   "source": [
    "df.sample(5)"
   ]
  },
  {
   "cell_type": "code",
   "execution_count": 89,
   "id": "67e78ddb",
   "metadata": {
    "execution": {
     "iopub.execute_input": "2023-03-16T13:33:33.195015Z",
     "iopub.status.busy": "2023-03-16T13:33:33.194235Z",
     "iopub.status.idle": "2023-03-16T13:33:33.202984Z",
     "shell.execute_reply": "2023-03-16T13:33:33.202104Z"
    },
    "papermill": {
     "duration": 0.061275,
     "end_time": "2023-03-16T13:33:33.205513",
     "exception": false,
     "start_time": "2023-03-16T13:33:33.144238",
     "status": "completed"
    },
    "tags": []
   },
   "outputs": [],
   "source": [
    "df = df.drop(['Address','Date','Suburb','SellerG'],axis=1)"
   ]
  },
  {
   "cell_type": "code",
   "execution_count": 90,
   "id": "0f176505",
   "metadata": {
    "execution": {
     "iopub.execute_input": "2023-03-16T13:33:33.306514Z",
     "iopub.status.busy": "2023-03-16T13:33:33.305740Z",
     "iopub.status.idle": "2023-03-16T13:33:33.312527Z",
     "shell.execute_reply": "2023-03-16T13:33:33.311396Z"
    },
    "papermill": {
     "duration": 0.059608,
     "end_time": "2023-03-16T13:33:33.314972",
     "exception": false,
     "start_time": "2023-03-16T13:33:33.255364",
     "status": "completed"
    },
    "tags": []
   },
   "outputs": [
    {
     "data": {
      "text/plain": [
       "(71652, 9)"
      ]
     },
     "execution_count": 90,
     "metadata": {},
     "output_type": "execute_result"
    }
   ],
   "source": [
    "df.shape"
   ]
  },
  {
   "cell_type": "code",
   "execution_count": 91,
   "id": "c6cd2e33",
   "metadata": {
    "execution": {
     "iopub.execute_input": "2023-03-16T13:33:33.414167Z",
     "iopub.status.busy": "2023-03-16T13:33:33.413728Z",
     "iopub.status.idle": "2023-03-16T13:33:33.441774Z",
     "shell.execute_reply": "2023-03-16T13:33:33.440337Z"
    },
    "papermill": {
     "duration": 0.08117,
     "end_time": "2023-03-16T13:33:33.444482",
     "exception": false,
     "start_time": "2023-03-16T13:33:33.363312",
     "status": "completed"
    },
    "tags": []
   },
   "outputs": [
    {
     "name": "stdout",
     "output_type": "stream",
     "text": [
      "<class 'pandas.core.frame.DataFrame'>\n",
      "Int64Index: 71652 entries, 0 to 76882\n",
      "Data columns (total 9 columns):\n",
      " #   Column         Non-Null Count  Dtype  \n",
      "---  ------         --------------  -----  \n",
      " 0   Rooms          71652 non-null  float64\n",
      " 1   Type           71652 non-null  object \n",
      " 2   Price          71652 non-null  float64\n",
      " 3   Method         71652 non-null  object \n",
      " 4   Distance       71652 non-null  float64\n",
      " 5   Postcode       71652 non-null  float64\n",
      " 6   CouncilArea    71652 non-null  object \n",
      " 7   Regionname     71652 non-null  object \n",
      " 8   Propertycount  71652 non-null  float64\n",
      "dtypes: float64(5), object(4)\n",
      "memory usage: 5.5+ MB\n"
     ]
    }
   ],
   "source": [
    "df.info()"
   ]
  },
  {
   "cell_type": "code",
   "execution_count": 92,
   "id": "60f310a8",
   "metadata": {
    "execution": {
     "iopub.execute_input": "2023-03-16T13:33:33.545420Z",
     "iopub.status.busy": "2023-03-16T13:33:33.544619Z",
     "iopub.status.idle": "2023-03-16T13:33:33.556143Z",
     "shell.execute_reply": "2023-03-16T13:33:33.554929Z"
    },
    "papermill": {
     "duration": 0.065025,
     "end_time": "2023-03-16T13:33:33.558770",
     "exception": false,
     "start_time": "2023-03-16T13:33:33.493745",
     "status": "completed"
    },
    "tags": []
   },
   "outputs": [
    {
     "data": {
      "text/plain": [
       "3"
      ]
     },
     "execution_count": 92,
     "metadata": {},
     "output_type": "execute_result"
    }
   ],
   "source": [
    "df.Type.nunique()"
   ]
  },
  {
   "cell_type": "code",
   "execution_count": 93,
   "id": "26bac397",
   "metadata": {
    "execution": {
     "iopub.execute_input": "2023-03-16T13:33:33.659980Z",
     "iopub.status.busy": "2023-03-16T13:33:33.659205Z",
     "iopub.status.idle": "2023-03-16T13:33:33.672535Z",
     "shell.execute_reply": "2023-03-16T13:33:33.671365Z"
    },
    "papermill": {
     "duration": 0.066883,
     "end_time": "2023-03-16T13:33:33.675305",
     "exception": false,
     "start_time": "2023-03-16T13:33:33.608422",
     "status": "completed"
    },
    "tags": []
   },
   "outputs": [
    {
     "data": {
      "text/plain": [
       "9"
      ]
     },
     "execution_count": 93,
     "metadata": {},
     "output_type": "execute_result"
    }
   ],
   "source": [
    "df.Method.nunique()"
   ]
  },
  {
   "cell_type": "code",
   "execution_count": 94,
   "id": "bf5302bb",
   "metadata": {
    "execution": {
     "iopub.execute_input": "2023-03-16T13:33:33.792955Z",
     "iopub.status.busy": "2023-03-16T13:33:33.791983Z",
     "iopub.status.idle": "2023-03-16T13:33:33.810372Z",
     "shell.execute_reply": "2023-03-16T13:33:33.809196Z"
    },
    "papermill": {
     "duration": 0.077478,
     "end_time": "2023-03-16T13:33:33.813028",
     "exception": false,
     "start_time": "2023-03-16T13:33:33.735550",
     "status": "completed"
    },
    "tags": []
   },
   "outputs": [
    {
     "data": {
      "text/plain": [
       "28"
      ]
     },
     "execution_count": 94,
     "metadata": {},
     "output_type": "execute_result"
    }
   ],
   "source": [
    "df.CouncilArea.nunique()"
   ]
  },
  {
   "cell_type": "code",
   "execution_count": 95,
   "id": "b740e7e9",
   "metadata": {
    "execution": {
     "iopub.execute_input": "2023-03-16T13:33:33.922636Z",
     "iopub.status.busy": "2023-03-16T13:33:33.921734Z",
     "iopub.status.idle": "2023-03-16T13:33:33.940132Z",
     "shell.execute_reply": "2023-03-16T13:33:33.938665Z"
    },
    "papermill": {
     "duration": 0.075188,
     "end_time": "2023-03-16T13:33:33.942970",
     "exception": false,
     "start_time": "2023-03-16T13:33:33.867782",
     "status": "completed"
    },
    "tags": []
   },
   "outputs": [
    {
     "data": {
      "text/plain": [
       "7"
      ]
     },
     "execution_count": 95,
     "metadata": {},
     "output_type": "execute_result"
    }
   ],
   "source": [
    "df.Regionname.nunique()"
   ]
  },
  {
   "cell_type": "markdown",
   "id": "67e1e66e",
   "metadata": {
    "papermill": {
     "duration": 0.059478,
     "end_time": "2023-03-16T13:33:34.053072",
     "exception": false,
     "start_time": "2023-03-16T13:33:33.993594",
     "status": "completed"
    },
    "tags": []
   },
   "source": [
    "### Encoding categorical features to numerical"
   ]
  },
  {
   "cell_type": "code",
   "execution_count": 96,
   "id": "c8842a33",
   "metadata": {
    "execution": {
     "iopub.execute_input": "2023-03-16T13:33:34.164419Z",
     "iopub.status.busy": "2023-03-16T13:33:34.163095Z",
     "iopub.status.idle": "2023-03-16T13:33:34.425825Z",
     "shell.execute_reply": "2023-03-16T13:33:34.424773Z"
    },
    "papermill": {
     "duration": 0.317292,
     "end_time": "2023-03-16T13:33:34.429435",
     "exception": false,
     "start_time": "2023-03-16T13:33:34.112143",
     "status": "completed"
    },
    "tags": []
   },
   "outputs": [],
   "source": [
    "# Import label encoder\n",
    "from sklearn import preprocessing\n",
    "  \n",
    "# label_encoder object knows how to understand word labels.\n",
    "label_encoder = preprocessing.LabelEncoder()\n",
    "  \n",
    "# Encode labels in column 'type'.\n",
    "\n",
    "df['Type']= label_encoder.fit_transform(df['Type'])\n",
    "\n",
    "# Encoding labels in Method.\n",
    "\n",
    "df['Method']= label_encoder.fit_transform(df['Method'])\n",
    "\n",
    "# Encoding labels in CouncilArea.\n",
    "\n",
    "df['CouncilArea']= label_encoder.fit_transform(df['CouncilArea'])\n",
    "\n",
    "# Encoding labels in Regionname.\n",
    "\n",
    "df['Regionname']= label_encoder.fit_transform(df['Regionname'])"
   ]
  },
  {
   "cell_type": "code",
   "execution_count": 97,
   "id": "d4efdc0b",
   "metadata": {
    "execution": {
     "iopub.execute_input": "2023-03-16T13:33:34.536516Z",
     "iopub.status.busy": "2023-03-16T13:33:34.535381Z",
     "iopub.status.idle": "2023-03-16T13:33:34.554651Z",
     "shell.execute_reply": "2023-03-16T13:33:34.553289Z"
    },
    "papermill": {
     "duration": 0.073534,
     "end_time": "2023-03-16T13:33:34.557448",
     "exception": false,
     "start_time": "2023-03-16T13:33:34.483914",
     "status": "completed"
    },
    "tags": []
   },
   "outputs": [
    {
     "data": {
      "text/html": [
       "<div>\n",
       "<style scoped>\n",
       "    .dataframe tbody tr th:only-of-type {\n",
       "        vertical-align: middle;\n",
       "    }\n",
       "\n",
       "    .dataframe tbody tr th {\n",
       "        vertical-align: top;\n",
       "    }\n",
       "\n",
       "    .dataframe thead th {\n",
       "        text-align: right;\n",
       "    }\n",
       "</style>\n",
       "<table border=\"1\" class=\"dataframe\">\n",
       "  <thead>\n",
       "    <tr style=\"text-align: right;\">\n",
       "      <th></th>\n",
       "      <th>Rooms</th>\n",
       "      <th>Type</th>\n",
       "      <th>Price</th>\n",
       "      <th>Method</th>\n",
       "      <th>Distance</th>\n",
       "      <th>Postcode</th>\n",
       "      <th>CouncilArea</th>\n",
       "      <th>Regionname</th>\n",
       "      <th>Propertycount</th>\n",
       "    </tr>\n",
       "  </thead>\n",
       "  <tbody>\n",
       "    <tr>\n",
       "      <th>0</th>\n",
       "      <td>2.0</td>\n",
       "      <td>0</td>\n",
       "      <td>1.012202e+06</td>\n",
       "      <td>6</td>\n",
       "      <td>2.5</td>\n",
       "      <td>3067.0</td>\n",
       "      <td>26</td>\n",
       "      <td>2</td>\n",
       "      <td>4019.0</td>\n",
       "    </tr>\n",
       "    <tr>\n",
       "      <th>1</th>\n",
       "      <td>2.0</td>\n",
       "      <td>0</td>\n",
       "      <td>1.480000e+06</td>\n",
       "      <td>2</td>\n",
       "      <td>2.5</td>\n",
       "      <td>3067.0</td>\n",
       "      <td>26</td>\n",
       "      <td>2</td>\n",
       "      <td>4019.0</td>\n",
       "    </tr>\n",
       "    <tr>\n",
       "      <th>2</th>\n",
       "      <td>2.0</td>\n",
       "      <td>0</td>\n",
       "      <td>1.035000e+06</td>\n",
       "      <td>2</td>\n",
       "      <td>2.5</td>\n",
       "      <td>3067.0</td>\n",
       "      <td>26</td>\n",
       "      <td>2</td>\n",
       "      <td>4019.0</td>\n",
       "    </tr>\n",
       "    <tr>\n",
       "      <th>3</th>\n",
       "      <td>3.0</td>\n",
       "      <td>2</td>\n",
       "      <td>1.012202e+06</td>\n",
       "      <td>7</td>\n",
       "      <td>2.5</td>\n",
       "      <td>3067.0</td>\n",
       "      <td>26</td>\n",
       "      <td>2</td>\n",
       "      <td>4019.0</td>\n",
       "    </tr>\n",
       "    <tr>\n",
       "      <th>4</th>\n",
       "      <td>3.0</td>\n",
       "      <td>0</td>\n",
       "      <td>1.465000e+06</td>\n",
       "      <td>5</td>\n",
       "      <td>2.5</td>\n",
       "      <td>3067.0</td>\n",
       "      <td>26</td>\n",
       "      <td>2</td>\n",
       "      <td>4019.0</td>\n",
       "    </tr>\n",
       "  </tbody>\n",
       "</table>\n",
       "</div>"
      ],
      "text/plain": [
       "   Rooms  Type         Price  Method  Distance  Postcode  CouncilArea  \\\n",
       "0    2.0     0  1.012202e+06       6       2.5    3067.0           26   \n",
       "1    2.0     0  1.480000e+06       2       2.5    3067.0           26   \n",
       "2    2.0     0  1.035000e+06       2       2.5    3067.0           26   \n",
       "3    3.0     2  1.012202e+06       7       2.5    3067.0           26   \n",
       "4    3.0     0  1.465000e+06       5       2.5    3067.0           26   \n",
       "\n",
       "   Regionname  Propertycount  \n",
       "0           2         4019.0  \n",
       "1           2         4019.0  \n",
       "2           2         4019.0  \n",
       "3           2         4019.0  \n",
       "4           2         4019.0  "
      ]
     },
     "execution_count": 97,
     "metadata": {},
     "output_type": "execute_result"
    }
   ],
   "source": [
    "df.head()"
   ]
  },
  {
   "cell_type": "code",
   "execution_count": 98,
   "id": "a79e7e85",
   "metadata": {
    "execution": {
     "iopub.execute_input": "2023-03-16T13:33:34.665436Z",
     "iopub.status.busy": "2023-03-16T13:33:34.664441Z",
     "iopub.status.idle": "2023-03-16T13:33:34.673842Z",
     "shell.execute_reply": "2023-03-16T13:33:34.672712Z"
    },
    "papermill": {
     "duration": 0.066569,
     "end_time": "2023-03-16T13:33:34.676224",
     "exception": false,
     "start_time": "2023-03-16T13:33:34.609655",
     "status": "completed"
    },
    "tags": []
   },
   "outputs": [
    {
     "data": {
      "text/plain": [
       "Rooms            float64\n",
       "Type               int64\n",
       "Price            float64\n",
       "Method             int64\n",
       "Distance         float64\n",
       "Postcode         float64\n",
       "CouncilArea        int64\n",
       "Regionname         int64\n",
       "Propertycount    float64\n",
       "dtype: object"
      ]
     },
     "execution_count": 98,
     "metadata": {},
     "output_type": "execute_result"
    }
   ],
   "source": [
    "df.dtypes"
   ]
  },
  {
   "cell_type": "code",
   "execution_count": 99,
   "id": "c87c8ca9",
   "metadata": {
    "execution": {
     "iopub.execute_input": "2023-03-16T13:33:34.781462Z",
     "iopub.status.busy": "2023-03-16T13:33:34.780341Z",
     "iopub.status.idle": "2023-03-16T13:33:34.791996Z",
     "shell.execute_reply": "2023-03-16T13:33:34.790704Z"
    },
    "papermill": {
     "duration": 0.069882,
     "end_time": "2023-03-16T13:33:34.795321",
     "exception": false,
     "start_time": "2023-03-16T13:33:34.725439",
     "status": "completed"
    },
    "tags": []
   },
   "outputs": [],
   "source": [
    "# Converting datatype from float to int\n",
    "\n",
    "df = df.astype({\"Rooms\":'int', \"Price\":'int',\"Postcode\":'int',\"Propertycount\":'int'}) "
   ]
  },
  {
   "cell_type": "code",
   "execution_count": 100,
   "id": "5b4e1f36",
   "metadata": {
    "execution": {
     "iopub.execute_input": "2023-03-16T13:33:34.897126Z",
     "iopub.status.busy": "2023-03-16T13:33:34.896684Z",
     "iopub.status.idle": "2023-03-16T13:33:34.904138Z",
     "shell.execute_reply": "2023-03-16T13:33:34.903333Z"
    },
    "papermill": {
     "duration": 0.060533,
     "end_time": "2023-03-16T13:33:34.906312",
     "exception": false,
     "start_time": "2023-03-16T13:33:34.845779",
     "status": "completed"
    },
    "tags": []
   },
   "outputs": [
    {
     "data": {
      "text/plain": [
       "Rooms              int64\n",
       "Type               int64\n",
       "Price              int64\n",
       "Method             int64\n",
       "Distance         float64\n",
       "Postcode           int64\n",
       "CouncilArea        int64\n",
       "Regionname         int64\n",
       "Propertycount      int64\n",
       "dtype: object"
      ]
     },
     "execution_count": 100,
     "metadata": {},
     "output_type": "execute_result"
    }
   ],
   "source": [
    "df.dtypes"
   ]
  },
  {
   "cell_type": "code",
   "execution_count": 101,
   "id": "7e5b96cb",
   "metadata": {
    "execution": {
     "iopub.execute_input": "2023-03-16T13:33:35.008254Z",
     "iopub.status.busy": "2023-03-16T13:33:35.007075Z",
     "iopub.status.idle": "2023-03-16T13:33:35.245314Z",
     "shell.execute_reply": "2023-03-16T13:33:35.244097Z"
    },
    "papermill": {
     "duration": 0.292348,
     "end_time": "2023-03-16T13:33:35.248404",
     "exception": false,
     "start_time": "2023-03-16T13:33:34.956056",
     "status": "completed"
    },
    "tags": []
   },
   "outputs": [],
   "source": [
    "df.to_csv('./clean_house_prediction.csv')"
   ]
  },
  {
   "cell_type": "markdown",
   "id": "475a0244",
   "metadata": {
    "papermill": {
     "duration": 0.049625,
     "end_time": "2023-03-16T13:33:35.347836",
     "exception": false,
     "start_time": "2023-03-16T13:33:35.298211",
     "status": "completed"
    },
    "tags": []
   },
   "source": [
    "## Model Building "
   ]
  },
  {
   "cell_type": "markdown",
   "id": "2a5bbd64",
   "metadata": {
    "papermill": {
     "duration": 0.049528,
     "end_time": "2023-03-16T13:33:35.449830",
     "exception": false,
     "start_time": "2023-03-16T13:33:35.400302",
     "status": "completed"
    },
    "tags": []
   },
   "source": [
    "### Splitting Dataset "
   ]
  },
  {
   "cell_type": "code",
   "execution_count": 102,
   "id": "ae05bf1d",
   "metadata": {
    "execution": {
     "iopub.execute_input": "2023-03-16T13:33:35.551894Z",
     "iopub.status.busy": "2023-03-16T13:33:35.551231Z",
     "iopub.status.idle": "2023-03-16T13:33:35.564637Z",
     "shell.execute_reply": "2023-03-16T13:33:35.563706Z"
    },
    "papermill": {
     "duration": 0.068102,
     "end_time": "2023-03-16T13:33:35.567258",
     "exception": false,
     "start_time": "2023-03-16T13:33:35.499156",
     "status": "completed"
    },
    "tags": []
   },
   "outputs": [],
   "source": [
    "# Splitting the data into X,y\n",
    "X = df.drop(\"Price\",axis = 1)\n",
    "Y = df[\"Price\"].values.reshape(-1,1)"
   ]
  },
  {
   "cell_type": "code",
   "execution_count": 103,
   "id": "90eaf137",
   "metadata": {
    "execution": {
     "iopub.execute_input": "2023-03-16T13:33:35.670359Z",
     "iopub.status.busy": "2023-03-16T13:33:35.669572Z",
     "iopub.status.idle": "2023-03-16T13:33:35.754450Z",
     "shell.execute_reply": "2023-03-16T13:33:35.753061Z"
    },
    "papermill": {
     "duration": 0.14086,
     "end_time": "2023-03-16T13:33:35.757430",
     "exception": false,
     "start_time": "2023-03-16T13:33:35.616570",
     "status": "completed"
    },
    "tags": []
   },
   "outputs": [],
   "source": [
    "from sklearn.model_selection import train_test_split\n",
    "# using the train test split function\n",
    "X_train, X_test,Y_train, Y_test = train_test_split(X,Y ,random_state=104, test_size=0.25, shuffle=True)"
   ]
  },
  {
   "cell_type": "code",
   "execution_count": 104,
   "id": "961d4db4",
   "metadata": {
    "execution": {
     "iopub.execute_input": "2023-03-16T13:33:35.859350Z",
     "iopub.status.busy": "2023-03-16T13:33:35.858847Z",
     "iopub.status.idle": "2023-03-16T13:33:35.881499Z",
     "shell.execute_reply": "2023-03-16T13:33:35.880356Z"
    },
    "papermill": {
     "duration": 0.077425,
     "end_time": "2023-03-16T13:33:35.884486",
     "exception": false,
     "start_time": "2023-03-16T13:33:35.807061",
     "status": "completed"
    },
    "tags": []
   },
   "outputs": [],
   "source": [
    "##normalising the data\n",
    "from sklearn.preprocessing import StandardScaler\n",
    "scaler=StandardScaler()\n",
    "X_train=scaler.fit_transform(X_train)\n",
    "X_test=scaler.transform(X_test) "
   ]
  },
  {
   "cell_type": "markdown",
   "id": "04c69ead",
   "metadata": {
    "papermill": {
     "duration": 0.049256,
     "end_time": "2023-03-16T13:33:35.983697",
     "exception": false,
     "start_time": "2023-03-16T13:33:35.934441",
     "status": "completed"
    },
    "tags": []
   },
   "source": [
    "### Model Deployment "
   ]
  },
  {
   "cell_type": "code",
   "execution_count": 105,
   "id": "aa42fddf",
   "metadata": {
    "execution": {
     "iopub.execute_input": "2023-03-16T13:33:36.085096Z",
     "iopub.status.busy": "2023-03-16T13:33:36.084650Z",
     "iopub.status.idle": "2023-03-16T13:33:36.541972Z",
     "shell.execute_reply": "2023-03-16T13:33:36.540693Z"
    },
    "papermill": {
     "duration": 0.510896,
     "end_time": "2023-03-16T13:33:36.544959",
     "exception": false,
     "start_time": "2023-03-16T13:33:36.034063",
     "status": "completed"
    },
    "tags": []
   },
   "outputs": [],
   "source": [
    "from sklearn.metrics import mean_squared_error,r2_score,mean_absolute_error\n",
    "from sklearn.ensemble import RandomForestRegressor\n",
    "from sklearn.linear_model import LinearRegression\n",
    "from sklearn.ensemble import GradientBoostingRegressor\n",
    "from sklearn.ensemble import AdaBoostRegressor\n",
    "from xgboost import XGBRegressor\n",
    "from sklearn.tree import DecisionTreeRegressor\n"
   ]
  },
  {
   "cell_type": "code",
   "execution_count": 106,
   "id": "6a0b45e2",
   "metadata": {
    "execution": {
     "iopub.execute_input": "2023-03-16T13:33:36.647090Z",
     "iopub.status.busy": "2023-03-16T13:33:36.646654Z",
     "iopub.status.idle": "2023-03-16T13:33:36.654246Z",
     "shell.execute_reply": "2023-03-16T13:33:36.653046Z"
    },
    "papermill": {
     "duration": 0.061185,
     "end_time": "2023-03-16T13:33:36.656563",
     "exception": false,
     "start_time": "2023-03-16T13:33:36.595378",
     "status": "completed"
    },
    "tags": []
   },
   "outputs": [],
   "source": [
    "def get_accuracy(model_name):\n",
    "    model         = model_name\n",
    "    model.fit(X_train,Y_train)\n",
    "    Y_pred_train  = model.predict(X_train)\n",
    "    mse_train     = mean_squared_error(Y_train,Y_pred_train)\n",
    "    mae_train     = mean_absolute_error(Y_train,Y_pred_train)\n",
    "    r2score_train = r2_score(Y_train,Y_pred_train)*100\n",
    "    \n",
    "    Y_pred_test   = model.predict(X_test)\n",
    "    mse_test      = mean_squared_error(Y_test,Y_pred_test)\n",
    "    mae_test      = mean_absolute_error(Y_test,Y_pred_test)\n",
    "    r2score_test = r2_score(Y_test,Y_pred_test)*100\n",
    "    \n",
    "    return print(f\"mse_train {mse_train} \\nmae_train {mae_train} \\nr2score_train {r2score_train} \\nmse_test {mse_test} \\nmae_test {mae_test} \\nr2score_test {r2score_test}\")"
   ]
  },
  {
   "cell_type": "code",
   "execution_count": 107,
   "id": "52098f28",
   "metadata": {
    "execution": {
     "iopub.execute_input": "2023-03-16T13:33:36.759799Z",
     "iopub.status.busy": "2023-03-16T13:33:36.757830Z",
     "iopub.status.idle": "2023-03-16T13:33:55.531229Z",
     "shell.execute_reply": "2023-03-16T13:33:55.529499Z"
    },
    "papermill": {
     "duration": 18.827622,
     "end_time": "2023-03-16T13:33:55.534201",
     "exception": false,
     "start_time": "2023-03-16T13:33:36.706579",
     "status": "completed"
    },
    "tags": []
   },
   "outputs": [
    {
     "name": "stdout",
     "output_type": "stream",
     "text": [
      "LinearRegression\n",
      "mse_train 56309788719.77774 \n",
      "mae_train 190292.61142642514 \n",
      "r2score_train 32.84794998341465 \n",
      "mse_test 56695832636.87382 \n",
      "mae_test 191231.41491712225 \n",
      "r2score_test 32.23991611856199\n",
      "None\n",
      "****************************************************************************************************\n",
      "DecisionTreeRegressor\n",
      "mse_train 29076228670.60793 \n",
      "mae_train 120221.37087662096 \n",
      "r2score_train 65.32524084402135 \n",
      "mse_test 44494831448.23335 \n",
      "mae_test 152020.64145686777 \n",
      "r2score_test 46.82195549480546\n",
      "None\n",
      "****************************************************************************************************\n",
      "RandomForestRegressor\n",
      "mse_train 29546645805.38215 \n",
      "mae_train 124694.21856454702 \n",
      "r2score_train 64.76424646486961 \n",
      "mse_test 41595010817.41814 \n",
      "mae_test 149726.8885121393 \n",
      "r2score_test 50.28767916524978\n",
      "None\n",
      "****************************************************************************************************\n",
      "XGBRegressor\n",
      "mse_train 34082339023.361137 \n",
      "mae_train 139762.250273021 \n",
      "r2score_train 59.35522070294851 \n",
      "mse_test 38562614720.88592 \n",
      "mae_test 148365.68597875844 \n",
      "r2score_test 53.911850542691234\n",
      "None\n",
      "****************************************************************************************************\n",
      "AdaBoostRegressor\n",
      "mse_train 61971266216.43066 \n",
      "mae_train 214301.88349541964 \n",
      "r2score_train 26.096373949007013 \n",
      "mse_test 61984407250.49988 \n",
      "mae_test 213619.87888189996 \n",
      "r2score_test 25.91927061842908\n",
      "None\n",
      "****************************************************************************************************\n",
      "GradientBoostingRegressor\n",
      "mse_train 43098914047.75006 \n",
      "mae_train 163525.4219062867 \n",
      "r2score_train 48.60253434446826 \n",
      "mse_test 44094394213.81568 \n",
      "mae_test 165118.54348145614 \n",
      "r2score_test 47.30053847580123\n",
      "None\n",
      "****************************************************************************************************\n"
     ]
    }
   ],
   "source": [
    "for model_name,model in [(\"LinearRegression\",LinearRegression()),(\"DecisionTreeRegressor\",DecisionTreeRegressor()),(\"RandomForestRegressor\",RandomForestRegressor()),(\"XGBRegressor\",XGBRegressor()),(\"AdaBoostRegressor\",AdaBoostRegressor()),(\"GradientBoostingRegressor\",GradientBoostingRegressor())]:\n",
    "    print(model_name)\n",
    "    print(get_accuracy(model))\n",
    "    print(\"*\"*100)"
   ]
  }
 ],
 "metadata": {
  "kernelspec": {
   "display_name": "Python 3",
   "language": "python",
   "name": "python3"
  },
  "language_info": {
   "codemirror_mode": {
    "name": "ipython",
    "version": 3
   },
   "file_extension": ".py",
   "mimetype": "text/x-python",
   "name": "python",
   "nbconvert_exporter": "python",
   "pygments_lexer": "ipython3",
   "version": "3.7.12"
  },
  "papermill": {
   "default_parameters": {},
   "duration": 55.731171,
   "end_time": "2023-03-16T13:33:56.510028",
   "environment_variables": {},
   "exception": null,
   "input_path": "__notebook__.ipynb",
   "output_path": "__notebook__.ipynb",
   "parameters": {},
   "start_time": "2023-03-16T13:33:00.778857",
   "version": "2.4.0"
  }
 },
 "nbformat": 4,
 "nbformat_minor": 5
}
